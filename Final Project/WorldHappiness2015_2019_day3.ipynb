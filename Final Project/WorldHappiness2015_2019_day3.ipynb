{
 "cells": [
  {
   "cell_type": "code",
   "execution_count": 1,
   "metadata": {},
   "outputs": [],
   "source": [
    "#pip install plotly"
   ]
  },
  {
   "cell_type": "code",
   "execution_count": 2,
   "metadata": {},
   "outputs": [],
   "source": [
    "# Dependencies and Setup\n",
    "import matplotlib.pyplot as plt\n",
    "import pandas as pd\n",
    "import numpy as np\n",
    "import requests\n",
    "import gmaps\n",
    "import os\n",
    "import json\n",
    "import pymongo\n",
    "\n",
    "# Import API key\n",
    "#from api_keys import g_key\n",
    "#from api_keys import aqi_key"
   ]
  },
  {
   "cell_type": "code",
   "execution_count": 3,
   "metadata": {},
   "outputs": [],
   "source": [
    "YR2015 = pd.read_csv('2015.csv')\n",
    "YR2016 = pd.read_csv('2016.csv')\n",
    "YR2017 = pd.read_csv('2017.csv')\n",
    "YR2018 = pd.read_csv('2018.csv')\n",
    "YR2019 = pd.read_csv('2019.csv')"
   ]
  },
  {
   "cell_type": "code",
   "execution_count": 4,
   "metadata": {},
   "outputs": [
    {
     "data": {
      "text/html": [
       "<div>\n",
       "<style scoped>\n",
       "    .dataframe tbody tr th:only-of-type {\n",
       "        vertical-align: middle;\n",
       "    }\n",
       "\n",
       "    .dataframe tbody tr th {\n",
       "        vertical-align: top;\n",
       "    }\n",
       "\n",
       "    .dataframe thead th {\n",
       "        text-align: right;\n",
       "    }\n",
       "</style>\n",
       "<table border=\"1\" class=\"dataframe\">\n",
       "  <thead>\n",
       "    <tr style=\"text-align: right;\">\n",
       "      <th></th>\n",
       "      <th>Country</th>\n",
       "      <th>Region</th>\n",
       "      <th>Happiness Rank</th>\n",
       "      <th>Happiness Score</th>\n",
       "      <th>Standard Error</th>\n",
       "      <th>Economy (GDP per Capita)</th>\n",
       "      <th>Family</th>\n",
       "      <th>Health (Life Expectancy)</th>\n",
       "      <th>Freedom</th>\n",
       "      <th>Trust (Government Corruption)</th>\n",
       "      <th>Generosity</th>\n",
       "      <th>Dystopia Residual</th>\n",
       "    </tr>\n",
       "  </thead>\n",
       "  <tbody>\n",
       "    <tr>\n",
       "      <td>0</td>\n",
       "      <td>Switzerland</td>\n",
       "      <td>Western Europe</td>\n",
       "      <td>1</td>\n",
       "      <td>7.587</td>\n",
       "      <td>0.03411</td>\n",
       "      <td>1.39651</td>\n",
       "      <td>1.34951</td>\n",
       "      <td>0.94143</td>\n",
       "      <td>0.66557</td>\n",
       "      <td>0.41978</td>\n",
       "      <td>0.29678</td>\n",
       "      <td>2.51738</td>\n",
       "    </tr>\n",
       "    <tr>\n",
       "      <td>1</td>\n",
       "      <td>Iceland</td>\n",
       "      <td>Western Europe</td>\n",
       "      <td>2</td>\n",
       "      <td>7.561</td>\n",
       "      <td>0.04884</td>\n",
       "      <td>1.30232</td>\n",
       "      <td>1.40223</td>\n",
       "      <td>0.94784</td>\n",
       "      <td>0.62877</td>\n",
       "      <td>0.14145</td>\n",
       "      <td>0.43630</td>\n",
       "      <td>2.70201</td>\n",
       "    </tr>\n",
       "  </tbody>\n",
       "</table>\n",
       "</div>"
      ],
      "text/plain": [
       "       Country          Region  Happiness Rank  Happiness Score  \\\n",
       "0  Switzerland  Western Europe               1            7.587   \n",
       "1      Iceland  Western Europe               2            7.561   \n",
       "\n",
       "   Standard Error  Economy (GDP per Capita)   Family  \\\n",
       "0         0.03411                   1.39651  1.34951   \n",
       "1         0.04884                   1.30232  1.40223   \n",
       "\n",
       "   Health (Life Expectancy)  Freedom  Trust (Government Corruption)  \\\n",
       "0                   0.94143  0.66557                        0.41978   \n",
       "1                   0.94784  0.62877                        0.14145   \n",
       "\n",
       "   Generosity  Dystopia Residual  \n",
       "0     0.29678            2.51738  \n",
       "1     0.43630            2.70201  "
      ]
     },
     "execution_count": 4,
     "metadata": {},
     "output_type": "execute_result"
    }
   ],
   "source": [
    "YR2015.head(2)"
   ]
  },
  {
   "cell_type": "code",
   "execution_count": 5,
   "metadata": {},
   "outputs": [
    {
     "data": {
      "text/html": [
       "<div>\n",
       "<style scoped>\n",
       "    .dataframe tbody tr th:only-of-type {\n",
       "        vertical-align: middle;\n",
       "    }\n",
       "\n",
       "    .dataframe tbody tr th {\n",
       "        vertical-align: top;\n",
       "    }\n",
       "\n",
       "    .dataframe thead th {\n",
       "        text-align: right;\n",
       "    }\n",
       "</style>\n",
       "<table border=\"1\" class=\"dataframe\">\n",
       "  <thead>\n",
       "    <tr style=\"text-align: right;\">\n",
       "      <th></th>\n",
       "      <th>Country</th>\n",
       "      <th>Happiness Rank</th>\n",
       "      <th>Happiness Score</th>\n",
       "      <th>Economy (GDP per Capita)</th>\n",
       "      <th>Family</th>\n",
       "      <th>Health (Life Expectancy)</th>\n",
       "      <th>Freedom</th>\n",
       "      <th>Trust (Government Corruption)</th>\n",
       "      <th>Generosity</th>\n",
       "    </tr>\n",
       "  </thead>\n",
       "  <tbody>\n",
       "    <tr>\n",
       "      <td>0</td>\n",
       "      <td>Switzerland</td>\n",
       "      <td>1</td>\n",
       "      <td>7.587</td>\n",
       "      <td>1.39651</td>\n",
       "      <td>1.34951</td>\n",
       "      <td>0.94143</td>\n",
       "      <td>0.66557</td>\n",
       "      <td>0.41978</td>\n",
       "      <td>0.29678</td>\n",
       "    </tr>\n",
       "    <tr>\n",
       "      <td>1</td>\n",
       "      <td>Iceland</td>\n",
       "      <td>2</td>\n",
       "      <td>7.561</td>\n",
       "      <td>1.30232</td>\n",
       "      <td>1.40223</td>\n",
       "      <td>0.94784</td>\n",
       "      <td>0.62877</td>\n",
       "      <td>0.14145</td>\n",
       "      <td>0.43630</td>\n",
       "    </tr>\n",
       "    <tr>\n",
       "      <td>2</td>\n",
       "      <td>Denmark</td>\n",
       "      <td>3</td>\n",
       "      <td>7.527</td>\n",
       "      <td>1.32548</td>\n",
       "      <td>1.36058</td>\n",
       "      <td>0.87464</td>\n",
       "      <td>0.64938</td>\n",
       "      <td>0.48357</td>\n",
       "      <td>0.34139</td>\n",
       "    </tr>\n",
       "    <tr>\n",
       "      <td>3</td>\n",
       "      <td>Norway</td>\n",
       "      <td>4</td>\n",
       "      <td>7.522</td>\n",
       "      <td>1.45900</td>\n",
       "      <td>1.33095</td>\n",
       "      <td>0.88521</td>\n",
       "      <td>0.66973</td>\n",
       "      <td>0.36503</td>\n",
       "      <td>0.34699</td>\n",
       "    </tr>\n",
       "    <tr>\n",
       "      <td>4</td>\n",
       "      <td>Canada</td>\n",
       "      <td>5</td>\n",
       "      <td>7.427</td>\n",
       "      <td>1.32629</td>\n",
       "      <td>1.32261</td>\n",
       "      <td>0.90563</td>\n",
       "      <td>0.63297</td>\n",
       "      <td>0.32957</td>\n",
       "      <td>0.45811</td>\n",
       "    </tr>\n",
       "    <tr>\n",
       "      <td>...</td>\n",
       "      <td>...</td>\n",
       "      <td>...</td>\n",
       "      <td>...</td>\n",
       "      <td>...</td>\n",
       "      <td>...</td>\n",
       "      <td>...</td>\n",
       "      <td>...</td>\n",
       "      <td>...</td>\n",
       "      <td>...</td>\n",
       "    </tr>\n",
       "    <tr>\n",
       "      <td>153</td>\n",
       "      <td>Rwanda</td>\n",
       "      <td>154</td>\n",
       "      <td>3.465</td>\n",
       "      <td>0.22208</td>\n",
       "      <td>0.77370</td>\n",
       "      <td>0.42864</td>\n",
       "      <td>0.59201</td>\n",
       "      <td>0.55191</td>\n",
       "      <td>0.22628</td>\n",
       "    </tr>\n",
       "    <tr>\n",
       "      <td>154</td>\n",
       "      <td>Benin</td>\n",
       "      <td>155</td>\n",
       "      <td>3.340</td>\n",
       "      <td>0.28665</td>\n",
       "      <td>0.35386</td>\n",
       "      <td>0.31910</td>\n",
       "      <td>0.48450</td>\n",
       "      <td>0.08010</td>\n",
       "      <td>0.18260</td>\n",
       "    </tr>\n",
       "    <tr>\n",
       "      <td>155</td>\n",
       "      <td>Syria</td>\n",
       "      <td>156</td>\n",
       "      <td>3.006</td>\n",
       "      <td>0.66320</td>\n",
       "      <td>0.47489</td>\n",
       "      <td>0.72193</td>\n",
       "      <td>0.15684</td>\n",
       "      <td>0.18906</td>\n",
       "      <td>0.47179</td>\n",
       "    </tr>\n",
       "    <tr>\n",
       "      <td>156</td>\n",
       "      <td>Burundi</td>\n",
       "      <td>157</td>\n",
       "      <td>2.905</td>\n",
       "      <td>0.01530</td>\n",
       "      <td>0.41587</td>\n",
       "      <td>0.22396</td>\n",
       "      <td>0.11850</td>\n",
       "      <td>0.10062</td>\n",
       "      <td>0.19727</td>\n",
       "    </tr>\n",
       "    <tr>\n",
       "      <td>157</td>\n",
       "      <td>Togo</td>\n",
       "      <td>158</td>\n",
       "      <td>2.839</td>\n",
       "      <td>0.20868</td>\n",
       "      <td>0.13995</td>\n",
       "      <td>0.28443</td>\n",
       "      <td>0.36453</td>\n",
       "      <td>0.10731</td>\n",
       "      <td>0.16681</td>\n",
       "    </tr>\n",
       "  </tbody>\n",
       "</table>\n",
       "<p>158 rows × 9 columns</p>\n",
       "</div>"
      ],
      "text/plain": [
       "         Country  Happiness Rank  Happiness Score  Economy (GDP per Capita)  \\\n",
       "0    Switzerland               1            7.587                   1.39651   \n",
       "1        Iceland               2            7.561                   1.30232   \n",
       "2        Denmark               3            7.527                   1.32548   \n",
       "3         Norway               4            7.522                   1.45900   \n",
       "4         Canada               5            7.427                   1.32629   \n",
       "..           ...             ...              ...                       ...   \n",
       "153       Rwanda             154            3.465                   0.22208   \n",
       "154        Benin             155            3.340                   0.28665   \n",
       "155        Syria             156            3.006                   0.66320   \n",
       "156      Burundi             157            2.905                   0.01530   \n",
       "157         Togo             158            2.839                   0.20868   \n",
       "\n",
       "      Family  Health (Life Expectancy)  Freedom  \\\n",
       "0    1.34951                   0.94143  0.66557   \n",
       "1    1.40223                   0.94784  0.62877   \n",
       "2    1.36058                   0.87464  0.64938   \n",
       "3    1.33095                   0.88521  0.66973   \n",
       "4    1.32261                   0.90563  0.63297   \n",
       "..       ...                       ...      ...   \n",
       "153  0.77370                   0.42864  0.59201   \n",
       "154  0.35386                   0.31910  0.48450   \n",
       "155  0.47489                   0.72193  0.15684   \n",
       "156  0.41587                   0.22396  0.11850   \n",
       "157  0.13995                   0.28443  0.36453   \n",
       "\n",
       "     Trust (Government Corruption)  Generosity  \n",
       "0                          0.41978     0.29678  \n",
       "1                          0.14145     0.43630  \n",
       "2                          0.48357     0.34139  \n",
       "3                          0.36503     0.34699  \n",
       "4                          0.32957     0.45811  \n",
       "..                             ...         ...  \n",
       "153                        0.55191     0.22628  \n",
       "154                        0.08010     0.18260  \n",
       "155                        0.18906     0.47179  \n",
       "156                        0.10062     0.19727  \n",
       "157                        0.10731     0.16681  \n",
       "\n",
       "[158 rows x 9 columns]"
      ]
     },
     "execution_count": 5,
     "metadata": {},
     "output_type": "execute_result"
    }
   ],
   "source": [
    "YR2015.drop(['Region', 'Standard Error', 'Dystopia Residual'], axis=1, inplace=True)\n",
    "YR2015"
   ]
  },
  {
   "cell_type": "code",
   "execution_count": 6,
   "metadata": {},
   "outputs": [
    {
     "data": {
      "text/html": [
       "<div>\n",
       "<style scoped>\n",
       "    .dataframe tbody tr th:only-of-type {\n",
       "        vertical-align: middle;\n",
       "    }\n",
       "\n",
       "    .dataframe tbody tr th {\n",
       "        vertical-align: top;\n",
       "    }\n",
       "\n",
       "    .dataframe thead th {\n",
       "        text-align: right;\n",
       "    }\n",
       "</style>\n",
       "<table border=\"1\" class=\"dataframe\">\n",
       "  <thead>\n",
       "    <tr style=\"text-align: right;\">\n",
       "      <th></th>\n",
       "      <th>Country</th>\n",
       "      <th>Region</th>\n",
       "      <th>Happiness Rank</th>\n",
       "      <th>Happiness Score</th>\n",
       "      <th>Lower Confidence Interval</th>\n",
       "      <th>Upper Confidence Interval</th>\n",
       "      <th>Economy (GDP per Capita)</th>\n",
       "      <th>Family</th>\n",
       "      <th>Health (Life Expectancy)</th>\n",
       "      <th>Freedom</th>\n",
       "      <th>Trust (Government Corruption)</th>\n",
       "      <th>Generosity</th>\n",
       "      <th>Dystopia Residual</th>\n",
       "    </tr>\n",
       "  </thead>\n",
       "  <tbody>\n",
       "    <tr>\n",
       "      <td>0</td>\n",
       "      <td>Denmark</td>\n",
       "      <td>Western Europe</td>\n",
       "      <td>1</td>\n",
       "      <td>7.526</td>\n",
       "      <td>7.460</td>\n",
       "      <td>7.592</td>\n",
       "      <td>1.44178</td>\n",
       "      <td>1.16374</td>\n",
       "      <td>0.79504</td>\n",
       "      <td>0.57941</td>\n",
       "      <td>0.44453</td>\n",
       "      <td>0.36171</td>\n",
       "      <td>2.73939</td>\n",
       "    </tr>\n",
       "    <tr>\n",
       "      <td>1</td>\n",
       "      <td>Switzerland</td>\n",
       "      <td>Western Europe</td>\n",
       "      <td>2</td>\n",
       "      <td>7.509</td>\n",
       "      <td>7.428</td>\n",
       "      <td>7.590</td>\n",
       "      <td>1.52733</td>\n",
       "      <td>1.14524</td>\n",
       "      <td>0.86303</td>\n",
       "      <td>0.58557</td>\n",
       "      <td>0.41203</td>\n",
       "      <td>0.28083</td>\n",
       "      <td>2.69463</td>\n",
       "    </tr>\n",
       "  </tbody>\n",
       "</table>\n",
       "</div>"
      ],
      "text/plain": [
       "       Country          Region  Happiness Rank  Happiness Score  \\\n",
       "0      Denmark  Western Europe               1            7.526   \n",
       "1  Switzerland  Western Europe               2            7.509   \n",
       "\n",
       "   Lower Confidence Interval  Upper Confidence Interval  \\\n",
       "0                      7.460                      7.592   \n",
       "1                      7.428                      7.590   \n",
       "\n",
       "   Economy (GDP per Capita)   Family  Health (Life Expectancy)  Freedom  \\\n",
       "0                   1.44178  1.16374                   0.79504  0.57941   \n",
       "1                   1.52733  1.14524                   0.86303  0.58557   \n",
       "\n",
       "   Trust (Government Corruption)  Generosity  Dystopia Residual  \n",
       "0                        0.44453     0.36171            2.73939  \n",
       "1                        0.41203     0.28083            2.69463  "
      ]
     },
     "execution_count": 6,
     "metadata": {},
     "output_type": "execute_result"
    }
   ],
   "source": [
    "YR2016.head(2)"
   ]
  },
  {
   "cell_type": "code",
   "execution_count": 7,
   "metadata": {},
   "outputs": [
    {
     "data": {
      "text/html": [
       "<div>\n",
       "<style scoped>\n",
       "    .dataframe tbody tr th:only-of-type {\n",
       "        vertical-align: middle;\n",
       "    }\n",
       "\n",
       "    .dataframe tbody tr th {\n",
       "        vertical-align: top;\n",
       "    }\n",
       "\n",
       "    .dataframe thead th {\n",
       "        text-align: right;\n",
       "    }\n",
       "</style>\n",
       "<table border=\"1\" class=\"dataframe\">\n",
       "  <thead>\n",
       "    <tr style=\"text-align: right;\">\n",
       "      <th></th>\n",
       "      <th>Country</th>\n",
       "      <th>Happiness Rank</th>\n",
       "      <th>Happiness Score</th>\n",
       "      <th>Economy (GDP per Capita)</th>\n",
       "      <th>Family</th>\n",
       "      <th>Health (Life Expectancy)</th>\n",
       "      <th>Freedom</th>\n",
       "      <th>Trust (Government Corruption)</th>\n",
       "      <th>Generosity</th>\n",
       "    </tr>\n",
       "  </thead>\n",
       "  <tbody>\n",
       "    <tr>\n",
       "      <td>0</td>\n",
       "      <td>Denmark</td>\n",
       "      <td>1</td>\n",
       "      <td>7.526</td>\n",
       "      <td>1.44178</td>\n",
       "      <td>1.16374</td>\n",
       "      <td>0.79504</td>\n",
       "      <td>0.57941</td>\n",
       "      <td>0.44453</td>\n",
       "      <td>0.36171</td>\n",
       "    </tr>\n",
       "    <tr>\n",
       "      <td>1</td>\n",
       "      <td>Switzerland</td>\n",
       "      <td>2</td>\n",
       "      <td>7.509</td>\n",
       "      <td>1.52733</td>\n",
       "      <td>1.14524</td>\n",
       "      <td>0.86303</td>\n",
       "      <td>0.58557</td>\n",
       "      <td>0.41203</td>\n",
       "      <td>0.28083</td>\n",
       "    </tr>\n",
       "    <tr>\n",
       "      <td>2</td>\n",
       "      <td>Iceland</td>\n",
       "      <td>3</td>\n",
       "      <td>7.501</td>\n",
       "      <td>1.42666</td>\n",
       "      <td>1.18326</td>\n",
       "      <td>0.86733</td>\n",
       "      <td>0.56624</td>\n",
       "      <td>0.14975</td>\n",
       "      <td>0.47678</td>\n",
       "    </tr>\n",
       "    <tr>\n",
       "      <td>3</td>\n",
       "      <td>Norway</td>\n",
       "      <td>4</td>\n",
       "      <td>7.498</td>\n",
       "      <td>1.57744</td>\n",
       "      <td>1.12690</td>\n",
       "      <td>0.79579</td>\n",
       "      <td>0.59609</td>\n",
       "      <td>0.35776</td>\n",
       "      <td>0.37895</td>\n",
       "    </tr>\n",
       "    <tr>\n",
       "      <td>4</td>\n",
       "      <td>Finland</td>\n",
       "      <td>5</td>\n",
       "      <td>7.413</td>\n",
       "      <td>1.40598</td>\n",
       "      <td>1.13464</td>\n",
       "      <td>0.81091</td>\n",
       "      <td>0.57104</td>\n",
       "      <td>0.41004</td>\n",
       "      <td>0.25492</td>\n",
       "    </tr>\n",
       "    <tr>\n",
       "      <td>...</td>\n",
       "      <td>...</td>\n",
       "      <td>...</td>\n",
       "      <td>...</td>\n",
       "      <td>...</td>\n",
       "      <td>...</td>\n",
       "      <td>...</td>\n",
       "      <td>...</td>\n",
       "      <td>...</td>\n",
       "      <td>...</td>\n",
       "    </tr>\n",
       "    <tr>\n",
       "      <td>152</td>\n",
       "      <td>Benin</td>\n",
       "      <td>153</td>\n",
       "      <td>3.484</td>\n",
       "      <td>0.39499</td>\n",
       "      <td>0.10419</td>\n",
       "      <td>0.21028</td>\n",
       "      <td>0.39747</td>\n",
       "      <td>0.06681</td>\n",
       "      <td>0.20180</td>\n",
       "    </tr>\n",
       "    <tr>\n",
       "      <td>153</td>\n",
       "      <td>Afghanistan</td>\n",
       "      <td>154</td>\n",
       "      <td>3.360</td>\n",
       "      <td>0.38227</td>\n",
       "      <td>0.11037</td>\n",
       "      <td>0.17344</td>\n",
       "      <td>0.16430</td>\n",
       "      <td>0.07112</td>\n",
       "      <td>0.31268</td>\n",
       "    </tr>\n",
       "    <tr>\n",
       "      <td>154</td>\n",
       "      <td>Togo</td>\n",
       "      <td>155</td>\n",
       "      <td>3.303</td>\n",
       "      <td>0.28123</td>\n",
       "      <td>0.00000</td>\n",
       "      <td>0.24811</td>\n",
       "      <td>0.34678</td>\n",
       "      <td>0.11587</td>\n",
       "      <td>0.17517</td>\n",
       "    </tr>\n",
       "    <tr>\n",
       "      <td>155</td>\n",
       "      <td>Syria</td>\n",
       "      <td>156</td>\n",
       "      <td>3.069</td>\n",
       "      <td>0.74719</td>\n",
       "      <td>0.14866</td>\n",
       "      <td>0.62994</td>\n",
       "      <td>0.06912</td>\n",
       "      <td>0.17233</td>\n",
       "      <td>0.48397</td>\n",
       "    </tr>\n",
       "    <tr>\n",
       "      <td>156</td>\n",
       "      <td>Burundi</td>\n",
       "      <td>157</td>\n",
       "      <td>2.905</td>\n",
       "      <td>0.06831</td>\n",
       "      <td>0.23442</td>\n",
       "      <td>0.15747</td>\n",
       "      <td>0.04320</td>\n",
       "      <td>0.09419</td>\n",
       "      <td>0.20290</td>\n",
       "    </tr>\n",
       "  </tbody>\n",
       "</table>\n",
       "<p>157 rows × 9 columns</p>\n",
       "</div>"
      ],
      "text/plain": [
       "         Country  Happiness Rank  Happiness Score  Economy (GDP per Capita)  \\\n",
       "0        Denmark               1            7.526                   1.44178   \n",
       "1    Switzerland               2            7.509                   1.52733   \n",
       "2        Iceland               3            7.501                   1.42666   \n",
       "3         Norway               4            7.498                   1.57744   \n",
       "4        Finland               5            7.413                   1.40598   \n",
       "..           ...             ...              ...                       ...   \n",
       "152        Benin             153            3.484                   0.39499   \n",
       "153  Afghanistan             154            3.360                   0.38227   \n",
       "154         Togo             155            3.303                   0.28123   \n",
       "155        Syria             156            3.069                   0.74719   \n",
       "156      Burundi             157            2.905                   0.06831   \n",
       "\n",
       "      Family  Health (Life Expectancy)  Freedom  \\\n",
       "0    1.16374                   0.79504  0.57941   \n",
       "1    1.14524                   0.86303  0.58557   \n",
       "2    1.18326                   0.86733  0.56624   \n",
       "3    1.12690                   0.79579  0.59609   \n",
       "4    1.13464                   0.81091  0.57104   \n",
       "..       ...                       ...      ...   \n",
       "152  0.10419                   0.21028  0.39747   \n",
       "153  0.11037                   0.17344  0.16430   \n",
       "154  0.00000                   0.24811  0.34678   \n",
       "155  0.14866                   0.62994  0.06912   \n",
       "156  0.23442                   0.15747  0.04320   \n",
       "\n",
       "     Trust (Government Corruption)  Generosity  \n",
       "0                          0.44453     0.36171  \n",
       "1                          0.41203     0.28083  \n",
       "2                          0.14975     0.47678  \n",
       "3                          0.35776     0.37895  \n",
       "4                          0.41004     0.25492  \n",
       "..                             ...         ...  \n",
       "152                        0.06681     0.20180  \n",
       "153                        0.07112     0.31268  \n",
       "154                        0.11587     0.17517  \n",
       "155                        0.17233     0.48397  \n",
       "156                        0.09419     0.20290  \n",
       "\n",
       "[157 rows x 9 columns]"
      ]
     },
     "execution_count": 7,
     "metadata": {},
     "output_type": "execute_result"
    }
   ],
   "source": [
    "YR2016.drop(['Region', 'Lower Confidence Interval','Upper Confidence Interval', 'Dystopia Residual'], axis=1, inplace=True)\n",
    "YR2016"
   ]
  },
  {
   "cell_type": "code",
   "execution_count": 8,
   "metadata": {},
   "outputs": [
    {
     "data": {
      "text/html": [
       "<div>\n",
       "<style scoped>\n",
       "    .dataframe tbody tr th:only-of-type {\n",
       "        vertical-align: middle;\n",
       "    }\n",
       "\n",
       "    .dataframe tbody tr th {\n",
       "        vertical-align: top;\n",
       "    }\n",
       "\n",
       "    .dataframe thead th {\n",
       "        text-align: right;\n",
       "    }\n",
       "</style>\n",
       "<table border=\"1\" class=\"dataframe\">\n",
       "  <thead>\n",
       "    <tr style=\"text-align: right;\">\n",
       "      <th></th>\n",
       "      <th>Country</th>\n",
       "      <th>Happiness.Rank</th>\n",
       "      <th>Happiness.Score</th>\n",
       "      <th>Whisker.high</th>\n",
       "      <th>Whisker.low</th>\n",
       "      <th>Economy..GDP.per.Capita.</th>\n",
       "      <th>Family</th>\n",
       "      <th>Health..Life.Expectancy.</th>\n",
       "      <th>Freedom</th>\n",
       "      <th>Generosity</th>\n",
       "      <th>Trust..Government.Corruption.</th>\n",
       "      <th>Dystopia.Residual</th>\n",
       "    </tr>\n",
       "  </thead>\n",
       "  <tbody>\n",
       "    <tr>\n",
       "      <td>0</td>\n",
       "      <td>Norway</td>\n",
       "      <td>1</td>\n",
       "      <td>7.537</td>\n",
       "      <td>7.594445</td>\n",
       "      <td>7.479556</td>\n",
       "      <td>1.616463</td>\n",
       "      <td>1.533524</td>\n",
       "      <td>0.796667</td>\n",
       "      <td>0.635423</td>\n",
       "      <td>0.362012</td>\n",
       "      <td>0.315964</td>\n",
       "      <td>2.277027</td>\n",
       "    </tr>\n",
       "    <tr>\n",
       "      <td>1</td>\n",
       "      <td>Denmark</td>\n",
       "      <td>2</td>\n",
       "      <td>7.522</td>\n",
       "      <td>7.581728</td>\n",
       "      <td>7.462272</td>\n",
       "      <td>1.482383</td>\n",
       "      <td>1.551122</td>\n",
       "      <td>0.792566</td>\n",
       "      <td>0.626007</td>\n",
       "      <td>0.355280</td>\n",
       "      <td>0.400770</td>\n",
       "      <td>2.313707</td>\n",
       "    </tr>\n",
       "  </tbody>\n",
       "</table>\n",
       "</div>"
      ],
      "text/plain": [
       "   Country  Happiness.Rank  Happiness.Score  Whisker.high  Whisker.low  \\\n",
       "0   Norway               1            7.537      7.594445     7.479556   \n",
       "1  Denmark               2            7.522      7.581728     7.462272   \n",
       "\n",
       "   Economy..GDP.per.Capita.    Family  Health..Life.Expectancy.   Freedom  \\\n",
       "0                  1.616463  1.533524                  0.796667  0.635423   \n",
       "1                  1.482383  1.551122                  0.792566  0.626007   \n",
       "\n",
       "   Generosity  Trust..Government.Corruption.  Dystopia.Residual  \n",
       "0    0.362012                       0.315964           2.277027  \n",
       "1    0.355280                       0.400770           2.313707  "
      ]
     },
     "execution_count": 8,
     "metadata": {},
     "output_type": "execute_result"
    }
   ],
   "source": [
    "YR2017.head(2)"
   ]
  },
  {
   "cell_type": "code",
   "execution_count": 9,
   "metadata": {},
   "outputs": [
    {
     "data": {
      "text/html": [
       "<div>\n",
       "<style scoped>\n",
       "    .dataframe tbody tr th:only-of-type {\n",
       "        vertical-align: middle;\n",
       "    }\n",
       "\n",
       "    .dataframe tbody tr th {\n",
       "        vertical-align: top;\n",
       "    }\n",
       "\n",
       "    .dataframe thead th {\n",
       "        text-align: right;\n",
       "    }\n",
       "</style>\n",
       "<table border=\"1\" class=\"dataframe\">\n",
       "  <thead>\n",
       "    <tr style=\"text-align: right;\">\n",
       "      <th></th>\n",
       "      <th>Country</th>\n",
       "      <th>Happiness.Rank</th>\n",
       "      <th>Happiness.Score</th>\n",
       "      <th>Economy..GDP.per.Capita.</th>\n",
       "      <th>Family</th>\n",
       "      <th>Health..Life.Expectancy.</th>\n",
       "      <th>Freedom</th>\n",
       "      <th>Generosity</th>\n",
       "      <th>Trust..Government.Corruption.</th>\n",
       "    </tr>\n",
       "  </thead>\n",
       "  <tbody>\n",
       "    <tr>\n",
       "      <td>0</td>\n",
       "      <td>Norway</td>\n",
       "      <td>1</td>\n",
       "      <td>7.537</td>\n",
       "      <td>1.616463</td>\n",
       "      <td>1.533524</td>\n",
       "      <td>0.796667</td>\n",
       "      <td>0.635423</td>\n",
       "      <td>0.362012</td>\n",
       "      <td>0.315964</td>\n",
       "    </tr>\n",
       "    <tr>\n",
       "      <td>1</td>\n",
       "      <td>Denmark</td>\n",
       "      <td>2</td>\n",
       "      <td>7.522</td>\n",
       "      <td>1.482383</td>\n",
       "      <td>1.551122</td>\n",
       "      <td>0.792566</td>\n",
       "      <td>0.626007</td>\n",
       "      <td>0.355280</td>\n",
       "      <td>0.400770</td>\n",
       "    </tr>\n",
       "    <tr>\n",
       "      <td>2</td>\n",
       "      <td>Iceland</td>\n",
       "      <td>3</td>\n",
       "      <td>7.504</td>\n",
       "      <td>1.480633</td>\n",
       "      <td>1.610574</td>\n",
       "      <td>0.833552</td>\n",
       "      <td>0.627163</td>\n",
       "      <td>0.475540</td>\n",
       "      <td>0.153527</td>\n",
       "    </tr>\n",
       "    <tr>\n",
       "      <td>3</td>\n",
       "      <td>Switzerland</td>\n",
       "      <td>4</td>\n",
       "      <td>7.494</td>\n",
       "      <td>1.564980</td>\n",
       "      <td>1.516912</td>\n",
       "      <td>0.858131</td>\n",
       "      <td>0.620071</td>\n",
       "      <td>0.290549</td>\n",
       "      <td>0.367007</td>\n",
       "    </tr>\n",
       "    <tr>\n",
       "      <td>4</td>\n",
       "      <td>Finland</td>\n",
       "      <td>5</td>\n",
       "      <td>7.469</td>\n",
       "      <td>1.443572</td>\n",
       "      <td>1.540247</td>\n",
       "      <td>0.809158</td>\n",
       "      <td>0.617951</td>\n",
       "      <td>0.245483</td>\n",
       "      <td>0.382612</td>\n",
       "    </tr>\n",
       "    <tr>\n",
       "      <td>...</td>\n",
       "      <td>...</td>\n",
       "      <td>...</td>\n",
       "      <td>...</td>\n",
       "      <td>...</td>\n",
       "      <td>...</td>\n",
       "      <td>...</td>\n",
       "      <td>...</td>\n",
       "      <td>...</td>\n",
       "      <td>...</td>\n",
       "    </tr>\n",
       "    <tr>\n",
       "      <td>150</td>\n",
       "      <td>Rwanda</td>\n",
       "      <td>151</td>\n",
       "      <td>3.471</td>\n",
       "      <td>0.368746</td>\n",
       "      <td>0.945707</td>\n",
       "      <td>0.326425</td>\n",
       "      <td>0.581844</td>\n",
       "      <td>0.252756</td>\n",
       "      <td>0.455220</td>\n",
       "    </tr>\n",
       "    <tr>\n",
       "      <td>151</td>\n",
       "      <td>Syria</td>\n",
       "      <td>152</td>\n",
       "      <td>3.462</td>\n",
       "      <td>0.777153</td>\n",
       "      <td>0.396103</td>\n",
       "      <td>0.500533</td>\n",
       "      <td>0.081539</td>\n",
       "      <td>0.493664</td>\n",
       "      <td>0.151347</td>\n",
       "    </tr>\n",
       "    <tr>\n",
       "      <td>152</td>\n",
       "      <td>Tanzania</td>\n",
       "      <td>153</td>\n",
       "      <td>3.349</td>\n",
       "      <td>0.511136</td>\n",
       "      <td>1.041990</td>\n",
       "      <td>0.364509</td>\n",
       "      <td>0.390018</td>\n",
       "      <td>0.354256</td>\n",
       "      <td>0.066035</td>\n",
       "    </tr>\n",
       "    <tr>\n",
       "      <td>153</td>\n",
       "      <td>Burundi</td>\n",
       "      <td>154</td>\n",
       "      <td>2.905</td>\n",
       "      <td>0.091623</td>\n",
       "      <td>0.629794</td>\n",
       "      <td>0.151611</td>\n",
       "      <td>0.059901</td>\n",
       "      <td>0.204435</td>\n",
       "      <td>0.084148</td>\n",
       "    </tr>\n",
       "    <tr>\n",
       "      <td>154</td>\n",
       "      <td>Central African Republic</td>\n",
       "      <td>155</td>\n",
       "      <td>2.693</td>\n",
       "      <td>0.000000</td>\n",
       "      <td>0.000000</td>\n",
       "      <td>0.018773</td>\n",
       "      <td>0.270842</td>\n",
       "      <td>0.280876</td>\n",
       "      <td>0.056565</td>\n",
       "    </tr>\n",
       "  </tbody>\n",
       "</table>\n",
       "<p>155 rows × 9 columns</p>\n",
       "</div>"
      ],
      "text/plain": [
       "                      Country  Happiness.Rank  Happiness.Score  \\\n",
       "0                      Norway               1            7.537   \n",
       "1                     Denmark               2            7.522   \n",
       "2                     Iceland               3            7.504   \n",
       "3                 Switzerland               4            7.494   \n",
       "4                     Finland               5            7.469   \n",
       "..                        ...             ...              ...   \n",
       "150                    Rwanda             151            3.471   \n",
       "151                     Syria             152            3.462   \n",
       "152                  Tanzania             153            3.349   \n",
       "153                   Burundi             154            2.905   \n",
       "154  Central African Republic             155            2.693   \n",
       "\n",
       "     Economy..GDP.per.Capita.    Family  Health..Life.Expectancy.   Freedom  \\\n",
       "0                    1.616463  1.533524                  0.796667  0.635423   \n",
       "1                    1.482383  1.551122                  0.792566  0.626007   \n",
       "2                    1.480633  1.610574                  0.833552  0.627163   \n",
       "3                    1.564980  1.516912                  0.858131  0.620071   \n",
       "4                    1.443572  1.540247                  0.809158  0.617951   \n",
       "..                        ...       ...                       ...       ...   \n",
       "150                  0.368746  0.945707                  0.326425  0.581844   \n",
       "151                  0.777153  0.396103                  0.500533  0.081539   \n",
       "152                  0.511136  1.041990                  0.364509  0.390018   \n",
       "153                  0.091623  0.629794                  0.151611  0.059901   \n",
       "154                  0.000000  0.000000                  0.018773  0.270842   \n",
       "\n",
       "     Generosity  Trust..Government.Corruption.  \n",
       "0      0.362012                       0.315964  \n",
       "1      0.355280                       0.400770  \n",
       "2      0.475540                       0.153527  \n",
       "3      0.290549                       0.367007  \n",
       "4      0.245483                       0.382612  \n",
       "..          ...                            ...  \n",
       "150    0.252756                       0.455220  \n",
       "151    0.493664                       0.151347  \n",
       "152    0.354256                       0.066035  \n",
       "153    0.204435                       0.084148  \n",
       "154    0.280876                       0.056565  \n",
       "\n",
       "[155 rows x 9 columns]"
      ]
     },
     "execution_count": 9,
     "metadata": {},
     "output_type": "execute_result"
    }
   ],
   "source": [
    "YR2017.drop(['Whisker.high', 'Whisker.low', 'Dystopia.Residual'], axis=1, inplace=True)\n",
    "YR2017"
   ]
  },
  {
   "cell_type": "code",
   "execution_count": 10,
   "metadata": {},
   "outputs": [
    {
     "data": {
      "text/html": [
       "<div>\n",
       "<style scoped>\n",
       "    .dataframe tbody tr th:only-of-type {\n",
       "        vertical-align: middle;\n",
       "    }\n",
       "\n",
       "    .dataframe tbody tr th {\n",
       "        vertical-align: top;\n",
       "    }\n",
       "\n",
       "    .dataframe thead th {\n",
       "        text-align: right;\n",
       "    }\n",
       "</style>\n",
       "<table border=\"1\" class=\"dataframe\">\n",
       "  <thead>\n",
       "    <tr style=\"text-align: right;\">\n",
       "      <th></th>\n",
       "      <th>Overall rank</th>\n",
       "      <th>Country or region</th>\n",
       "      <th>Score</th>\n",
       "      <th>GDP per capita</th>\n",
       "      <th>Social support</th>\n",
       "      <th>Healthy life expectancy</th>\n",
       "      <th>Freedom to make life choices</th>\n",
       "      <th>Generosity</th>\n",
       "      <th>Perceptions of corruption</th>\n",
       "    </tr>\n",
       "  </thead>\n",
       "  <tbody>\n",
       "    <tr>\n",
       "      <td>0</td>\n",
       "      <td>1</td>\n",
       "      <td>Finland</td>\n",
       "      <td>7.632</td>\n",
       "      <td>1.305</td>\n",
       "      <td>1.592</td>\n",
       "      <td>0.874</td>\n",
       "      <td>0.681</td>\n",
       "      <td>0.202</td>\n",
       "      <td>0.393</td>\n",
       "    </tr>\n",
       "    <tr>\n",
       "      <td>1</td>\n",
       "      <td>2</td>\n",
       "      <td>Norway</td>\n",
       "      <td>7.594</td>\n",
       "      <td>1.456</td>\n",
       "      <td>1.582</td>\n",
       "      <td>0.861</td>\n",
       "      <td>0.686</td>\n",
       "      <td>0.286</td>\n",
       "      <td>0.340</td>\n",
       "    </tr>\n",
       "  </tbody>\n",
       "</table>\n",
       "</div>"
      ],
      "text/plain": [
       "   Overall rank Country or region  Score  GDP per capita  Social support  \\\n",
       "0             1           Finland  7.632           1.305           1.592   \n",
       "1             2            Norway  7.594           1.456           1.582   \n",
       "\n",
       "   Healthy life expectancy  Freedom to make life choices  Generosity  \\\n",
       "0                    0.874                         0.681       0.202   \n",
       "1                    0.861                         0.686       0.286   \n",
       "\n",
       "   Perceptions of corruption  \n",
       "0                      0.393  \n",
       "1                      0.340  "
      ]
     },
     "execution_count": 10,
     "metadata": {},
     "output_type": "execute_result"
    }
   ],
   "source": [
    "YR2018.head(2)"
   ]
  },
  {
   "cell_type": "code",
   "execution_count": 11,
   "metadata": {},
   "outputs": [
    {
     "data": {
      "text/html": [
       "<div>\n",
       "<style scoped>\n",
       "    .dataframe tbody tr th:only-of-type {\n",
       "        vertical-align: middle;\n",
       "    }\n",
       "\n",
       "    .dataframe tbody tr th {\n",
       "        vertical-align: top;\n",
       "    }\n",
       "\n",
       "    .dataframe thead th {\n",
       "        text-align: right;\n",
       "    }\n",
       "</style>\n",
       "<table border=\"1\" class=\"dataframe\">\n",
       "  <thead>\n",
       "    <tr style=\"text-align: right;\">\n",
       "      <th></th>\n",
       "      <th>Overall rank</th>\n",
       "      <th>Country or region</th>\n",
       "      <th>Score</th>\n",
       "      <th>GDP per capita</th>\n",
       "      <th>Social support</th>\n",
       "      <th>Healthy life expectancy</th>\n",
       "      <th>Freedom to make life choices</th>\n",
       "      <th>Generosity</th>\n",
       "      <th>Perceptions of corruption</th>\n",
       "    </tr>\n",
       "  </thead>\n",
       "  <tbody>\n",
       "    <tr>\n",
       "      <td>0</td>\n",
       "      <td>1</td>\n",
       "      <td>Finland</td>\n",
       "      <td>7.769</td>\n",
       "      <td>1.340</td>\n",
       "      <td>1.587</td>\n",
       "      <td>0.986</td>\n",
       "      <td>0.596</td>\n",
       "      <td>0.153</td>\n",
       "      <td>0.393</td>\n",
       "    </tr>\n",
       "    <tr>\n",
       "      <td>1</td>\n",
       "      <td>2</td>\n",
       "      <td>Denmark</td>\n",
       "      <td>7.600</td>\n",
       "      <td>1.383</td>\n",
       "      <td>1.573</td>\n",
       "      <td>0.996</td>\n",
       "      <td>0.592</td>\n",
       "      <td>0.252</td>\n",
       "      <td>0.410</td>\n",
       "    </tr>\n",
       "  </tbody>\n",
       "</table>\n",
       "</div>"
      ],
      "text/plain": [
       "   Overall rank Country or region  Score  GDP per capita  Social support  \\\n",
       "0             1           Finland  7.769           1.340           1.587   \n",
       "1             2           Denmark  7.600           1.383           1.573   \n",
       "\n",
       "   Healthy life expectancy  Freedom to make life choices  Generosity  \\\n",
       "0                    0.986                         0.596       0.153   \n",
       "1                    0.996                         0.592       0.252   \n",
       "\n",
       "   Perceptions of corruption  \n",
       "0                      0.393  \n",
       "1                      0.410  "
      ]
     },
     "execution_count": 11,
     "metadata": {},
     "output_type": "execute_result"
    }
   ],
   "source": [
    "YR2019.head(2)"
   ]
  },
  {
   "cell_type": "code",
   "execution_count": 12,
   "metadata": {},
   "outputs": [
    {
     "data": {
      "text/html": [
       "<div>\n",
       "<style scoped>\n",
       "    .dataframe tbody tr th:only-of-type {\n",
       "        vertical-align: middle;\n",
       "    }\n",
       "\n",
       "    .dataframe tbody tr th {\n",
       "        vertical-align: top;\n",
       "    }\n",
       "\n",
       "    .dataframe thead th {\n",
       "        text-align: right;\n",
       "    }\n",
       "</style>\n",
       "<table border=\"1\" class=\"dataframe\">\n",
       "  <thead>\n",
       "    <tr style=\"text-align: right;\">\n",
       "      <th></th>\n",
       "      <th>Country</th>\n",
       "      <th>Happiness_Rank</th>\n",
       "      <th>Happiness_Score</th>\n",
       "      <th>GDP</th>\n",
       "      <th>Social_Support</th>\n",
       "      <th>Life_Expectancy</th>\n",
       "      <th>Freedom</th>\n",
       "      <th>Government_Corruption</th>\n",
       "      <th>Generosity</th>\n",
       "      <th>Year</th>\n",
       "    </tr>\n",
       "  </thead>\n",
       "  <tbody>\n",
       "    <tr>\n",
       "      <td>0</td>\n",
       "      <td>Switzerland</td>\n",
       "      <td>1</td>\n",
       "      <td>7.587</td>\n",
       "      <td>1.39651</td>\n",
       "      <td>1.34951</td>\n",
       "      <td>0.94143</td>\n",
       "      <td>0.66557</td>\n",
       "      <td>0.41978</td>\n",
       "      <td>0.29678</td>\n",
       "      <td>2015</td>\n",
       "    </tr>\n",
       "    <tr>\n",
       "      <td>1</td>\n",
       "      <td>Iceland</td>\n",
       "      <td>2</td>\n",
       "      <td>7.561</td>\n",
       "      <td>1.30232</td>\n",
       "      <td>1.40223</td>\n",
       "      <td>0.94784</td>\n",
       "      <td>0.62877</td>\n",
       "      <td>0.14145</td>\n",
       "      <td>0.43630</td>\n",
       "      <td>2015</td>\n",
       "    </tr>\n",
       "    <tr>\n",
       "      <td>2</td>\n",
       "      <td>Denmark</td>\n",
       "      <td>3</td>\n",
       "      <td>7.527</td>\n",
       "      <td>1.32548</td>\n",
       "      <td>1.36058</td>\n",
       "      <td>0.87464</td>\n",
       "      <td>0.64938</td>\n",
       "      <td>0.48357</td>\n",
       "      <td>0.34139</td>\n",
       "      <td>2015</td>\n",
       "    </tr>\n",
       "    <tr>\n",
       "      <td>3</td>\n",
       "      <td>Norway</td>\n",
       "      <td>4</td>\n",
       "      <td>7.522</td>\n",
       "      <td>1.45900</td>\n",
       "      <td>1.33095</td>\n",
       "      <td>0.88521</td>\n",
       "      <td>0.66973</td>\n",
       "      <td>0.36503</td>\n",
       "      <td>0.34699</td>\n",
       "      <td>2015</td>\n",
       "    </tr>\n",
       "    <tr>\n",
       "      <td>4</td>\n",
       "      <td>Canada</td>\n",
       "      <td>5</td>\n",
       "      <td>7.427</td>\n",
       "      <td>1.32629</td>\n",
       "      <td>1.32261</td>\n",
       "      <td>0.90563</td>\n",
       "      <td>0.63297</td>\n",
       "      <td>0.32957</td>\n",
       "      <td>0.45811</td>\n",
       "      <td>2015</td>\n",
       "    </tr>\n",
       "    <tr>\n",
       "      <td>...</td>\n",
       "      <td>...</td>\n",
       "      <td>...</td>\n",
       "      <td>...</td>\n",
       "      <td>...</td>\n",
       "      <td>...</td>\n",
       "      <td>...</td>\n",
       "      <td>...</td>\n",
       "      <td>...</td>\n",
       "      <td>...</td>\n",
       "      <td>...</td>\n",
       "    </tr>\n",
       "    <tr>\n",
       "      <td>153</td>\n",
       "      <td>Rwanda</td>\n",
       "      <td>154</td>\n",
       "      <td>3.465</td>\n",
       "      <td>0.22208</td>\n",
       "      <td>0.77370</td>\n",
       "      <td>0.42864</td>\n",
       "      <td>0.59201</td>\n",
       "      <td>0.55191</td>\n",
       "      <td>0.22628</td>\n",
       "      <td>2015</td>\n",
       "    </tr>\n",
       "    <tr>\n",
       "      <td>154</td>\n",
       "      <td>Benin</td>\n",
       "      <td>155</td>\n",
       "      <td>3.340</td>\n",
       "      <td>0.28665</td>\n",
       "      <td>0.35386</td>\n",
       "      <td>0.31910</td>\n",
       "      <td>0.48450</td>\n",
       "      <td>0.08010</td>\n",
       "      <td>0.18260</td>\n",
       "      <td>2015</td>\n",
       "    </tr>\n",
       "    <tr>\n",
       "      <td>155</td>\n",
       "      <td>Syria</td>\n",
       "      <td>156</td>\n",
       "      <td>3.006</td>\n",
       "      <td>0.66320</td>\n",
       "      <td>0.47489</td>\n",
       "      <td>0.72193</td>\n",
       "      <td>0.15684</td>\n",
       "      <td>0.18906</td>\n",
       "      <td>0.47179</td>\n",
       "      <td>2015</td>\n",
       "    </tr>\n",
       "    <tr>\n",
       "      <td>156</td>\n",
       "      <td>Burundi</td>\n",
       "      <td>157</td>\n",
       "      <td>2.905</td>\n",
       "      <td>0.01530</td>\n",
       "      <td>0.41587</td>\n",
       "      <td>0.22396</td>\n",
       "      <td>0.11850</td>\n",
       "      <td>0.10062</td>\n",
       "      <td>0.19727</td>\n",
       "      <td>2015</td>\n",
       "    </tr>\n",
       "    <tr>\n",
       "      <td>157</td>\n",
       "      <td>Togo</td>\n",
       "      <td>158</td>\n",
       "      <td>2.839</td>\n",
       "      <td>0.20868</td>\n",
       "      <td>0.13995</td>\n",
       "      <td>0.28443</td>\n",
       "      <td>0.36453</td>\n",
       "      <td>0.10731</td>\n",
       "      <td>0.16681</td>\n",
       "      <td>2015</td>\n",
       "    </tr>\n",
       "  </tbody>\n",
       "</table>\n",
       "<p>158 rows × 10 columns</p>\n",
       "</div>"
      ],
      "text/plain": [
       "         Country  Happiness_Rank  Happiness_Score      GDP  Social_Support  \\\n",
       "0    Switzerland               1            7.587  1.39651         1.34951   \n",
       "1        Iceland               2            7.561  1.30232         1.40223   \n",
       "2        Denmark               3            7.527  1.32548         1.36058   \n",
       "3         Norway               4            7.522  1.45900         1.33095   \n",
       "4         Canada               5            7.427  1.32629         1.32261   \n",
       "..           ...             ...              ...      ...             ...   \n",
       "153       Rwanda             154            3.465  0.22208         0.77370   \n",
       "154        Benin             155            3.340  0.28665         0.35386   \n",
       "155        Syria             156            3.006  0.66320         0.47489   \n",
       "156      Burundi             157            2.905  0.01530         0.41587   \n",
       "157         Togo             158            2.839  0.20868         0.13995   \n",
       "\n",
       "     Life_Expectancy  Freedom  Government_Corruption  Generosity  Year  \n",
       "0            0.94143  0.66557                0.41978     0.29678  2015  \n",
       "1            0.94784  0.62877                0.14145     0.43630  2015  \n",
       "2            0.87464  0.64938                0.48357     0.34139  2015  \n",
       "3            0.88521  0.66973                0.36503     0.34699  2015  \n",
       "4            0.90563  0.63297                0.32957     0.45811  2015  \n",
       "..               ...      ...                    ...         ...   ...  \n",
       "153          0.42864  0.59201                0.55191     0.22628  2015  \n",
       "154          0.31910  0.48450                0.08010     0.18260  2015  \n",
       "155          0.72193  0.15684                0.18906     0.47179  2015  \n",
       "156          0.22396  0.11850                0.10062     0.19727  2015  \n",
       "157          0.28443  0.36453                0.10731     0.16681  2015  \n",
       "\n",
       "[158 rows x 10 columns]"
      ]
     },
     "execution_count": 12,
     "metadata": {},
     "output_type": "execute_result"
    }
   ],
   "source": [
    "YR2015.rename(columns = {'Happiness Rank':'Happiness_Rank'}, inplace = True)\n",
    "YR2015.rename(columns = {'Happiness Score':'Happiness_Score'}, inplace = True)\n",
    "YR2015.rename(columns = {'Economy (GDP per Capita)':'GDP'}, inplace = True)\n",
    "YR2015.rename(columns = {'Family':'Social_Support'}, inplace = True)\n",
    "YR2015.rename(columns = {'Health (Life Expectancy)':'Life_Expectancy'}, inplace = True)\n",
    "#YR2015.rename(columns = {'Freedom':'Freedom'}, inplace = True)\n",
    "YR2015.rename(columns = {'Trust (Government Corruption)':'Government_Corruption'}, inplace = True)\n",
    "#YR2015.rename(columns = {'Generosity':'Generosity'}, inplace = True)\n",
    "YR2015['Year'] = 2015 \n",
    "YR2015"
   ]
  },
  {
   "cell_type": "code",
   "execution_count": 13,
   "metadata": {},
   "outputs": [
    {
     "data": {
      "text/html": [
       "<div>\n",
       "<style scoped>\n",
       "    .dataframe tbody tr th:only-of-type {\n",
       "        vertical-align: middle;\n",
       "    }\n",
       "\n",
       "    .dataframe tbody tr th {\n",
       "        vertical-align: top;\n",
       "    }\n",
       "\n",
       "    .dataframe thead th {\n",
       "        text-align: right;\n",
       "    }\n",
       "</style>\n",
       "<table border=\"1\" class=\"dataframe\">\n",
       "  <thead>\n",
       "    <tr style=\"text-align: right;\">\n",
       "      <th></th>\n",
       "      <th>Country</th>\n",
       "      <th>Happiness_Rank</th>\n",
       "      <th>Happiness_Score</th>\n",
       "      <th>GDP</th>\n",
       "      <th>Social_Support</th>\n",
       "      <th>Life_Expectancy</th>\n",
       "      <th>Freedom</th>\n",
       "      <th>Government_Corruption</th>\n",
       "      <th>Generosity</th>\n",
       "      <th>Year</th>\n",
       "    </tr>\n",
       "  </thead>\n",
       "  <tbody>\n",
       "    <tr>\n",
       "      <td>0</td>\n",
       "      <td>Denmark</td>\n",
       "      <td>1</td>\n",
       "      <td>7.526</td>\n",
       "      <td>1.44178</td>\n",
       "      <td>1.16374</td>\n",
       "      <td>0.79504</td>\n",
       "      <td>0.57941</td>\n",
       "      <td>0.44453</td>\n",
       "      <td>0.36171</td>\n",
       "      <td>2016</td>\n",
       "    </tr>\n",
       "    <tr>\n",
       "      <td>1</td>\n",
       "      <td>Switzerland</td>\n",
       "      <td>2</td>\n",
       "      <td>7.509</td>\n",
       "      <td>1.52733</td>\n",
       "      <td>1.14524</td>\n",
       "      <td>0.86303</td>\n",
       "      <td>0.58557</td>\n",
       "      <td>0.41203</td>\n",
       "      <td>0.28083</td>\n",
       "      <td>2016</td>\n",
       "    </tr>\n",
       "    <tr>\n",
       "      <td>2</td>\n",
       "      <td>Iceland</td>\n",
       "      <td>3</td>\n",
       "      <td>7.501</td>\n",
       "      <td>1.42666</td>\n",
       "      <td>1.18326</td>\n",
       "      <td>0.86733</td>\n",
       "      <td>0.56624</td>\n",
       "      <td>0.14975</td>\n",
       "      <td>0.47678</td>\n",
       "      <td>2016</td>\n",
       "    </tr>\n",
       "    <tr>\n",
       "      <td>3</td>\n",
       "      <td>Norway</td>\n",
       "      <td>4</td>\n",
       "      <td>7.498</td>\n",
       "      <td>1.57744</td>\n",
       "      <td>1.12690</td>\n",
       "      <td>0.79579</td>\n",
       "      <td>0.59609</td>\n",
       "      <td>0.35776</td>\n",
       "      <td>0.37895</td>\n",
       "      <td>2016</td>\n",
       "    </tr>\n",
       "    <tr>\n",
       "      <td>4</td>\n",
       "      <td>Finland</td>\n",
       "      <td>5</td>\n",
       "      <td>7.413</td>\n",
       "      <td>1.40598</td>\n",
       "      <td>1.13464</td>\n",
       "      <td>0.81091</td>\n",
       "      <td>0.57104</td>\n",
       "      <td>0.41004</td>\n",
       "      <td>0.25492</td>\n",
       "      <td>2016</td>\n",
       "    </tr>\n",
       "    <tr>\n",
       "      <td>...</td>\n",
       "      <td>...</td>\n",
       "      <td>...</td>\n",
       "      <td>...</td>\n",
       "      <td>...</td>\n",
       "      <td>...</td>\n",
       "      <td>...</td>\n",
       "      <td>...</td>\n",
       "      <td>...</td>\n",
       "      <td>...</td>\n",
       "      <td>...</td>\n",
       "    </tr>\n",
       "    <tr>\n",
       "      <td>152</td>\n",
       "      <td>Benin</td>\n",
       "      <td>153</td>\n",
       "      <td>3.484</td>\n",
       "      <td>0.39499</td>\n",
       "      <td>0.10419</td>\n",
       "      <td>0.21028</td>\n",
       "      <td>0.39747</td>\n",
       "      <td>0.06681</td>\n",
       "      <td>0.20180</td>\n",
       "      <td>2016</td>\n",
       "    </tr>\n",
       "    <tr>\n",
       "      <td>153</td>\n",
       "      <td>Afghanistan</td>\n",
       "      <td>154</td>\n",
       "      <td>3.360</td>\n",
       "      <td>0.38227</td>\n",
       "      <td>0.11037</td>\n",
       "      <td>0.17344</td>\n",
       "      <td>0.16430</td>\n",
       "      <td>0.07112</td>\n",
       "      <td>0.31268</td>\n",
       "      <td>2016</td>\n",
       "    </tr>\n",
       "    <tr>\n",
       "      <td>154</td>\n",
       "      <td>Togo</td>\n",
       "      <td>155</td>\n",
       "      <td>3.303</td>\n",
       "      <td>0.28123</td>\n",
       "      <td>0.00000</td>\n",
       "      <td>0.24811</td>\n",
       "      <td>0.34678</td>\n",
       "      <td>0.11587</td>\n",
       "      <td>0.17517</td>\n",
       "      <td>2016</td>\n",
       "    </tr>\n",
       "    <tr>\n",
       "      <td>155</td>\n",
       "      <td>Syria</td>\n",
       "      <td>156</td>\n",
       "      <td>3.069</td>\n",
       "      <td>0.74719</td>\n",
       "      <td>0.14866</td>\n",
       "      <td>0.62994</td>\n",
       "      <td>0.06912</td>\n",
       "      <td>0.17233</td>\n",
       "      <td>0.48397</td>\n",
       "      <td>2016</td>\n",
       "    </tr>\n",
       "    <tr>\n",
       "      <td>156</td>\n",
       "      <td>Burundi</td>\n",
       "      <td>157</td>\n",
       "      <td>2.905</td>\n",
       "      <td>0.06831</td>\n",
       "      <td>0.23442</td>\n",
       "      <td>0.15747</td>\n",
       "      <td>0.04320</td>\n",
       "      <td>0.09419</td>\n",
       "      <td>0.20290</td>\n",
       "      <td>2016</td>\n",
       "    </tr>\n",
       "  </tbody>\n",
       "</table>\n",
       "<p>157 rows × 10 columns</p>\n",
       "</div>"
      ],
      "text/plain": [
       "         Country  Happiness_Rank  Happiness_Score      GDP  Social_Support  \\\n",
       "0        Denmark               1            7.526  1.44178         1.16374   \n",
       "1    Switzerland               2            7.509  1.52733         1.14524   \n",
       "2        Iceland               3            7.501  1.42666         1.18326   \n",
       "3         Norway               4            7.498  1.57744         1.12690   \n",
       "4        Finland               5            7.413  1.40598         1.13464   \n",
       "..           ...             ...              ...      ...             ...   \n",
       "152        Benin             153            3.484  0.39499         0.10419   \n",
       "153  Afghanistan             154            3.360  0.38227         0.11037   \n",
       "154         Togo             155            3.303  0.28123         0.00000   \n",
       "155        Syria             156            3.069  0.74719         0.14866   \n",
       "156      Burundi             157            2.905  0.06831         0.23442   \n",
       "\n",
       "     Life_Expectancy  Freedom  Government_Corruption  Generosity  Year  \n",
       "0            0.79504  0.57941                0.44453     0.36171  2016  \n",
       "1            0.86303  0.58557                0.41203     0.28083  2016  \n",
       "2            0.86733  0.56624                0.14975     0.47678  2016  \n",
       "3            0.79579  0.59609                0.35776     0.37895  2016  \n",
       "4            0.81091  0.57104                0.41004     0.25492  2016  \n",
       "..               ...      ...                    ...         ...   ...  \n",
       "152          0.21028  0.39747                0.06681     0.20180  2016  \n",
       "153          0.17344  0.16430                0.07112     0.31268  2016  \n",
       "154          0.24811  0.34678                0.11587     0.17517  2016  \n",
       "155          0.62994  0.06912                0.17233     0.48397  2016  \n",
       "156          0.15747  0.04320                0.09419     0.20290  2016  \n",
       "\n",
       "[157 rows x 10 columns]"
      ]
     },
     "execution_count": 13,
     "metadata": {},
     "output_type": "execute_result"
    }
   ],
   "source": [
    "YR2016.rename(columns = {'Happiness Rank':'Happiness_Rank'}, inplace = True)\n",
    "YR2016.rename(columns = {'Happiness Score':'Happiness_Score'}, inplace = True)\n",
    "YR2016.rename(columns = {'Economy (GDP per Capita)':'GDP'}, inplace = True)\n",
    "YR2016.rename(columns = {'Family':'Social_Support'}, inplace = True)\n",
    "YR2016.rename(columns = {'Health (Life Expectancy)':'Life_Expectancy'}, inplace = True)\n",
    "#YR2016.rename(columns = {'Freedom':'Freedom'}, inplace = True)\n",
    "YR2016.rename(columns = {'Trust (Government Corruption)':'Government_Corruption'}, inplace = True)\n",
    "#YR2016.rename(columns = {'Generosity':'Generosity'}, inplace = True)\n",
    "YR2016['Year'] = 2016 \n",
    "YR2016"
   ]
  },
  {
   "cell_type": "code",
   "execution_count": 14,
   "metadata": {},
   "outputs": [
    {
     "data": {
      "text/html": [
       "<div>\n",
       "<style scoped>\n",
       "    .dataframe tbody tr th:only-of-type {\n",
       "        vertical-align: middle;\n",
       "    }\n",
       "\n",
       "    .dataframe tbody tr th {\n",
       "        vertical-align: top;\n",
       "    }\n",
       "\n",
       "    .dataframe thead th {\n",
       "        text-align: right;\n",
       "    }\n",
       "</style>\n",
       "<table border=\"1\" class=\"dataframe\">\n",
       "  <thead>\n",
       "    <tr style=\"text-align: right;\">\n",
       "      <th></th>\n",
       "      <th>Country</th>\n",
       "      <th>Happiness_Rank</th>\n",
       "      <th>Happiness_Score</th>\n",
       "      <th>GDP</th>\n",
       "      <th>Social_Support</th>\n",
       "      <th>Life_Expectancy</th>\n",
       "      <th>Freedom</th>\n",
       "      <th>Generosity</th>\n",
       "      <th>Government_Corruption</th>\n",
       "      <th>Year</th>\n",
       "    </tr>\n",
       "  </thead>\n",
       "  <tbody>\n",
       "    <tr>\n",
       "      <td>0</td>\n",
       "      <td>Norway</td>\n",
       "      <td>1</td>\n",
       "      <td>7.537</td>\n",
       "      <td>1.616463</td>\n",
       "      <td>1.533524</td>\n",
       "      <td>0.796667</td>\n",
       "      <td>0.635423</td>\n",
       "      <td>0.362012</td>\n",
       "      <td>0.315964</td>\n",
       "      <td>2017</td>\n",
       "    </tr>\n",
       "    <tr>\n",
       "      <td>1</td>\n",
       "      <td>Denmark</td>\n",
       "      <td>2</td>\n",
       "      <td>7.522</td>\n",
       "      <td>1.482383</td>\n",
       "      <td>1.551122</td>\n",
       "      <td>0.792566</td>\n",
       "      <td>0.626007</td>\n",
       "      <td>0.355280</td>\n",
       "      <td>0.400770</td>\n",
       "      <td>2017</td>\n",
       "    </tr>\n",
       "    <tr>\n",
       "      <td>2</td>\n",
       "      <td>Iceland</td>\n",
       "      <td>3</td>\n",
       "      <td>7.504</td>\n",
       "      <td>1.480633</td>\n",
       "      <td>1.610574</td>\n",
       "      <td>0.833552</td>\n",
       "      <td>0.627163</td>\n",
       "      <td>0.475540</td>\n",
       "      <td>0.153527</td>\n",
       "      <td>2017</td>\n",
       "    </tr>\n",
       "    <tr>\n",
       "      <td>3</td>\n",
       "      <td>Switzerland</td>\n",
       "      <td>4</td>\n",
       "      <td>7.494</td>\n",
       "      <td>1.564980</td>\n",
       "      <td>1.516912</td>\n",
       "      <td>0.858131</td>\n",
       "      <td>0.620071</td>\n",
       "      <td>0.290549</td>\n",
       "      <td>0.367007</td>\n",
       "      <td>2017</td>\n",
       "    </tr>\n",
       "    <tr>\n",
       "      <td>4</td>\n",
       "      <td>Finland</td>\n",
       "      <td>5</td>\n",
       "      <td>7.469</td>\n",
       "      <td>1.443572</td>\n",
       "      <td>1.540247</td>\n",
       "      <td>0.809158</td>\n",
       "      <td>0.617951</td>\n",
       "      <td>0.245483</td>\n",
       "      <td>0.382612</td>\n",
       "      <td>2017</td>\n",
       "    </tr>\n",
       "    <tr>\n",
       "      <td>...</td>\n",
       "      <td>...</td>\n",
       "      <td>...</td>\n",
       "      <td>...</td>\n",
       "      <td>...</td>\n",
       "      <td>...</td>\n",
       "      <td>...</td>\n",
       "      <td>...</td>\n",
       "      <td>...</td>\n",
       "      <td>...</td>\n",
       "      <td>...</td>\n",
       "    </tr>\n",
       "    <tr>\n",
       "      <td>150</td>\n",
       "      <td>Rwanda</td>\n",
       "      <td>151</td>\n",
       "      <td>3.471</td>\n",
       "      <td>0.368746</td>\n",
       "      <td>0.945707</td>\n",
       "      <td>0.326425</td>\n",
       "      <td>0.581844</td>\n",
       "      <td>0.252756</td>\n",
       "      <td>0.455220</td>\n",
       "      <td>2017</td>\n",
       "    </tr>\n",
       "    <tr>\n",
       "      <td>151</td>\n",
       "      <td>Syria</td>\n",
       "      <td>152</td>\n",
       "      <td>3.462</td>\n",
       "      <td>0.777153</td>\n",
       "      <td>0.396103</td>\n",
       "      <td>0.500533</td>\n",
       "      <td>0.081539</td>\n",
       "      <td>0.493664</td>\n",
       "      <td>0.151347</td>\n",
       "      <td>2017</td>\n",
       "    </tr>\n",
       "    <tr>\n",
       "      <td>152</td>\n",
       "      <td>Tanzania</td>\n",
       "      <td>153</td>\n",
       "      <td>3.349</td>\n",
       "      <td>0.511136</td>\n",
       "      <td>1.041990</td>\n",
       "      <td>0.364509</td>\n",
       "      <td>0.390018</td>\n",
       "      <td>0.354256</td>\n",
       "      <td>0.066035</td>\n",
       "      <td>2017</td>\n",
       "    </tr>\n",
       "    <tr>\n",
       "      <td>153</td>\n",
       "      <td>Burundi</td>\n",
       "      <td>154</td>\n",
       "      <td>2.905</td>\n",
       "      <td>0.091623</td>\n",
       "      <td>0.629794</td>\n",
       "      <td>0.151611</td>\n",
       "      <td>0.059901</td>\n",
       "      <td>0.204435</td>\n",
       "      <td>0.084148</td>\n",
       "      <td>2017</td>\n",
       "    </tr>\n",
       "    <tr>\n",
       "      <td>154</td>\n",
       "      <td>Central African Republic</td>\n",
       "      <td>155</td>\n",
       "      <td>2.693</td>\n",
       "      <td>0.000000</td>\n",
       "      <td>0.000000</td>\n",
       "      <td>0.018773</td>\n",
       "      <td>0.270842</td>\n",
       "      <td>0.280876</td>\n",
       "      <td>0.056565</td>\n",
       "      <td>2017</td>\n",
       "    </tr>\n",
       "  </tbody>\n",
       "</table>\n",
       "<p>155 rows × 10 columns</p>\n",
       "</div>"
      ],
      "text/plain": [
       "                      Country  Happiness_Rank  Happiness_Score       GDP  \\\n",
       "0                      Norway               1            7.537  1.616463   \n",
       "1                     Denmark               2            7.522  1.482383   \n",
       "2                     Iceland               3            7.504  1.480633   \n",
       "3                 Switzerland               4            7.494  1.564980   \n",
       "4                     Finland               5            7.469  1.443572   \n",
       "..                        ...             ...              ...       ...   \n",
       "150                    Rwanda             151            3.471  0.368746   \n",
       "151                     Syria             152            3.462  0.777153   \n",
       "152                  Tanzania             153            3.349  0.511136   \n",
       "153                   Burundi             154            2.905  0.091623   \n",
       "154  Central African Republic             155            2.693  0.000000   \n",
       "\n",
       "     Social_Support  Life_Expectancy   Freedom  Generosity  \\\n",
       "0          1.533524         0.796667  0.635423    0.362012   \n",
       "1          1.551122         0.792566  0.626007    0.355280   \n",
       "2          1.610574         0.833552  0.627163    0.475540   \n",
       "3          1.516912         0.858131  0.620071    0.290549   \n",
       "4          1.540247         0.809158  0.617951    0.245483   \n",
       "..              ...              ...       ...         ...   \n",
       "150        0.945707         0.326425  0.581844    0.252756   \n",
       "151        0.396103         0.500533  0.081539    0.493664   \n",
       "152        1.041990         0.364509  0.390018    0.354256   \n",
       "153        0.629794         0.151611  0.059901    0.204435   \n",
       "154        0.000000         0.018773  0.270842    0.280876   \n",
       "\n",
       "     Government_Corruption  Year  \n",
       "0                 0.315964  2017  \n",
       "1                 0.400770  2017  \n",
       "2                 0.153527  2017  \n",
       "3                 0.367007  2017  \n",
       "4                 0.382612  2017  \n",
       "..                     ...   ...  \n",
       "150               0.455220  2017  \n",
       "151               0.151347  2017  \n",
       "152               0.066035  2017  \n",
       "153               0.084148  2017  \n",
       "154               0.056565  2017  \n",
       "\n",
       "[155 rows x 10 columns]"
      ]
     },
     "execution_count": 14,
     "metadata": {},
     "output_type": "execute_result"
    }
   ],
   "source": [
    "YR2017.rename(columns = {'Happiness.Rank':'Happiness_Rank'}, inplace = True)\n",
    "YR2017.rename(columns = {'Happiness.Score':'Happiness_Score'}, inplace = True)\n",
    "YR2017.rename(columns = {'Economy..GDP.per.Capita.':'GDP'}, inplace = True)\n",
    "YR2017.rename(columns = {'Family':'Social_Support'}, inplace = True)\n",
    "YR2017.rename(columns = {'Health..Life.Expectancy.':'Life_Expectancy'}, inplace = True)\n",
    "#YR2017.rename(columns = {'Freedom':'Freedom'}, inplace = True)\n",
    "YR2017.rename(columns = {'Trust..Government.Corruption.':'Government_Corruption'}, inplace = True)\n",
    "#YR2017.rename(columns = {'Generosity':'Generosity'}, inplace = True)\n",
    "YR2017['Year'] = 2017 \n",
    "YR2017"
   ]
  },
  {
   "cell_type": "code",
   "execution_count": 15,
   "metadata": {},
   "outputs": [
    {
     "data": {
      "text/html": [
       "<div>\n",
       "<style scoped>\n",
       "    .dataframe tbody tr th:only-of-type {\n",
       "        vertical-align: middle;\n",
       "    }\n",
       "\n",
       "    .dataframe tbody tr th {\n",
       "        vertical-align: top;\n",
       "    }\n",
       "\n",
       "    .dataframe thead th {\n",
       "        text-align: right;\n",
       "    }\n",
       "</style>\n",
       "<table border=\"1\" class=\"dataframe\">\n",
       "  <thead>\n",
       "    <tr style=\"text-align: right;\">\n",
       "      <th></th>\n",
       "      <th>Happiness_Rank</th>\n",
       "      <th>Country</th>\n",
       "      <th>Happiness_Score</th>\n",
       "      <th>GDP</th>\n",
       "      <th>Social_Support</th>\n",
       "      <th>Life_Expectancy</th>\n",
       "      <th>Freedom</th>\n",
       "      <th>Generosity</th>\n",
       "      <th>Government_Corruption</th>\n",
       "      <th>Year</th>\n",
       "    </tr>\n",
       "  </thead>\n",
       "  <tbody>\n",
       "    <tr>\n",
       "      <td>0</td>\n",
       "      <td>1</td>\n",
       "      <td>Finland</td>\n",
       "      <td>7.632</td>\n",
       "      <td>1.305</td>\n",
       "      <td>1.592</td>\n",
       "      <td>0.874</td>\n",
       "      <td>0.681</td>\n",
       "      <td>0.202</td>\n",
       "      <td>0.393</td>\n",
       "      <td>2018</td>\n",
       "    </tr>\n",
       "    <tr>\n",
       "      <td>1</td>\n",
       "      <td>2</td>\n",
       "      <td>Norway</td>\n",
       "      <td>7.594</td>\n",
       "      <td>1.456</td>\n",
       "      <td>1.582</td>\n",
       "      <td>0.861</td>\n",
       "      <td>0.686</td>\n",
       "      <td>0.286</td>\n",
       "      <td>0.340</td>\n",
       "      <td>2018</td>\n",
       "    </tr>\n",
       "    <tr>\n",
       "      <td>2</td>\n",
       "      <td>3</td>\n",
       "      <td>Denmark</td>\n",
       "      <td>7.555</td>\n",
       "      <td>1.351</td>\n",
       "      <td>1.590</td>\n",
       "      <td>0.868</td>\n",
       "      <td>0.683</td>\n",
       "      <td>0.284</td>\n",
       "      <td>0.408</td>\n",
       "      <td>2018</td>\n",
       "    </tr>\n",
       "    <tr>\n",
       "      <td>3</td>\n",
       "      <td>4</td>\n",
       "      <td>Iceland</td>\n",
       "      <td>7.495</td>\n",
       "      <td>1.343</td>\n",
       "      <td>1.644</td>\n",
       "      <td>0.914</td>\n",
       "      <td>0.677</td>\n",
       "      <td>0.353</td>\n",
       "      <td>0.138</td>\n",
       "      <td>2018</td>\n",
       "    </tr>\n",
       "    <tr>\n",
       "      <td>4</td>\n",
       "      <td>5</td>\n",
       "      <td>Switzerland</td>\n",
       "      <td>7.487</td>\n",
       "      <td>1.420</td>\n",
       "      <td>1.549</td>\n",
       "      <td>0.927</td>\n",
       "      <td>0.660</td>\n",
       "      <td>0.256</td>\n",
       "      <td>0.357</td>\n",
       "      <td>2018</td>\n",
       "    </tr>\n",
       "    <tr>\n",
       "      <td>...</td>\n",
       "      <td>...</td>\n",
       "      <td>...</td>\n",
       "      <td>...</td>\n",
       "      <td>...</td>\n",
       "      <td>...</td>\n",
       "      <td>...</td>\n",
       "      <td>...</td>\n",
       "      <td>...</td>\n",
       "      <td>...</td>\n",
       "      <td>...</td>\n",
       "    </tr>\n",
       "    <tr>\n",
       "      <td>151</td>\n",
       "      <td>152</td>\n",
       "      <td>Yemen</td>\n",
       "      <td>3.355</td>\n",
       "      <td>0.442</td>\n",
       "      <td>1.073</td>\n",
       "      <td>0.343</td>\n",
       "      <td>0.244</td>\n",
       "      <td>0.083</td>\n",
       "      <td>0.064</td>\n",
       "      <td>2018</td>\n",
       "    </tr>\n",
       "    <tr>\n",
       "      <td>152</td>\n",
       "      <td>153</td>\n",
       "      <td>Tanzania</td>\n",
       "      <td>3.303</td>\n",
       "      <td>0.455</td>\n",
       "      <td>0.991</td>\n",
       "      <td>0.381</td>\n",
       "      <td>0.481</td>\n",
       "      <td>0.270</td>\n",
       "      <td>0.097</td>\n",
       "      <td>2018</td>\n",
       "    </tr>\n",
       "    <tr>\n",
       "      <td>153</td>\n",
       "      <td>154</td>\n",
       "      <td>South Sudan</td>\n",
       "      <td>3.254</td>\n",
       "      <td>0.337</td>\n",
       "      <td>0.608</td>\n",
       "      <td>0.177</td>\n",
       "      <td>0.112</td>\n",
       "      <td>0.224</td>\n",
       "      <td>0.106</td>\n",
       "      <td>2018</td>\n",
       "    </tr>\n",
       "    <tr>\n",
       "      <td>154</td>\n",
       "      <td>155</td>\n",
       "      <td>Central African Republic</td>\n",
       "      <td>3.083</td>\n",
       "      <td>0.024</td>\n",
       "      <td>0.000</td>\n",
       "      <td>0.010</td>\n",
       "      <td>0.305</td>\n",
       "      <td>0.218</td>\n",
       "      <td>0.038</td>\n",
       "      <td>2018</td>\n",
       "    </tr>\n",
       "    <tr>\n",
       "      <td>155</td>\n",
       "      <td>156</td>\n",
       "      <td>Burundi</td>\n",
       "      <td>2.905</td>\n",
       "      <td>0.091</td>\n",
       "      <td>0.627</td>\n",
       "      <td>0.145</td>\n",
       "      <td>0.065</td>\n",
       "      <td>0.149</td>\n",
       "      <td>0.076</td>\n",
       "      <td>2018</td>\n",
       "    </tr>\n",
       "  </tbody>\n",
       "</table>\n",
       "<p>156 rows × 10 columns</p>\n",
       "</div>"
      ],
      "text/plain": [
       "     Happiness_Rank                   Country  Happiness_Score    GDP  \\\n",
       "0                 1                   Finland            7.632  1.305   \n",
       "1                 2                    Norway            7.594  1.456   \n",
       "2                 3                   Denmark            7.555  1.351   \n",
       "3                 4                   Iceland            7.495  1.343   \n",
       "4                 5               Switzerland            7.487  1.420   \n",
       "..              ...                       ...              ...    ...   \n",
       "151             152                     Yemen            3.355  0.442   \n",
       "152             153                  Tanzania            3.303  0.455   \n",
       "153             154               South Sudan            3.254  0.337   \n",
       "154             155  Central African Republic            3.083  0.024   \n",
       "155             156                   Burundi            2.905  0.091   \n",
       "\n",
       "     Social_Support  Life_Expectancy  Freedom  Generosity  \\\n",
       "0             1.592            0.874    0.681       0.202   \n",
       "1             1.582            0.861    0.686       0.286   \n",
       "2             1.590            0.868    0.683       0.284   \n",
       "3             1.644            0.914    0.677       0.353   \n",
       "4             1.549            0.927    0.660       0.256   \n",
       "..              ...              ...      ...         ...   \n",
       "151           1.073            0.343    0.244       0.083   \n",
       "152           0.991            0.381    0.481       0.270   \n",
       "153           0.608            0.177    0.112       0.224   \n",
       "154           0.000            0.010    0.305       0.218   \n",
       "155           0.627            0.145    0.065       0.149   \n",
       "\n",
       "     Government_Corruption  Year  \n",
       "0                    0.393  2018  \n",
       "1                    0.340  2018  \n",
       "2                    0.408  2018  \n",
       "3                    0.138  2018  \n",
       "4                    0.357  2018  \n",
       "..                     ...   ...  \n",
       "151                  0.064  2018  \n",
       "152                  0.097  2018  \n",
       "153                  0.106  2018  \n",
       "154                  0.038  2018  \n",
       "155                  0.076  2018  \n",
       "\n",
       "[156 rows x 10 columns]"
      ]
     },
     "execution_count": 15,
     "metadata": {},
     "output_type": "execute_result"
    }
   ],
   "source": [
    "YR2018.rename(columns = {'Country or region':'Country'}, inplace = True)\n",
    "YR2018.rename(columns = {'Overall rank':'Happiness_Rank'}, inplace = True)\n",
    "YR2018.rename(columns = {'Score':'Happiness_Score'}, inplace = True)\n",
    "YR2018.rename(columns = {'GDP per capita':'GDP'}, inplace = True)\n",
    "YR2018.rename(columns = {'Social support':'Social_Support'}, inplace = True)\n",
    "YR2018.rename(columns = {'Healthy life expectancy':'Life_Expectancy'}, inplace = True)\n",
    "YR2018.rename(columns = {'Freedom to make life choices':'Freedom'}, inplace = True)\n",
    "YR2018.rename(columns = {'Perceptions of corruption':'Government_Corruption'}, inplace = True)\n",
    "#YR2018.rename(columns = {'Generosity':'Generosity'}, inplace = True)\n",
    "YR2018['Year'] = 2018 \n",
    "YR2018"
   ]
  },
  {
   "cell_type": "code",
   "execution_count": 16,
   "metadata": {},
   "outputs": [
    {
     "data": {
      "text/html": [
       "<div>\n",
       "<style scoped>\n",
       "    .dataframe tbody tr th:only-of-type {\n",
       "        vertical-align: middle;\n",
       "    }\n",
       "\n",
       "    .dataframe tbody tr th {\n",
       "        vertical-align: top;\n",
       "    }\n",
       "\n",
       "    .dataframe thead th {\n",
       "        text-align: right;\n",
       "    }\n",
       "</style>\n",
       "<table border=\"1\" class=\"dataframe\">\n",
       "  <thead>\n",
       "    <tr style=\"text-align: right;\">\n",
       "      <th></th>\n",
       "      <th>Happiness_Rank</th>\n",
       "      <th>Country</th>\n",
       "      <th>Happiness_Score</th>\n",
       "      <th>GDP</th>\n",
       "      <th>Social_Support</th>\n",
       "      <th>Life_Expectancy</th>\n",
       "      <th>Freedom</th>\n",
       "      <th>Generosity</th>\n",
       "      <th>Government_Corruption</th>\n",
       "      <th>Year</th>\n",
       "    </tr>\n",
       "  </thead>\n",
       "  <tbody>\n",
       "    <tr>\n",
       "      <td>0</td>\n",
       "      <td>1</td>\n",
       "      <td>Finland</td>\n",
       "      <td>7.769</td>\n",
       "      <td>1.340</td>\n",
       "      <td>1.587</td>\n",
       "      <td>0.986</td>\n",
       "      <td>0.596</td>\n",
       "      <td>0.153</td>\n",
       "      <td>0.393</td>\n",
       "      <td>2019</td>\n",
       "    </tr>\n",
       "    <tr>\n",
       "      <td>1</td>\n",
       "      <td>2</td>\n",
       "      <td>Denmark</td>\n",
       "      <td>7.600</td>\n",
       "      <td>1.383</td>\n",
       "      <td>1.573</td>\n",
       "      <td>0.996</td>\n",
       "      <td>0.592</td>\n",
       "      <td>0.252</td>\n",
       "      <td>0.410</td>\n",
       "      <td>2019</td>\n",
       "    </tr>\n",
       "    <tr>\n",
       "      <td>2</td>\n",
       "      <td>3</td>\n",
       "      <td>Norway</td>\n",
       "      <td>7.554</td>\n",
       "      <td>1.488</td>\n",
       "      <td>1.582</td>\n",
       "      <td>1.028</td>\n",
       "      <td>0.603</td>\n",
       "      <td>0.271</td>\n",
       "      <td>0.341</td>\n",
       "      <td>2019</td>\n",
       "    </tr>\n",
       "    <tr>\n",
       "      <td>3</td>\n",
       "      <td>4</td>\n",
       "      <td>Iceland</td>\n",
       "      <td>7.494</td>\n",
       "      <td>1.380</td>\n",
       "      <td>1.624</td>\n",
       "      <td>1.026</td>\n",
       "      <td>0.591</td>\n",
       "      <td>0.354</td>\n",
       "      <td>0.118</td>\n",
       "      <td>2019</td>\n",
       "    </tr>\n",
       "    <tr>\n",
       "      <td>4</td>\n",
       "      <td>5</td>\n",
       "      <td>Netherlands</td>\n",
       "      <td>7.488</td>\n",
       "      <td>1.396</td>\n",
       "      <td>1.522</td>\n",
       "      <td>0.999</td>\n",
       "      <td>0.557</td>\n",
       "      <td>0.322</td>\n",
       "      <td>0.298</td>\n",
       "      <td>2019</td>\n",
       "    </tr>\n",
       "    <tr>\n",
       "      <td>...</td>\n",
       "      <td>...</td>\n",
       "      <td>...</td>\n",
       "      <td>...</td>\n",
       "      <td>...</td>\n",
       "      <td>...</td>\n",
       "      <td>...</td>\n",
       "      <td>...</td>\n",
       "      <td>...</td>\n",
       "      <td>...</td>\n",
       "      <td>...</td>\n",
       "    </tr>\n",
       "    <tr>\n",
       "      <td>151</td>\n",
       "      <td>152</td>\n",
       "      <td>Rwanda</td>\n",
       "      <td>3.334</td>\n",
       "      <td>0.359</td>\n",
       "      <td>0.711</td>\n",
       "      <td>0.614</td>\n",
       "      <td>0.555</td>\n",
       "      <td>0.217</td>\n",
       "      <td>0.411</td>\n",
       "      <td>2019</td>\n",
       "    </tr>\n",
       "    <tr>\n",
       "      <td>152</td>\n",
       "      <td>153</td>\n",
       "      <td>Tanzania</td>\n",
       "      <td>3.231</td>\n",
       "      <td>0.476</td>\n",
       "      <td>0.885</td>\n",
       "      <td>0.499</td>\n",
       "      <td>0.417</td>\n",
       "      <td>0.276</td>\n",
       "      <td>0.147</td>\n",
       "      <td>2019</td>\n",
       "    </tr>\n",
       "    <tr>\n",
       "      <td>153</td>\n",
       "      <td>154</td>\n",
       "      <td>Afghanistan</td>\n",
       "      <td>3.203</td>\n",
       "      <td>0.350</td>\n",
       "      <td>0.517</td>\n",
       "      <td>0.361</td>\n",
       "      <td>0.000</td>\n",
       "      <td>0.158</td>\n",
       "      <td>0.025</td>\n",
       "      <td>2019</td>\n",
       "    </tr>\n",
       "    <tr>\n",
       "      <td>154</td>\n",
       "      <td>155</td>\n",
       "      <td>Central African Republic</td>\n",
       "      <td>3.083</td>\n",
       "      <td>0.026</td>\n",
       "      <td>0.000</td>\n",
       "      <td>0.105</td>\n",
       "      <td>0.225</td>\n",
       "      <td>0.235</td>\n",
       "      <td>0.035</td>\n",
       "      <td>2019</td>\n",
       "    </tr>\n",
       "    <tr>\n",
       "      <td>155</td>\n",
       "      <td>156</td>\n",
       "      <td>South Sudan</td>\n",
       "      <td>2.853</td>\n",
       "      <td>0.306</td>\n",
       "      <td>0.575</td>\n",
       "      <td>0.295</td>\n",
       "      <td>0.010</td>\n",
       "      <td>0.202</td>\n",
       "      <td>0.091</td>\n",
       "      <td>2019</td>\n",
       "    </tr>\n",
       "  </tbody>\n",
       "</table>\n",
       "<p>156 rows × 10 columns</p>\n",
       "</div>"
      ],
      "text/plain": [
       "     Happiness_Rank                   Country  Happiness_Score    GDP  \\\n",
       "0                 1                   Finland            7.769  1.340   \n",
       "1                 2                   Denmark            7.600  1.383   \n",
       "2                 3                    Norway            7.554  1.488   \n",
       "3                 4                   Iceland            7.494  1.380   \n",
       "4                 5               Netherlands            7.488  1.396   \n",
       "..              ...                       ...              ...    ...   \n",
       "151             152                    Rwanda            3.334  0.359   \n",
       "152             153                  Tanzania            3.231  0.476   \n",
       "153             154               Afghanistan            3.203  0.350   \n",
       "154             155  Central African Republic            3.083  0.026   \n",
       "155             156               South Sudan            2.853  0.306   \n",
       "\n",
       "     Social_Support  Life_Expectancy  Freedom  Generosity  \\\n",
       "0             1.587            0.986    0.596       0.153   \n",
       "1             1.573            0.996    0.592       0.252   \n",
       "2             1.582            1.028    0.603       0.271   \n",
       "3             1.624            1.026    0.591       0.354   \n",
       "4             1.522            0.999    0.557       0.322   \n",
       "..              ...              ...      ...         ...   \n",
       "151           0.711            0.614    0.555       0.217   \n",
       "152           0.885            0.499    0.417       0.276   \n",
       "153           0.517            0.361    0.000       0.158   \n",
       "154           0.000            0.105    0.225       0.235   \n",
       "155           0.575            0.295    0.010       0.202   \n",
       "\n",
       "     Government_Corruption  Year  \n",
       "0                    0.393  2019  \n",
       "1                    0.410  2019  \n",
       "2                    0.341  2019  \n",
       "3                    0.118  2019  \n",
       "4                    0.298  2019  \n",
       "..                     ...   ...  \n",
       "151                  0.411  2019  \n",
       "152                  0.147  2019  \n",
       "153                  0.025  2019  \n",
       "154                  0.035  2019  \n",
       "155                  0.091  2019  \n",
       "\n",
       "[156 rows x 10 columns]"
      ]
     },
     "execution_count": 16,
     "metadata": {},
     "output_type": "execute_result"
    }
   ],
   "source": [
    "YR2019.rename(columns = {'Country or region':'Country'}, inplace = True)\n",
    "YR2019.rename(columns = {'Overall rank':'Happiness_Rank'}, inplace = True)\n",
    "YR2019.rename(columns = {'Score':'Happiness_Score'}, inplace = True)\n",
    "YR2019.rename(columns = {'GDP per capita':'GDP'}, inplace = True)\n",
    "YR2019.rename(columns = {'Social support':'Social_Support'}, inplace = True)\n",
    "YR2019.rename(columns = {'Healthy life expectancy':'Life_Expectancy'}, inplace = True)\n",
    "YR2019.rename(columns = {'Freedom to make life choices':'Freedom'}, inplace = True)\n",
    "YR2019.rename(columns = {'Perceptions of corruption':'Government_Corruption'}, inplace = True)\n",
    "#YR2019.rename(columns = {'Generosity':'Generosity'}, inplace = True)\n",
    "YR2019['Year'] = 2019 \n",
    "YR2019"
   ]
  },
  {
   "cell_type": "code",
   "execution_count": 17,
   "metadata": {},
   "outputs": [],
   "source": [
    "#add a 10th column for the year, and then merge data"
   ]
  },
  {
   "cell_type": "code",
   "execution_count": 18,
   "metadata": {},
   "outputs": [
    {
     "data": {
      "text/html": [
       "<div>\n",
       "<style scoped>\n",
       "    .dataframe tbody tr th:only-of-type {\n",
       "        vertical-align: middle;\n",
       "    }\n",
       "\n",
       "    .dataframe tbody tr th {\n",
       "        vertical-align: top;\n",
       "    }\n",
       "\n",
       "    .dataframe thead th {\n",
       "        text-align: right;\n",
       "    }\n",
       "</style>\n",
       "<table border=\"1\" class=\"dataframe\">\n",
       "  <thead>\n",
       "    <tr style=\"text-align: right;\">\n",
       "      <th></th>\n",
       "      <th>Country</th>\n",
       "      <th>Freedom</th>\n",
       "      <th>GDP</th>\n",
       "      <th>Generosity</th>\n",
       "      <th>Government_Corruption</th>\n",
       "      <th>Happiness_Rank</th>\n",
       "      <th>Happiness_Score</th>\n",
       "      <th>Life_Expectancy</th>\n",
       "      <th>Social_Support</th>\n",
       "      <th>Year</th>\n",
       "    </tr>\n",
       "  </thead>\n",
       "  <tbody>\n",
       "    <tr>\n",
       "      <td>0</td>\n",
       "      <td>Switzerland</td>\n",
       "      <td>0.66557</td>\n",
       "      <td>1.39651</td>\n",
       "      <td>0.29678</td>\n",
       "      <td>0.41978</td>\n",
       "      <td>1</td>\n",
       "      <td>7.587</td>\n",
       "      <td>0.94143</td>\n",
       "      <td>1.34951</td>\n",
       "      <td>2015</td>\n",
       "    </tr>\n",
       "    <tr>\n",
       "      <td>1</td>\n",
       "      <td>Iceland</td>\n",
       "      <td>0.62877</td>\n",
       "      <td>1.30232</td>\n",
       "      <td>0.43630</td>\n",
       "      <td>0.14145</td>\n",
       "      <td>2</td>\n",
       "      <td>7.561</td>\n",
       "      <td>0.94784</td>\n",
       "      <td>1.40223</td>\n",
       "      <td>2015</td>\n",
       "    </tr>\n",
       "    <tr>\n",
       "      <td>2</td>\n",
       "      <td>Denmark</td>\n",
       "      <td>0.64938</td>\n",
       "      <td>1.32548</td>\n",
       "      <td>0.34139</td>\n",
       "      <td>0.48357</td>\n",
       "      <td>3</td>\n",
       "      <td>7.527</td>\n",
       "      <td>0.87464</td>\n",
       "      <td>1.36058</td>\n",
       "      <td>2015</td>\n",
       "    </tr>\n",
       "    <tr>\n",
       "      <td>3</td>\n",
       "      <td>Norway</td>\n",
       "      <td>0.66973</td>\n",
       "      <td>1.45900</td>\n",
       "      <td>0.34699</td>\n",
       "      <td>0.36503</td>\n",
       "      <td>4</td>\n",
       "      <td>7.522</td>\n",
       "      <td>0.88521</td>\n",
       "      <td>1.33095</td>\n",
       "      <td>2015</td>\n",
       "    </tr>\n",
       "    <tr>\n",
       "      <td>4</td>\n",
       "      <td>Canada</td>\n",
       "      <td>0.63297</td>\n",
       "      <td>1.32629</td>\n",
       "      <td>0.45811</td>\n",
       "      <td>0.32957</td>\n",
       "      <td>5</td>\n",
       "      <td>7.427</td>\n",
       "      <td>0.90563</td>\n",
       "      <td>1.32261</td>\n",
       "      <td>2015</td>\n",
       "    </tr>\n",
       "    <tr>\n",
       "      <td>...</td>\n",
       "      <td>...</td>\n",
       "      <td>...</td>\n",
       "      <td>...</td>\n",
       "      <td>...</td>\n",
       "      <td>...</td>\n",
       "      <td>...</td>\n",
       "      <td>...</td>\n",
       "      <td>...</td>\n",
       "      <td>...</td>\n",
       "      <td>...</td>\n",
       "    </tr>\n",
       "    <tr>\n",
       "      <td>151</td>\n",
       "      <td>Rwanda</td>\n",
       "      <td>0.55500</td>\n",
       "      <td>0.35900</td>\n",
       "      <td>0.21700</td>\n",
       "      <td>0.41100</td>\n",
       "      <td>152</td>\n",
       "      <td>3.334</td>\n",
       "      <td>0.61400</td>\n",
       "      <td>0.71100</td>\n",
       "      <td>2019</td>\n",
       "    </tr>\n",
       "    <tr>\n",
       "      <td>152</td>\n",
       "      <td>Tanzania</td>\n",
       "      <td>0.41700</td>\n",
       "      <td>0.47600</td>\n",
       "      <td>0.27600</td>\n",
       "      <td>0.14700</td>\n",
       "      <td>153</td>\n",
       "      <td>3.231</td>\n",
       "      <td>0.49900</td>\n",
       "      <td>0.88500</td>\n",
       "      <td>2019</td>\n",
       "    </tr>\n",
       "    <tr>\n",
       "      <td>153</td>\n",
       "      <td>Afghanistan</td>\n",
       "      <td>0.00000</td>\n",
       "      <td>0.35000</td>\n",
       "      <td>0.15800</td>\n",
       "      <td>0.02500</td>\n",
       "      <td>154</td>\n",
       "      <td>3.203</td>\n",
       "      <td>0.36100</td>\n",
       "      <td>0.51700</td>\n",
       "      <td>2019</td>\n",
       "    </tr>\n",
       "    <tr>\n",
       "      <td>154</td>\n",
       "      <td>Central African Republic</td>\n",
       "      <td>0.22500</td>\n",
       "      <td>0.02600</td>\n",
       "      <td>0.23500</td>\n",
       "      <td>0.03500</td>\n",
       "      <td>155</td>\n",
       "      <td>3.083</td>\n",
       "      <td>0.10500</td>\n",
       "      <td>0.00000</td>\n",
       "      <td>2019</td>\n",
       "    </tr>\n",
       "    <tr>\n",
       "      <td>155</td>\n",
       "      <td>South Sudan</td>\n",
       "      <td>0.01000</td>\n",
       "      <td>0.30600</td>\n",
       "      <td>0.20200</td>\n",
       "      <td>0.09100</td>\n",
       "      <td>156</td>\n",
       "      <td>2.853</td>\n",
       "      <td>0.29500</td>\n",
       "      <td>0.57500</td>\n",
       "      <td>2019</td>\n",
       "    </tr>\n",
       "  </tbody>\n",
       "</table>\n",
       "<p>782 rows × 10 columns</p>\n",
       "</div>"
      ],
      "text/plain": [
       "                      Country  Freedom      GDP  Generosity  \\\n",
       "0                 Switzerland  0.66557  1.39651     0.29678   \n",
       "1                     Iceland  0.62877  1.30232     0.43630   \n",
       "2                     Denmark  0.64938  1.32548     0.34139   \n",
       "3                      Norway  0.66973  1.45900     0.34699   \n",
       "4                      Canada  0.63297  1.32629     0.45811   \n",
       "..                        ...      ...      ...         ...   \n",
       "151                    Rwanda  0.55500  0.35900     0.21700   \n",
       "152                  Tanzania  0.41700  0.47600     0.27600   \n",
       "153               Afghanistan  0.00000  0.35000     0.15800   \n",
       "154  Central African Republic  0.22500  0.02600     0.23500   \n",
       "155               South Sudan  0.01000  0.30600     0.20200   \n",
       "\n",
       "     Government_Corruption  Happiness_Rank  Happiness_Score  Life_Expectancy  \\\n",
       "0                  0.41978               1            7.587          0.94143   \n",
       "1                  0.14145               2            7.561          0.94784   \n",
       "2                  0.48357               3            7.527          0.87464   \n",
       "3                  0.36503               4            7.522          0.88521   \n",
       "4                  0.32957               5            7.427          0.90563   \n",
       "..                     ...             ...              ...              ...   \n",
       "151                0.41100             152            3.334          0.61400   \n",
       "152                0.14700             153            3.231          0.49900   \n",
       "153                0.02500             154            3.203          0.36100   \n",
       "154                0.03500             155            3.083          0.10500   \n",
       "155                0.09100             156            2.853          0.29500   \n",
       "\n",
       "     Social_Support  Year  \n",
       "0           1.34951  2015  \n",
       "1           1.40223  2015  \n",
       "2           1.36058  2015  \n",
       "3           1.33095  2015  \n",
       "4           1.32261  2015  \n",
       "..              ...   ...  \n",
       "151         0.71100  2019  \n",
       "152         0.88500  2019  \n",
       "153         0.51700  2019  \n",
       "154         0.00000  2019  \n",
       "155         0.57500  2019  \n",
       "\n",
       "[782 rows x 10 columns]"
      ]
     },
     "execution_count": 18,
     "metadata": {},
     "output_type": "execute_result"
    }
   ],
   "source": [
    "frames=[YR2015, YR2016, YR2017, YR2018, YR2019]\n",
    "YR2015_2019 = pd.concat(frames, sort=True)\n",
    "YR2015_2019.replace(np.nan, 0, inplace=True)\n",
    "YR2015_2019"
   ]
  },
  {
   "cell_type": "code",
   "execution_count": 19,
   "metadata": {},
   "outputs": [
    {
     "data": {
      "text/html": [
       "<div>\n",
       "<style scoped>\n",
       "    .dataframe tbody tr th:only-of-type {\n",
       "        vertical-align: middle;\n",
       "    }\n",
       "\n",
       "    .dataframe tbody tr th {\n",
       "        vertical-align: top;\n",
       "    }\n",
       "\n",
       "    .dataframe thead th {\n",
       "        text-align: right;\n",
       "    }\n",
       "</style>\n",
       "<table border=\"1\" class=\"dataframe\">\n",
       "  <thead>\n",
       "    <tr style=\"text-align: right;\">\n",
       "      <th></th>\n",
       "      <th>Country</th>\n",
       "      <th>GDP</th>\n",
       "      <th>Freedom</th>\n",
       "      <th>Generosity</th>\n",
       "      <th>Government_Corruption</th>\n",
       "      <th>Happiness_Score</th>\n",
       "      <th>Life_Expectancy</th>\n",
       "      <th>Social_Support</th>\n",
       "    </tr>\n",
       "  </thead>\n",
       "  <tbody>\n",
       "    <tr>\n",
       "      <td>0</td>\n",
       "      <td>Afghanistan</td>\n",
       "      <td>0.357113</td>\n",
       "      <td>0.117924</td>\n",
       "      <td>0.267730</td>\n",
       "      <td>0.058094</td>\n",
       "      <td>3.51280</td>\n",
       "      <td>0.254707</td>\n",
       "      <td>0.409753</td>\n",
       "    </tr>\n",
       "    <tr>\n",
       "      <td>1</td>\n",
       "      <td>Albania</td>\n",
       "      <td>0.938633</td>\n",
       "      <td>0.371898</td>\n",
       "      <td>0.167887</td>\n",
       "      <td>0.043201</td>\n",
       "      <td>4.71260</td>\n",
       "      <td>0.787696</td>\n",
       "      <td>0.754931</td>\n",
       "    </tr>\n",
       "    <tr>\n",
       "      <td>2</td>\n",
       "      <td>Algeria</td>\n",
       "      <td>1.012963</td>\n",
       "      <td>0.178437</td>\n",
       "      <td>0.069219</td>\n",
       "      <td>0.146099</td>\n",
       "      <td>5.66760</td>\n",
       "      <td>0.665057</td>\n",
       "      <td>1.074205</td>\n",
       "    </tr>\n",
       "    <tr>\n",
       "      <td>3</td>\n",
       "      <td>Angola</td>\n",
       "      <td>0.798380</td>\n",
       "      <td>0.027433</td>\n",
       "      <td>0.105269</td>\n",
       "      <td>0.071570</td>\n",
       "      <td>3.87225</td>\n",
       "      <td>0.133902</td>\n",
       "      <td>0.938368</td>\n",
       "    </tr>\n",
       "    <tr>\n",
       "      <td>4</td>\n",
       "      <td>Argentina</td>\n",
       "      <td>1.111035</td>\n",
       "      <td>0.481620</td>\n",
       "      <td>0.092371</td>\n",
       "      <td>0.064308</td>\n",
       "      <td>6.45940</td>\n",
       "      <td>0.760895</td>\n",
       "      <td>1.330960</td>\n",
       "    </tr>\n",
       "    <tr>\n",
       "      <td>...</td>\n",
       "      <td>...</td>\n",
       "      <td>...</td>\n",
       "      <td>...</td>\n",
       "      <td>...</td>\n",
       "      <td>...</td>\n",
       "      <td>...</td>\n",
       "      <td>...</td>\n",
       "      <td>...</td>\n",
       "    </tr>\n",
       "    <tr>\n",
       "      <td>165</td>\n",
       "      <td>Venezuela</td>\n",
       "      <td>1.052468</td>\n",
       "      <td>0.213709</td>\n",
       "      <td>0.057186</td>\n",
       "      <td>0.071444</td>\n",
       "      <td>5.53140</td>\n",
       "      <td>0.683741</td>\n",
       "      <td>1.323264</td>\n",
       "    </tr>\n",
       "    <tr>\n",
       "      <td>166</td>\n",
       "      <td>Vietnam</td>\n",
       "      <td>0.723416</td>\n",
       "      <td>0.577207</td>\n",
       "      <td>0.195664</td>\n",
       "      <td>0.091921</td>\n",
       "      <td>5.15460</td>\n",
       "      <td>0.722700</td>\n",
       "      <td>1.138384</td>\n",
       "    </tr>\n",
       "    <tr>\n",
       "      <td>167</td>\n",
       "      <td>Yemen</td>\n",
       "      <td>0.489313</td>\n",
       "      <td>0.244175</td>\n",
       "      <td>0.096929</td>\n",
       "      <td>0.067045</td>\n",
       "      <td>3.62580</td>\n",
       "      <td>0.365440</td>\n",
       "      <td>0.865448</td>\n",
       "    </tr>\n",
       "    <tr>\n",
       "      <td>168</td>\n",
       "      <td>Zambia</td>\n",
       "      <td>0.571761</td>\n",
       "      <td>0.462099</td>\n",
       "      <td>0.218430</td>\n",
       "      <td>0.097337</td>\n",
       "      <td>4.58440</td>\n",
       "      <td>0.302761</td>\n",
       "      <td>0.932381</td>\n",
       "    </tr>\n",
       "    <tr>\n",
       "      <td>169</td>\n",
       "      <td>Zimbabwe</td>\n",
       "      <td>0.344051</td>\n",
       "      <td>0.323257</td>\n",
       "      <td>0.169409</td>\n",
       "      <td>0.089997</td>\n",
       "      <td>4.00660</td>\n",
       "      <td>0.274403</td>\n",
       "      <td>1.007727</td>\n",
       "    </tr>\n",
       "  </tbody>\n",
       "</table>\n",
       "<p>170 rows × 8 columns</p>\n",
       "</div>"
      ],
      "text/plain": [
       "         Country       GDP   Freedom  Generosity  Government_Corruption  \\\n",
       "0    Afghanistan  0.357113  0.117924    0.267730               0.058094   \n",
       "1        Albania  0.938633  0.371898    0.167887               0.043201   \n",
       "2        Algeria  1.012963  0.178437    0.069219               0.146099   \n",
       "3         Angola  0.798380  0.027433    0.105269               0.071570   \n",
       "4      Argentina  1.111035  0.481620    0.092371               0.064308   \n",
       "..           ...       ...       ...         ...                    ...   \n",
       "165    Venezuela  1.052468  0.213709    0.057186               0.071444   \n",
       "166      Vietnam  0.723416  0.577207    0.195664               0.091921   \n",
       "167        Yemen  0.489313  0.244175    0.096929               0.067045   \n",
       "168       Zambia  0.571761  0.462099    0.218430               0.097337   \n",
       "169     Zimbabwe  0.344051  0.323257    0.169409               0.089997   \n",
       "\n",
       "     Happiness_Score  Life_Expectancy  Social_Support  \n",
       "0            3.51280         0.254707        0.409753  \n",
       "1            4.71260         0.787696        0.754931  \n",
       "2            5.66760         0.665057        1.074205  \n",
       "3            3.87225         0.133902        0.938368  \n",
       "4            6.45940         0.760895        1.330960  \n",
       "..               ...              ...             ...  \n",
       "165          5.53140         0.683741        1.323264  \n",
       "166          5.15460         0.722700        1.138384  \n",
       "167          3.62580         0.365440        0.865448  \n",
       "168          4.58440         0.302761        0.932381  \n",
       "169          4.00660         0.274403        1.007727  \n",
       "\n",
       "[170 rows x 8 columns]"
      ]
     },
     "execution_count": 19,
     "metadata": {},
     "output_type": "execute_result"
    }
   ],
   "source": [
    "Groupby_ = YR2015_2019.groupby('Country').agg({'GDP': ['mean'],'Freedom': ['mean'], 'Generosity': ['mean'], 'Government_Corruption': ['mean'],\n",
    "                                              'Happiness_Score': ['mean'], 'Life_Expectancy': ['mean'], 'Social_Support': ['mean']})\n",
    "Groupby_ = Groupby_.reset_index()\n",
    "Groupby_.columns= Groupby_.columns.droplevel(1)\n",
    "Groupby_\n",
    "\n",
    "# Groupby_ = YR2015_2019.groupby('Country').mean({'GDP','Freedom', 'Generosity', 'Government_Corruption',\n",
    "#                                               'Happiness_Score', 'Life_Expectancy', 'Social_Support'})\n",
    "# Groupby_ = Groupby_.reset_index()\n",
    "# Groupby_"
   ]
  },
  {
   "cell_type": "code",
   "execution_count": 20,
   "metadata": {},
   "outputs": [
    {
     "name": "stdout",
     "output_type": "stream",
     "text": [
      "Index(['GDP', 'Freedom', 'Generosity', 'Government_Corruption',\n",
      "       'Happiness_Score', 'Life_Expectancy', 'Social_Support'],\n",
      "      dtype='object')\n"
     ]
    }
   ],
   "source": [
    "#YR2015_2016 = pd.merge(YR2015, YR2016, on=\"Country\", how=\"outer\")\n",
    "#YR2015_2016\n",
    "No_country = Groupby_.drop('Country', axis=1)\n",
    "print(No_country.columns)"
   ]
  },
  {
   "cell_type": "code",
   "execution_count": 21,
   "metadata": {},
   "outputs": [
    {
     "data": {
      "text/plain": [
       "LinearRegression(copy_X=True, fit_intercept=True, n_jobs=None, normalize=False)"
      ]
     },
     "execution_count": 21,
     "metadata": {},
     "output_type": "execute_result"
    }
   ],
   "source": [
    "from sklearn.linear_model import LinearRegression\n",
    "X2 = No_country.drop('Happiness_Score',axis=1)\n",
    "lm2 = LinearRegression()\n",
    "lm2.fit(X2, No_country.Happiness_Score)"
   ]
  },
  {
   "cell_type": "code",
   "execution_count": 22,
   "metadata": {},
   "outputs": [
    {
     "data": {
      "text/html": [
       "<div>\n",
       "<style scoped>\n",
       "    .dataframe tbody tr th:only-of-type {\n",
       "        vertical-align: middle;\n",
       "    }\n",
       "\n",
       "    .dataframe tbody tr th {\n",
       "        vertical-align: top;\n",
       "    }\n",
       "\n",
       "    .dataframe thead th {\n",
       "        text-align: right;\n",
       "    }\n",
       "</style>\n",
       "<table border=\"1\" class=\"dataframe\">\n",
       "  <thead>\n",
       "    <tr style=\"text-align: right;\">\n",
       "      <th></th>\n",
       "      <th>Features</th>\n",
       "      <th>Coefficents</th>\n",
       "    </tr>\n",
       "  </thead>\n",
       "  <tbody>\n",
       "    <tr>\n",
       "      <td>0</td>\n",
       "      <td>GDP</td>\n",
       "      <td>0.849983</td>\n",
       "    </tr>\n",
       "    <tr>\n",
       "      <td>1</td>\n",
       "      <td>Freedom</td>\n",
       "      <td>1.657196</td>\n",
       "    </tr>\n",
       "    <tr>\n",
       "      <td>2</td>\n",
       "      <td>Generosity</td>\n",
       "      <td>0.354902</td>\n",
       "    </tr>\n",
       "    <tr>\n",
       "      <td>3</td>\n",
       "      <td>Government_Corruption</td>\n",
       "      <td>0.877458</td>\n",
       "    </tr>\n",
       "    <tr>\n",
       "      <td>4</td>\n",
       "      <td>Life_Expectancy</td>\n",
       "      <td>1.008688</td>\n",
       "    </tr>\n",
       "    <tr>\n",
       "      <td>5</td>\n",
       "      <td>Social_Support</td>\n",
       "      <td>1.125802</td>\n",
       "    </tr>\n",
       "  </tbody>\n",
       "</table>\n",
       "</div>"
      ],
      "text/plain": [
       "                Features  Coefficents\n",
       "0                    GDP     0.849983\n",
       "1                Freedom     1.657196\n",
       "2             Generosity     0.354902\n",
       "3  Government_Corruption     0.877458\n",
       "4        Life_Expectancy     1.008688\n",
       "5         Social_Support     1.125802"
      ]
     },
     "execution_count": 22,
     "metadata": {},
     "output_type": "execute_result"
    }
   ],
   "source": [
    "coef2 = zip(X2.columns, lm2.coef_)\n",
    "coef_df2 = pd.DataFrame(list(zip(X2.columns, lm2.coef_)), columns=['Features', 'Coefficents'])\n",
    "coef_df2"
   ]
  },
  {
   "cell_type": "code",
   "execution_count": 23,
   "metadata": {},
   "outputs": [
    {
     "data": {
      "text/plain": [
       "array([3.26858923, 5.06147402, 5.09505852, 3.9211246 , 6.00302585,\n",
       "       4.74678136, 7.02614452, 6.76875054, 5.40686776, 6.33599289,\n",
       "       4.64026314, 5.72480484, 6.6689511 , 5.25699956, 3.71025936,\n",
       "       5.6281794 , 5.37518052, 4.95565724, 5.32187987, 5.8480269 ,\n",
       "       5.56580521, 4.21582459, 3.02975586, 5.11182209, 4.35121013,\n",
       "       6.97473785, 2.6505049 , 3.64537459, 5.94104781, 5.6374037 ,\n",
       "       5.79711396, 3.82924801, 4.49849732, 3.89346542, 6.24397731,\n",
       "       5.296198  , 5.82342646, 6.15398252, 7.12244924, 4.38659262,\n",
       "       5.91419347, 5.71887015, 4.75170208, 5.32091004, 6.22617251,\n",
       "       4.31809625, 7.01205945, 6.46772193, 5.02795591, 4.53110686,\n",
       "       4.69768732, 6.76203595, 4.46795117, 5.17409548, 5.56594605,\n",
       "       3.86462507, 3.62991489, 5.12349767, 6.66727231, 6.80166205,\n",
       "       5.52791379, 6.98618617, 4.6137595 , 5.50142209, 4.9655701 ,\n",
       "       4.83871526, 7.0092535 , 6.3237906 , 5.94978828, 4.25743982,\n",
       "       5.69682335, 6.5203663 , 5.46711447, 5.90448656, 4.7580243 ,\n",
       "       5.07137781, 6.32194281, 5.34620224, 5.16456142, 5.66768567,\n",
       "       5.35928865, 4.44479563, 3.84849202, 5.66959007, 5.65539924,\n",
       "       7.07181761, 5.30559843, 3.85739283, 3.76744086, 5.81609289,\n",
       "       4.35290431, 6.72812407, 4.34847604, 5.86647429, 5.70355474,\n",
       "       4.89603151, 5.6283699 , 5.24575678, 4.74414023, 4.3029407 ,\n",
       "       5.10981564, 5.19588873, 4.90428033, 6.89691159, 7.07387329,\n",
       "       5.57466639, 4.02882408, 4.50589694, 6.03004886, 5.71023695,\n",
       "       6.29486791, 7.1648206 , 6.45919623, 4.20016689, 4.77382693,\n",
       "       6.13753087, 5.83077726, 5.49895457, 5.56213915, 6.14186115,\n",
       "       6.13590657, 6.02483075, 6.8965475 , 5.5548947 , 5.70094466,\n",
       "       4.94757831, 6.06976617, 4.62487639, 5.26618672, 3.88585804,\n",
       "       7.10237179, 5.87467519, 6.45023066, 4.09855014, 4.46467621,\n",
       "       4.88025967, 5.26394544, 5.69320948, 3.34097865, 6.34548698,\n",
       "       5.76236575, 4.15311366, 5.44599237, 4.47310322, 7.03799007,\n",
       "       7.14895872, 3.90000331, 6.06373426, 6.23032027, 4.93397581,\n",
       "       4.56216825, 6.1328825 , 3.54013072, 6.22379819, 5.88688422])"
      ]
     },
     "execution_count": 23,
     "metadata": {},
     "output_type": "execute_result"
    }
   ],
   "source": [
    "lm2.predict(X2)[0:155]"
   ]
  },
  {
   "cell_type": "code",
   "execution_count": 24,
   "metadata": {},
   "outputs": [
    {
     "data": {
      "text/html": [
       "        <script type=\"text/javascript\">\n",
       "        window.PlotlyConfig = {MathJaxConfig: 'local'};\n",
       "        if (window.MathJax) {MathJax.Hub.Config({SVG: {font: \"STIX-Web\"}});}\n",
       "        if (typeof require !== 'undefined') {\n",
       "        require.undef(\"plotly\");\n",
       "        requirejs.config({\n",
       "            paths: {\n",
       "                'plotly': ['https://cdn.plot.ly/plotly-latest.min']\n",
       "            }\n",
       "        });\n",
       "        require(['plotly'], function(Plotly) {\n",
       "            window._Plotly = Plotly;\n",
       "        });\n",
       "        }\n",
       "        </script>\n",
       "        "
      ]
     },
     "metadata": {},
     "output_type": "display_data"
    }
   ],
   "source": [
    "import os\n",
    "import statsmodels.formula.api as stats\n",
    "from statsmodels.formula.api import ols\n",
    "import sklearn\n",
    "from sklearn import linear_model, datasets\n",
    "from sklearn.metrics import mean_squared_error\n",
    "import plotly\n",
    "import plotly.graph_objs as go\n",
    "from plotly.offline import download_plotlyjs, init_notebook_mode, plot, iplot\n",
    "init_notebook_mode(connected=True)"
   ]
  },
  {
   "cell_type": "code",
   "execution_count": 25,
   "metadata": {
    "scrolled": true
   },
   "outputs": [
    {
     "data": {
      "application/vnd.plotly.v1+json": {
       "config": {
        "linkText": "Export to plot.ly",
        "plotlyServerURL": "https://plot.ly",
        "showLink": false
       },
       "data": [
        {
         "mode": "markers",
         "type": "scatter",
         "x": [
          3.2685892285328055,
          5.061474024095897,
          5.0950585151895655,
          3.9211246020679873,
          6.0030258468126245,
          4.746781355502209,
          7.026144515209099,
          6.768750543849135,
          5.406867763954043,
          6.335992889383471,
          4.640263141155637,
          5.724804844018529,
          6.668951095696428,
          5.25699955691893,
          3.710259360852599,
          5.628179398219487,
          5.3751805172686264,
          4.955657236092067,
          5.321879869564571,
          5.848026895081191,
          5.565805210434431,
          4.215824588477113,
          3.0297558631465993,
          5.1118220892544155,
          4.351210128170681,
          6.974737846957273,
          2.650504902651619,
          3.645374590179677,
          5.941047812153734,
          5.637403699224946,
          5.797113963360211,
          3.8292480055617473,
          4.498497318170654,
          3.8934654204983605,
          6.243977308269002,
          5.296198003640104,
          5.823426458719374,
          6.153982521658666,
          7.122449244151168,
          4.386592621779531,
          5.9141934744758515,
          5.718870147279892,
          4.751702083462512,
          5.320910039686236,
          6.226172508496964,
          4.318096246025458,
          7.01205945291275,
          6.467721930242899,
          5.027955907685431,
          4.531106856812746,
          4.697687324517062,
          6.762035948359161,
          4.467951170770061,
          5.174095482858239,
          5.565946051489469,
          3.864625073963783,
          3.629914886709514,
          5.123497668392274,
          6.667272306427302,
          6.8016620481493515,
          5.527913785548682,
          6.986186168360852,
          4.613759500834561,
          5.501422093729162,
          4.965570095291434,
          4.838715263544767,
          7.009253497014509,
          6.323790596041368,
          5.949788281730731,
          4.257439815235343,
          5.696823346670595,
          6.5203663022269165,
          5.4671144715023985,
          5.904486559197101,
          4.758024300499823,
          5.071377808598832,
          6.321942810314072,
          5.346202244852572,
          5.164561418774131,
          5.667685665499963,
          5.359288652518252,
          4.444795632114761,
          3.8484920208611157,
          5.669590066684837,
          5.655399236643506,
          7.071817605609532,
          5.305598434664651,
          3.8573928343946067,
          3.767440858166079,
          5.816092886077787,
          4.3529043130920755,
          6.728124071561954,
          4.3484760421080395,
          5.8664742912763534,
          5.70355474171186,
          4.896031512865324,
          5.628369895070714,
          5.245756783746334,
          4.744140233874165,
          4.302940699508534,
          5.109815638325138,
          5.1958887338993005,
          4.904280333745804,
          6.896911589310351,
          7.073873287006942,
          5.574666385078919,
          4.028824077627619,
          4.505896942919746,
          6.030048864626986,
          5.710236954740523,
          6.294867905798382,
          7.164820603935935,
          6.4591962252392126,
          4.200166890098783,
          4.773826929405117,
          6.137530870867565,
          5.83077725896724,
          5.498954567564626,
          5.562139154824605,
          6.14186114936798,
          6.135906569666076,
          6.024830751805972,
          6.8965475004832495,
          5.554894703237698,
          5.700944655112613,
          4.94757830569451,
          6.069766169334908,
          4.624876386884736,
          5.266186724494509,
          3.8858580405497367,
          7.10237179067153,
          5.874675192029581,
          6.450230664760749,
          4.098550136228967,
          4.464676211667051,
          4.880259669234977,
          5.263945439743201,
          5.693209479330735,
          3.3409786533890116,
          6.345486976492456,
          5.762365747066302,
          4.153113655545125,
          5.445992367738738,
          4.4731032166896,
          7.037990074069798,
          7.148958723860703,
          3.9000033055509244,
          6.063734263107795,
          6.230320272933481,
          4.9339758076102065,
          4.562168246893418,
          6.1328825020036515,
          3.5401307203925825,
          6.223798188029315,
          5.8868842189335,
          4.7420753943394205,
          5.480481810508804,
          5.783464730730502,
          4.530624889679347,
          5.069369032591743,
          6.473980290403739,
          6.671405371616499,
          6.557007803702758,
          6.319378761350102,
          6.1699642291026535,
          5.416549405977112,
          5.637520463198792,
          4.162134059306316,
          4.675186752026903,
          4.283930502351018
         ],
         "y": [
          3.5127999819999998,
          4.712600010600001,
          5.6676000434,
          3.8722500190000004,
          6.4593999954,
          4.393199985600001,
          7.276199984,
          7.142000008399999,
          5.2292000412,
          6.113799978600001,
          4.5801999604,
          5.5979999534000005,
          6.9213999587999995,
          5.955999950333333,
          3.901000013,
          5.1248000312,
          5.8131999908,
          5.161800032,
          3.8300000063999997,
          6.6578000458,
          4.618600044999999,
          4.073800013,
          3.0789999941999997,
          4.205400044199999,
          4.6958000344,
          7.350599997000001,
          3.1342500195,
          4.0034000218,
          6.5893999899999995,
          5.2189999526,
          6.3399999747999995,
          3.9616666666666673,
          4.377399977800001,
          4.346400042,
          7.1261999992,
          5.4586000442,
          5.7327999626,
          6.654600041200001,
          7.545999967199999,
          4.369,
          5.199400003799999,
          5.9919999794,
          4.3752000268,
          6.1241999566,
          5.6378000122000005,
          4.4232000076,
          7.5377999726,
          6.5151999824,
          4.4078000306,
          4.516,
          4.338799955000001,
          6.9290000428,
          4.5363999772,
          5.1524000474000005,
          6.3437999992,
          3.8535999938000005,
          3.8655999852000003,
          5.2408000466,
          5.4479999999999995,
          5.472000122000001,
          5.3293999763999995,
          7.5110000374000006,
          4.297800011400001,
          5.2520000168,
          4.6891999824,
          4.5284000434,
          6.9644000474,
          7.1421999642000005,
          6.0224000449999995,
          4.2731999656,
          5.6619999739999995,
          5.9258000152,
          5.1795999932,
          5.838399953400001,
          4.4493999946,
          5.606199961,
          6.1486000037999995,
          5.1734000373999995,
          4.79275,
          5.676199981,
          5.149599981,
          4.079000022,
          3.8391999984000007,
          5.597000018999999,
          5.92979999,
          6.9359999832,
          5.12200004775,
          3.7454000106,
          3.8830000058000005,
          5.9040000222,
          4.2190000114,
          6.53399999,
          4.3549999634,
          5.706600037399999,
          6.7252000138,
          5.7585999642,
          5.0291999848,
          5.2919999978000005,
          5.1722000268,
          4.60100004775,
          4.3830000151999995,
          4.5569999705,
          4.8123999786,
          7.404599970999999,
          7.313000026,
          6.0274000198,
          4.1045999756,
          5.1273999764000004,
          5.758666647666668,
          5.274,
          5.7765,
          7.541000035800001,
          6.853,
          5.3440000106,
          4.736600019,
          6.5380000282,
          5.6666000061999995,
          5.7284000306,
          5.3873999656,
          5.98080001,
          5.304600034399999,
          7.039,
          6.4218,
          5.6983999618,
          5.798599964199999,
          3.4385999912000003,
          6.375999972600001,
          4.3939999694,
          5.3391999962,
          4.5592000222,
          6.542800005399999,
          6.1084000099999995,
          5.8879999794,
          5.0602500057499995,
          5.0569999999999995,
          5.0569999999999995,
          4.675199999199999,
          5.8853999641999994,
          3.3825000199999997,
          6.3513999756,
          4.3926000114,
          4.241749984749999,
          6.269,
          4.5395,
          7.319199983999999,
          7.511399991600001,
          3.2921999786000002,
          6.391,
          6.421999931,
          5.097799977799999,
          3.4659999954000007,
          6.2865999572,
          3.5441999772000004,
          6.192,
          6.168000073666666,
          4.7283999655999995,
          5.4154,
          5.5822000054,
          4.0201999702,
          4.307200039,
          6.744199952600001,
          6.910000045000001,
          6.9988000062,
          6.4311999991999995,
          6.0462000389999995,
          5.5314,
          5.154599976399999,
          3.6257999869999997,
          4.5843999877999995,
          4.006600000000001
         ]
        }
       ],
       "layout": {
        "template": {
         "data": {
          "bar": [
           {
            "error_x": {
             "color": "#2a3f5f"
            },
            "error_y": {
             "color": "#2a3f5f"
            },
            "marker": {
             "line": {
              "color": "#E5ECF6",
              "width": 0.5
             }
            },
            "type": "bar"
           }
          ],
          "barpolar": [
           {
            "marker": {
             "line": {
              "color": "#E5ECF6",
              "width": 0.5
             }
            },
            "type": "barpolar"
           }
          ],
          "carpet": [
           {
            "aaxis": {
             "endlinecolor": "#2a3f5f",
             "gridcolor": "white",
             "linecolor": "white",
             "minorgridcolor": "white",
             "startlinecolor": "#2a3f5f"
            },
            "baxis": {
             "endlinecolor": "#2a3f5f",
             "gridcolor": "white",
             "linecolor": "white",
             "minorgridcolor": "white",
             "startlinecolor": "#2a3f5f"
            },
            "type": "carpet"
           }
          ],
          "choropleth": [
           {
            "colorbar": {
             "outlinewidth": 0,
             "ticks": ""
            },
            "type": "choropleth"
           }
          ],
          "contour": [
           {
            "colorbar": {
             "outlinewidth": 0,
             "ticks": ""
            },
            "colorscale": [
             [
              0,
              "#0d0887"
             ],
             [
              0.1111111111111111,
              "#46039f"
             ],
             [
              0.2222222222222222,
              "#7201a8"
             ],
             [
              0.3333333333333333,
              "#9c179e"
             ],
             [
              0.4444444444444444,
              "#bd3786"
             ],
             [
              0.5555555555555556,
              "#d8576b"
             ],
             [
              0.6666666666666666,
              "#ed7953"
             ],
             [
              0.7777777777777778,
              "#fb9f3a"
             ],
             [
              0.8888888888888888,
              "#fdca26"
             ],
             [
              1,
              "#f0f921"
             ]
            ],
            "type": "contour"
           }
          ],
          "contourcarpet": [
           {
            "colorbar": {
             "outlinewidth": 0,
             "ticks": ""
            },
            "type": "contourcarpet"
           }
          ],
          "heatmap": [
           {
            "colorbar": {
             "outlinewidth": 0,
             "ticks": ""
            },
            "colorscale": [
             [
              0,
              "#0d0887"
             ],
             [
              0.1111111111111111,
              "#46039f"
             ],
             [
              0.2222222222222222,
              "#7201a8"
             ],
             [
              0.3333333333333333,
              "#9c179e"
             ],
             [
              0.4444444444444444,
              "#bd3786"
             ],
             [
              0.5555555555555556,
              "#d8576b"
             ],
             [
              0.6666666666666666,
              "#ed7953"
             ],
             [
              0.7777777777777778,
              "#fb9f3a"
             ],
             [
              0.8888888888888888,
              "#fdca26"
             ],
             [
              1,
              "#f0f921"
             ]
            ],
            "type": "heatmap"
           }
          ],
          "heatmapgl": [
           {
            "colorbar": {
             "outlinewidth": 0,
             "ticks": ""
            },
            "colorscale": [
             [
              0,
              "#0d0887"
             ],
             [
              0.1111111111111111,
              "#46039f"
             ],
             [
              0.2222222222222222,
              "#7201a8"
             ],
             [
              0.3333333333333333,
              "#9c179e"
             ],
             [
              0.4444444444444444,
              "#bd3786"
             ],
             [
              0.5555555555555556,
              "#d8576b"
             ],
             [
              0.6666666666666666,
              "#ed7953"
             ],
             [
              0.7777777777777778,
              "#fb9f3a"
             ],
             [
              0.8888888888888888,
              "#fdca26"
             ],
             [
              1,
              "#f0f921"
             ]
            ],
            "type": "heatmapgl"
           }
          ],
          "histogram": [
           {
            "marker": {
             "colorbar": {
              "outlinewidth": 0,
              "ticks": ""
             }
            },
            "type": "histogram"
           }
          ],
          "histogram2d": [
           {
            "colorbar": {
             "outlinewidth": 0,
             "ticks": ""
            },
            "colorscale": [
             [
              0,
              "#0d0887"
             ],
             [
              0.1111111111111111,
              "#46039f"
             ],
             [
              0.2222222222222222,
              "#7201a8"
             ],
             [
              0.3333333333333333,
              "#9c179e"
             ],
             [
              0.4444444444444444,
              "#bd3786"
             ],
             [
              0.5555555555555556,
              "#d8576b"
             ],
             [
              0.6666666666666666,
              "#ed7953"
             ],
             [
              0.7777777777777778,
              "#fb9f3a"
             ],
             [
              0.8888888888888888,
              "#fdca26"
             ],
             [
              1,
              "#f0f921"
             ]
            ],
            "type": "histogram2d"
           }
          ],
          "histogram2dcontour": [
           {
            "colorbar": {
             "outlinewidth": 0,
             "ticks": ""
            },
            "colorscale": [
             [
              0,
              "#0d0887"
             ],
             [
              0.1111111111111111,
              "#46039f"
             ],
             [
              0.2222222222222222,
              "#7201a8"
             ],
             [
              0.3333333333333333,
              "#9c179e"
             ],
             [
              0.4444444444444444,
              "#bd3786"
             ],
             [
              0.5555555555555556,
              "#d8576b"
             ],
             [
              0.6666666666666666,
              "#ed7953"
             ],
             [
              0.7777777777777778,
              "#fb9f3a"
             ],
             [
              0.8888888888888888,
              "#fdca26"
             ],
             [
              1,
              "#f0f921"
             ]
            ],
            "type": "histogram2dcontour"
           }
          ],
          "mesh3d": [
           {
            "colorbar": {
             "outlinewidth": 0,
             "ticks": ""
            },
            "type": "mesh3d"
           }
          ],
          "parcoords": [
           {
            "line": {
             "colorbar": {
              "outlinewidth": 0,
              "ticks": ""
             }
            },
            "type": "parcoords"
           }
          ],
          "pie": [
           {
            "automargin": true,
            "type": "pie"
           }
          ],
          "scatter": [
           {
            "marker": {
             "colorbar": {
              "outlinewidth": 0,
              "ticks": ""
             }
            },
            "type": "scatter"
           }
          ],
          "scatter3d": [
           {
            "line": {
             "colorbar": {
              "outlinewidth": 0,
              "ticks": ""
             }
            },
            "marker": {
             "colorbar": {
              "outlinewidth": 0,
              "ticks": ""
             }
            },
            "type": "scatter3d"
           }
          ],
          "scattercarpet": [
           {
            "marker": {
             "colorbar": {
              "outlinewidth": 0,
              "ticks": ""
             }
            },
            "type": "scattercarpet"
           }
          ],
          "scattergeo": [
           {
            "marker": {
             "colorbar": {
              "outlinewidth": 0,
              "ticks": ""
             }
            },
            "type": "scattergeo"
           }
          ],
          "scattergl": [
           {
            "marker": {
             "colorbar": {
              "outlinewidth": 0,
              "ticks": ""
             }
            },
            "type": "scattergl"
           }
          ],
          "scattermapbox": [
           {
            "marker": {
             "colorbar": {
              "outlinewidth": 0,
              "ticks": ""
             }
            },
            "type": "scattermapbox"
           }
          ],
          "scatterpolar": [
           {
            "marker": {
             "colorbar": {
              "outlinewidth": 0,
              "ticks": ""
             }
            },
            "type": "scatterpolar"
           }
          ],
          "scatterpolargl": [
           {
            "marker": {
             "colorbar": {
              "outlinewidth": 0,
              "ticks": ""
             }
            },
            "type": "scatterpolargl"
           }
          ],
          "scatterternary": [
           {
            "marker": {
             "colorbar": {
              "outlinewidth": 0,
              "ticks": ""
             }
            },
            "type": "scatterternary"
           }
          ],
          "surface": [
           {
            "colorbar": {
             "outlinewidth": 0,
             "ticks": ""
            },
            "colorscale": [
             [
              0,
              "#0d0887"
             ],
             [
              0.1111111111111111,
              "#46039f"
             ],
             [
              0.2222222222222222,
              "#7201a8"
             ],
             [
              0.3333333333333333,
              "#9c179e"
             ],
             [
              0.4444444444444444,
              "#bd3786"
             ],
             [
              0.5555555555555556,
              "#d8576b"
             ],
             [
              0.6666666666666666,
              "#ed7953"
             ],
             [
              0.7777777777777778,
              "#fb9f3a"
             ],
             [
              0.8888888888888888,
              "#fdca26"
             ],
             [
              1,
              "#f0f921"
             ]
            ],
            "type": "surface"
           }
          ],
          "table": [
           {
            "cells": {
             "fill": {
              "color": "#EBF0F8"
             },
             "line": {
              "color": "white"
             }
            },
            "header": {
             "fill": {
              "color": "#C8D4E3"
             },
             "line": {
              "color": "white"
             }
            },
            "type": "table"
           }
          ]
         },
         "layout": {
          "annotationdefaults": {
           "arrowcolor": "#2a3f5f",
           "arrowhead": 0,
           "arrowwidth": 1
          },
          "coloraxis": {
           "colorbar": {
            "outlinewidth": 0,
            "ticks": ""
           }
          },
          "colorscale": {
           "diverging": [
            [
             0,
             "#8e0152"
            ],
            [
             0.1,
             "#c51b7d"
            ],
            [
             0.2,
             "#de77ae"
            ],
            [
             0.3,
             "#f1b6da"
            ],
            [
             0.4,
             "#fde0ef"
            ],
            [
             0.5,
             "#f7f7f7"
            ],
            [
             0.6,
             "#e6f5d0"
            ],
            [
             0.7,
             "#b8e186"
            ],
            [
             0.8,
             "#7fbc41"
            ],
            [
             0.9,
             "#4d9221"
            ],
            [
             1,
             "#276419"
            ]
           ],
           "sequential": [
            [
             0,
             "#0d0887"
            ],
            [
             0.1111111111111111,
             "#46039f"
            ],
            [
             0.2222222222222222,
             "#7201a8"
            ],
            [
             0.3333333333333333,
             "#9c179e"
            ],
            [
             0.4444444444444444,
             "#bd3786"
            ],
            [
             0.5555555555555556,
             "#d8576b"
            ],
            [
             0.6666666666666666,
             "#ed7953"
            ],
            [
             0.7777777777777778,
             "#fb9f3a"
            ],
            [
             0.8888888888888888,
             "#fdca26"
            ],
            [
             1,
             "#f0f921"
            ]
           ],
           "sequentialminus": [
            [
             0,
             "#0d0887"
            ],
            [
             0.1111111111111111,
             "#46039f"
            ],
            [
             0.2222222222222222,
             "#7201a8"
            ],
            [
             0.3333333333333333,
             "#9c179e"
            ],
            [
             0.4444444444444444,
             "#bd3786"
            ],
            [
             0.5555555555555556,
             "#d8576b"
            ],
            [
             0.6666666666666666,
             "#ed7953"
            ],
            [
             0.7777777777777778,
             "#fb9f3a"
            ],
            [
             0.8888888888888888,
             "#fdca26"
            ],
            [
             1,
             "#f0f921"
            ]
           ]
          },
          "colorway": [
           "#636efa",
           "#EF553B",
           "#00cc96",
           "#ab63fa",
           "#FFA15A",
           "#19d3f3",
           "#FF6692",
           "#B6E880",
           "#FF97FF",
           "#FECB52"
          ],
          "font": {
           "color": "#2a3f5f"
          },
          "geo": {
           "bgcolor": "white",
           "lakecolor": "white",
           "landcolor": "#E5ECF6",
           "showlakes": true,
           "showland": true,
           "subunitcolor": "white"
          },
          "hoverlabel": {
           "align": "left"
          },
          "hovermode": "closest",
          "mapbox": {
           "style": "light"
          },
          "paper_bgcolor": "white",
          "plot_bgcolor": "#E5ECF6",
          "polar": {
           "angularaxis": {
            "gridcolor": "white",
            "linecolor": "white",
            "ticks": ""
           },
           "bgcolor": "#E5ECF6",
           "radialaxis": {
            "gridcolor": "white",
            "linecolor": "white",
            "ticks": ""
           }
          },
          "scene": {
           "xaxis": {
            "backgroundcolor": "#E5ECF6",
            "gridcolor": "white",
            "gridwidth": 2,
            "linecolor": "white",
            "showbackground": true,
            "ticks": "",
            "zerolinecolor": "white"
           },
           "yaxis": {
            "backgroundcolor": "#E5ECF6",
            "gridcolor": "white",
            "gridwidth": 2,
            "linecolor": "white",
            "showbackground": true,
            "ticks": "",
            "zerolinecolor": "white"
           },
           "zaxis": {
            "backgroundcolor": "#E5ECF6",
            "gridcolor": "white",
            "gridwidth": 2,
            "linecolor": "white",
            "showbackground": true,
            "ticks": "",
            "zerolinecolor": "white"
           }
          },
          "shapedefaults": {
           "line": {
            "color": "#2a3f5f"
           }
          },
          "ternary": {
           "aaxis": {
            "gridcolor": "white",
            "linecolor": "white",
            "ticks": ""
           },
           "baxis": {
            "gridcolor": "white",
            "linecolor": "white",
            "ticks": ""
           },
           "bgcolor": "#E5ECF6",
           "caxis": {
            "gridcolor": "white",
            "linecolor": "white",
            "ticks": ""
           }
          },
          "title": {
           "x": 0.05
          },
          "xaxis": {
           "automargin": true,
           "gridcolor": "white",
           "linecolor": "white",
           "ticks": "",
           "title": {
            "standoff": 15
           },
           "zerolinecolor": "white",
           "zerolinewidth": 2
          },
          "yaxis": {
           "automargin": true,
           "gridcolor": "white",
           "linecolor": "white",
           "ticks": "",
           "title": {
            "standoff": 15
           },
           "zerolinecolor": "white",
           "zerolinewidth": 2
          }
         }
        },
        "title": {
         "text": "Happiness Stuff"
        },
        "xaxis": {
         "title": {
          "text": "Happiness Score"
         }
        },
        "yaxis": {
         "title": {
          "text": "Predicted Happiness Score"
         }
        }
       }
      },
      "text/html": [
       "<div>\n",
       "        \n",
       "        \n",
       "            <div id=\"caba60c9-6225-46eb-9ca5-beef8a4da865\" class=\"plotly-graph-div\" style=\"height:525px; width:100%;\"></div>\n",
       "            <script type=\"text/javascript\">\n",
       "                require([\"plotly\"], function(Plotly) {\n",
       "                    window.PLOTLYENV=window.PLOTLYENV || {};\n",
       "                    \n",
       "                if (document.getElementById(\"caba60c9-6225-46eb-9ca5-beef8a4da865\")) {\n",
       "                    Plotly.newPlot(\n",
       "                        'caba60c9-6225-46eb-9ca5-beef8a4da865',\n",
       "                        [{\"mode\": \"markers\", \"type\": \"scatter\", \"x\": [3.2685892285328055, 5.061474024095897, 5.0950585151895655, 3.9211246020679873, 6.0030258468126245, 4.746781355502209, 7.026144515209099, 6.768750543849135, 5.406867763954043, 6.335992889383471, 4.640263141155637, 5.724804844018529, 6.668951095696428, 5.25699955691893, 3.710259360852599, 5.628179398219487, 5.3751805172686264, 4.955657236092067, 5.321879869564571, 5.848026895081191, 5.565805210434431, 4.215824588477113, 3.0297558631465993, 5.1118220892544155, 4.351210128170681, 6.974737846957273, 2.650504902651619, 3.645374590179677, 5.941047812153734, 5.637403699224946, 5.797113963360211, 3.8292480055617473, 4.498497318170654, 3.8934654204983605, 6.243977308269002, 5.296198003640104, 5.823426458719374, 6.153982521658666, 7.122449244151168, 4.386592621779531, 5.9141934744758515, 5.718870147279892, 4.751702083462512, 5.320910039686236, 6.226172508496964, 4.318096246025458, 7.01205945291275, 6.467721930242899, 5.027955907685431, 4.531106856812746, 4.697687324517062, 6.762035948359161, 4.467951170770061, 5.174095482858239, 5.565946051489469, 3.864625073963783, 3.629914886709514, 5.123497668392274, 6.667272306427302, 6.8016620481493515, 5.527913785548682, 6.986186168360852, 4.613759500834561, 5.501422093729162, 4.965570095291434, 4.838715263544767, 7.009253497014509, 6.323790596041368, 5.949788281730731, 4.257439815235343, 5.696823346670595, 6.5203663022269165, 5.4671144715023985, 5.904486559197101, 4.758024300499823, 5.071377808598832, 6.321942810314072, 5.346202244852572, 5.164561418774131, 5.667685665499963, 5.359288652518252, 4.444795632114761, 3.8484920208611157, 5.669590066684837, 5.655399236643506, 7.071817605609532, 5.305598434664651, 3.8573928343946067, 3.767440858166079, 5.816092886077787, 4.3529043130920755, 6.728124071561954, 4.3484760421080395, 5.8664742912763534, 5.70355474171186, 4.896031512865324, 5.628369895070714, 5.245756783746334, 4.744140233874165, 4.302940699508534, 5.109815638325138, 5.1958887338993005, 4.904280333745804, 6.896911589310351, 7.073873287006942, 5.574666385078919, 4.028824077627619, 4.505896942919746, 6.030048864626986, 5.710236954740523, 6.294867905798382, 7.164820603935935, 6.4591962252392126, 4.200166890098783, 4.773826929405117, 6.137530870867565, 5.83077725896724, 5.498954567564626, 5.562139154824605, 6.14186114936798, 6.135906569666076, 6.024830751805972, 6.8965475004832495, 5.554894703237698, 5.700944655112613, 4.94757830569451, 6.069766169334908, 4.624876386884736, 5.266186724494509, 3.8858580405497367, 7.10237179067153, 5.874675192029581, 6.450230664760749, 4.098550136228967, 4.464676211667051, 4.880259669234977, 5.263945439743201, 5.693209479330735, 3.3409786533890116, 6.345486976492456, 5.762365747066302, 4.153113655545125, 5.445992367738738, 4.4731032166896, 7.037990074069798, 7.148958723860703, 3.9000033055509244, 6.063734263107795, 6.230320272933481, 4.9339758076102065, 4.562168246893418, 6.1328825020036515, 3.5401307203925825, 6.223798188029315, 5.8868842189335, 4.7420753943394205, 5.480481810508804, 5.783464730730502, 4.530624889679347, 5.069369032591743, 6.473980290403739, 6.671405371616499, 6.557007803702758, 6.319378761350102, 6.1699642291026535, 5.416549405977112, 5.637520463198792, 4.162134059306316, 4.675186752026903, 4.283930502351018], \"y\": [3.5127999819999998, 4.712600010600001, 5.6676000434, 3.8722500190000004, 6.4593999954, 4.393199985600001, 7.276199984, 7.142000008399999, 5.2292000412, 6.113799978600001, 4.5801999604, 5.5979999534000005, 6.9213999587999995, 5.955999950333333, 3.901000013, 5.1248000312, 5.8131999908, 5.161800032, 3.8300000063999997, 6.6578000458, 4.618600044999999, 4.073800013, 3.0789999941999997, 4.205400044199999, 4.6958000344, 7.350599997000001, 3.1342500195, 4.0034000218, 6.5893999899999995, 5.2189999526, 6.3399999747999995, 3.9616666666666673, 4.377399977800001, 4.346400042, 7.1261999992, 5.4586000442, 5.7327999626, 6.654600041200001, 7.545999967199999, 4.369, 5.199400003799999, 5.9919999794, 4.3752000268, 6.1241999566, 5.6378000122000005, 4.4232000076, 7.5377999726, 6.5151999824, 4.4078000306, 4.516, 4.338799955000001, 6.9290000428, 4.5363999772, 5.1524000474000005, 6.3437999992, 3.8535999938000005, 3.8655999852000003, 5.2408000466, 5.4479999999999995, 5.472000122000001, 5.3293999763999995, 7.5110000374000006, 4.297800011400001, 5.2520000168, 4.6891999824, 4.5284000434, 6.9644000474, 7.1421999642000005, 6.0224000449999995, 4.2731999656, 5.6619999739999995, 5.9258000152, 5.1795999932, 5.838399953400001, 4.4493999946, 5.606199961, 6.1486000037999995, 5.1734000373999995, 4.79275, 5.676199981, 5.149599981, 4.079000022, 3.8391999984000007, 5.597000018999999, 5.92979999, 6.9359999832, 5.12200004775, 3.7454000106, 3.8830000058000005, 5.9040000222, 4.2190000114, 6.53399999, 4.3549999634, 5.706600037399999, 6.7252000138, 5.7585999642, 5.0291999848, 5.2919999978000005, 5.1722000268, 4.60100004775, 4.3830000151999995, 4.5569999705, 4.8123999786, 7.404599970999999, 7.313000026, 6.0274000198, 4.1045999756, 5.1273999764000004, 5.758666647666668, 5.274, 5.7765, 7.541000035800001, 6.853, 5.3440000106, 4.736600019, 6.5380000282, 5.6666000061999995, 5.7284000306, 5.3873999656, 5.98080001, 5.304600034399999, 7.039, 6.4218, 5.6983999618, 5.798599964199999, 3.4385999912000003, 6.375999972600001, 4.3939999694, 5.3391999962, 4.5592000222, 6.542800005399999, 6.1084000099999995, 5.8879999794, 5.0602500057499995, 5.0569999999999995, 5.0569999999999995, 4.675199999199999, 5.8853999641999994, 3.3825000199999997, 6.3513999756, 4.3926000114, 4.241749984749999, 6.269, 4.5395, 7.319199983999999, 7.511399991600001, 3.2921999786000002, 6.391, 6.421999931, 5.097799977799999, 3.4659999954000007, 6.2865999572, 3.5441999772000004, 6.192, 6.168000073666666, 4.7283999655999995, 5.4154, 5.5822000054, 4.0201999702, 4.307200039, 6.744199952600001, 6.910000045000001, 6.9988000062, 6.4311999991999995, 6.0462000389999995, 5.5314, 5.154599976399999, 3.6257999869999997, 4.5843999877999995, 4.006600000000001]}],\n",
       "                        {\"template\": {\"data\": {\"bar\": [{\"error_x\": {\"color\": \"#2a3f5f\"}, \"error_y\": {\"color\": \"#2a3f5f\"}, \"marker\": {\"line\": {\"color\": \"#E5ECF6\", \"width\": 0.5}}, \"type\": \"bar\"}], \"barpolar\": [{\"marker\": {\"line\": {\"color\": \"#E5ECF6\", \"width\": 0.5}}, \"type\": \"barpolar\"}], \"carpet\": [{\"aaxis\": {\"endlinecolor\": \"#2a3f5f\", \"gridcolor\": \"white\", \"linecolor\": \"white\", \"minorgridcolor\": \"white\", \"startlinecolor\": \"#2a3f5f\"}, \"baxis\": {\"endlinecolor\": \"#2a3f5f\", \"gridcolor\": \"white\", \"linecolor\": \"white\", \"minorgridcolor\": \"white\", \"startlinecolor\": \"#2a3f5f\"}, \"type\": \"carpet\"}], \"choropleth\": [{\"colorbar\": {\"outlinewidth\": 0, \"ticks\": \"\"}, \"type\": \"choropleth\"}], \"contour\": [{\"colorbar\": {\"outlinewidth\": 0, \"ticks\": \"\"}, \"colorscale\": [[0.0, \"#0d0887\"], [0.1111111111111111, \"#46039f\"], [0.2222222222222222, \"#7201a8\"], [0.3333333333333333, \"#9c179e\"], [0.4444444444444444, \"#bd3786\"], [0.5555555555555556, \"#d8576b\"], [0.6666666666666666, \"#ed7953\"], [0.7777777777777778, \"#fb9f3a\"], [0.8888888888888888, \"#fdca26\"], [1.0, \"#f0f921\"]], \"type\": \"contour\"}], \"contourcarpet\": [{\"colorbar\": {\"outlinewidth\": 0, \"ticks\": \"\"}, \"type\": \"contourcarpet\"}], \"heatmap\": [{\"colorbar\": {\"outlinewidth\": 0, \"ticks\": \"\"}, \"colorscale\": [[0.0, \"#0d0887\"], [0.1111111111111111, \"#46039f\"], [0.2222222222222222, \"#7201a8\"], [0.3333333333333333, \"#9c179e\"], [0.4444444444444444, \"#bd3786\"], [0.5555555555555556, \"#d8576b\"], [0.6666666666666666, \"#ed7953\"], [0.7777777777777778, \"#fb9f3a\"], [0.8888888888888888, \"#fdca26\"], [1.0, \"#f0f921\"]], \"type\": \"heatmap\"}], \"heatmapgl\": [{\"colorbar\": {\"outlinewidth\": 0, \"ticks\": \"\"}, \"colorscale\": [[0.0, \"#0d0887\"], [0.1111111111111111, \"#46039f\"], [0.2222222222222222, \"#7201a8\"], [0.3333333333333333, \"#9c179e\"], [0.4444444444444444, \"#bd3786\"], [0.5555555555555556, \"#d8576b\"], [0.6666666666666666, \"#ed7953\"], [0.7777777777777778, \"#fb9f3a\"], [0.8888888888888888, \"#fdca26\"], [1.0, \"#f0f921\"]], \"type\": \"heatmapgl\"}], \"histogram\": [{\"marker\": {\"colorbar\": {\"outlinewidth\": 0, \"ticks\": \"\"}}, \"type\": \"histogram\"}], \"histogram2d\": [{\"colorbar\": {\"outlinewidth\": 0, \"ticks\": \"\"}, \"colorscale\": [[0.0, \"#0d0887\"], [0.1111111111111111, \"#46039f\"], [0.2222222222222222, \"#7201a8\"], [0.3333333333333333, \"#9c179e\"], [0.4444444444444444, \"#bd3786\"], [0.5555555555555556, \"#d8576b\"], [0.6666666666666666, \"#ed7953\"], [0.7777777777777778, \"#fb9f3a\"], [0.8888888888888888, \"#fdca26\"], [1.0, \"#f0f921\"]], \"type\": \"histogram2d\"}], \"histogram2dcontour\": [{\"colorbar\": {\"outlinewidth\": 0, \"ticks\": \"\"}, \"colorscale\": [[0.0, \"#0d0887\"], [0.1111111111111111, \"#46039f\"], [0.2222222222222222, \"#7201a8\"], [0.3333333333333333, \"#9c179e\"], [0.4444444444444444, \"#bd3786\"], [0.5555555555555556, \"#d8576b\"], [0.6666666666666666, \"#ed7953\"], [0.7777777777777778, \"#fb9f3a\"], [0.8888888888888888, \"#fdca26\"], [1.0, \"#f0f921\"]], \"type\": \"histogram2dcontour\"}], \"mesh3d\": [{\"colorbar\": {\"outlinewidth\": 0, \"ticks\": \"\"}, \"type\": \"mesh3d\"}], \"parcoords\": [{\"line\": {\"colorbar\": {\"outlinewidth\": 0, \"ticks\": \"\"}}, \"type\": \"parcoords\"}], \"pie\": [{\"automargin\": true, \"type\": \"pie\"}], \"scatter\": [{\"marker\": {\"colorbar\": {\"outlinewidth\": 0, \"ticks\": \"\"}}, \"type\": \"scatter\"}], \"scatter3d\": [{\"line\": {\"colorbar\": {\"outlinewidth\": 0, \"ticks\": \"\"}}, \"marker\": {\"colorbar\": {\"outlinewidth\": 0, \"ticks\": \"\"}}, \"type\": \"scatter3d\"}], \"scattercarpet\": [{\"marker\": {\"colorbar\": {\"outlinewidth\": 0, \"ticks\": \"\"}}, \"type\": \"scattercarpet\"}], \"scattergeo\": [{\"marker\": {\"colorbar\": {\"outlinewidth\": 0, \"ticks\": \"\"}}, \"type\": \"scattergeo\"}], \"scattergl\": [{\"marker\": {\"colorbar\": {\"outlinewidth\": 0, \"ticks\": \"\"}}, \"type\": \"scattergl\"}], \"scattermapbox\": [{\"marker\": {\"colorbar\": {\"outlinewidth\": 0, \"ticks\": \"\"}}, \"type\": \"scattermapbox\"}], \"scatterpolar\": [{\"marker\": {\"colorbar\": {\"outlinewidth\": 0, \"ticks\": \"\"}}, \"type\": \"scatterpolar\"}], \"scatterpolargl\": [{\"marker\": {\"colorbar\": {\"outlinewidth\": 0, \"ticks\": \"\"}}, \"type\": \"scatterpolargl\"}], \"scatterternary\": [{\"marker\": {\"colorbar\": {\"outlinewidth\": 0, \"ticks\": \"\"}}, \"type\": \"scatterternary\"}], \"surface\": [{\"colorbar\": {\"outlinewidth\": 0, \"ticks\": \"\"}, \"colorscale\": [[0.0, \"#0d0887\"], [0.1111111111111111, \"#46039f\"], [0.2222222222222222, \"#7201a8\"], [0.3333333333333333, \"#9c179e\"], [0.4444444444444444, \"#bd3786\"], [0.5555555555555556, \"#d8576b\"], [0.6666666666666666, \"#ed7953\"], [0.7777777777777778, \"#fb9f3a\"], [0.8888888888888888, \"#fdca26\"], [1.0, \"#f0f921\"]], \"type\": \"surface\"}], \"table\": [{\"cells\": {\"fill\": {\"color\": \"#EBF0F8\"}, \"line\": {\"color\": \"white\"}}, \"header\": {\"fill\": {\"color\": \"#C8D4E3\"}, \"line\": {\"color\": \"white\"}}, \"type\": \"table\"}]}, \"layout\": {\"annotationdefaults\": {\"arrowcolor\": \"#2a3f5f\", \"arrowhead\": 0, \"arrowwidth\": 1}, \"coloraxis\": {\"colorbar\": {\"outlinewidth\": 0, \"ticks\": \"\"}}, \"colorscale\": {\"diverging\": [[0, \"#8e0152\"], [0.1, \"#c51b7d\"], [0.2, \"#de77ae\"], [0.3, \"#f1b6da\"], [0.4, \"#fde0ef\"], [0.5, \"#f7f7f7\"], [0.6, \"#e6f5d0\"], [0.7, \"#b8e186\"], [0.8, \"#7fbc41\"], [0.9, \"#4d9221\"], [1, \"#276419\"]], \"sequential\": [[0.0, \"#0d0887\"], [0.1111111111111111, \"#46039f\"], [0.2222222222222222, \"#7201a8\"], [0.3333333333333333, \"#9c179e\"], [0.4444444444444444, \"#bd3786\"], [0.5555555555555556, \"#d8576b\"], [0.6666666666666666, \"#ed7953\"], [0.7777777777777778, \"#fb9f3a\"], [0.8888888888888888, \"#fdca26\"], [1.0, \"#f0f921\"]], \"sequentialminus\": [[0.0, \"#0d0887\"], [0.1111111111111111, \"#46039f\"], [0.2222222222222222, \"#7201a8\"], [0.3333333333333333, \"#9c179e\"], [0.4444444444444444, \"#bd3786\"], [0.5555555555555556, \"#d8576b\"], [0.6666666666666666, \"#ed7953\"], [0.7777777777777778, \"#fb9f3a\"], [0.8888888888888888, \"#fdca26\"], [1.0, \"#f0f921\"]]}, \"colorway\": [\"#636efa\", \"#EF553B\", \"#00cc96\", \"#ab63fa\", \"#FFA15A\", \"#19d3f3\", \"#FF6692\", \"#B6E880\", \"#FF97FF\", \"#FECB52\"], \"font\": {\"color\": \"#2a3f5f\"}, \"geo\": {\"bgcolor\": \"white\", \"lakecolor\": \"white\", \"landcolor\": \"#E5ECF6\", \"showlakes\": true, \"showland\": true, \"subunitcolor\": \"white\"}, \"hoverlabel\": {\"align\": \"left\"}, \"hovermode\": \"closest\", \"mapbox\": {\"style\": \"light\"}, \"paper_bgcolor\": \"white\", \"plot_bgcolor\": \"#E5ECF6\", \"polar\": {\"angularaxis\": {\"gridcolor\": \"white\", \"linecolor\": \"white\", \"ticks\": \"\"}, \"bgcolor\": \"#E5ECF6\", \"radialaxis\": {\"gridcolor\": \"white\", \"linecolor\": \"white\", \"ticks\": \"\"}}, \"scene\": {\"xaxis\": {\"backgroundcolor\": \"#E5ECF6\", \"gridcolor\": \"white\", \"gridwidth\": 2, \"linecolor\": \"white\", \"showbackground\": true, \"ticks\": \"\", \"zerolinecolor\": \"white\"}, \"yaxis\": {\"backgroundcolor\": \"#E5ECF6\", \"gridcolor\": \"white\", \"gridwidth\": 2, \"linecolor\": \"white\", \"showbackground\": true, \"ticks\": \"\", \"zerolinecolor\": \"white\"}, \"zaxis\": {\"backgroundcolor\": \"#E5ECF6\", \"gridcolor\": \"white\", \"gridwidth\": 2, \"linecolor\": \"white\", \"showbackground\": true, \"ticks\": \"\", \"zerolinecolor\": \"white\"}}, \"shapedefaults\": {\"line\": {\"color\": \"#2a3f5f\"}}, \"ternary\": {\"aaxis\": {\"gridcolor\": \"white\", \"linecolor\": \"white\", \"ticks\": \"\"}, \"baxis\": {\"gridcolor\": \"white\", \"linecolor\": \"white\", \"ticks\": \"\"}, \"bgcolor\": \"#E5ECF6\", \"caxis\": {\"gridcolor\": \"white\", \"linecolor\": \"white\", \"ticks\": \"\"}}, \"title\": {\"x\": 0.05}, \"xaxis\": {\"automargin\": true, \"gridcolor\": \"white\", \"linecolor\": \"white\", \"ticks\": \"\", \"title\": {\"standoff\": 15}, \"zerolinecolor\": \"white\", \"zerolinewidth\": 2}, \"yaxis\": {\"automargin\": true, \"gridcolor\": \"white\", \"linecolor\": \"white\", \"ticks\": \"\", \"title\": {\"standoff\": 15}, \"zerolinecolor\": \"white\", \"zerolinewidth\": 2}}}, \"title\": {\"text\": \"Happiness Stuff\"}, \"xaxis\": {\"title\": {\"text\": \"Happiness Score\"}}, \"yaxis\": {\"title\": {\"text\": \"Predicted Happiness Score\"}}},\n",
       "                        {\"responsive\": true}\n",
       "                    ).then(function(){\n",
       "                            \n",
       "var gd = document.getElementById('caba60c9-6225-46eb-9ca5-beef8a4da865');\n",
       "var x = new MutationObserver(function (mutations, observer) {{\n",
       "        var display = window.getComputedStyle(gd).display;\n",
       "        if (!display || display === 'none') {{\n",
       "            console.log([gd, 'removed!']);\n",
       "            Plotly.purge(gd);\n",
       "            observer.disconnect();\n",
       "        }}\n",
       "}});\n",
       "\n",
       "// Listen for the removal of the full notebook cells\n",
       "var notebookContainer = gd.closest('#notebook-container');\n",
       "if (notebookContainer) {{\n",
       "    x.observe(notebookContainer, {childList: true});\n",
       "}}\n",
       "\n",
       "// Listen for the clearing of the current output cell\n",
       "var outputEl = gd.closest('.output');\n",
       "if (outputEl) {{\n",
       "    x.observe(outputEl, {childList: true});\n",
       "}}\n",
       "\n",
       "                        })\n",
       "                };\n",
       "                });\n",
       "            </script>\n",
       "        </div>"
      ]
     },
     "metadata": {},
     "output_type": "display_data"
    }
   ],
   "source": [
    "trace = go.Scatter(\n",
    "    x= lm2.predict(X2),\n",
    "    y= No_country.Happiness_Score,\n",
    "    mode = 'markers'\n",
    ")\n",
    "\n",
    "data = [trace]\n",
    "layout = go.Layout(\n",
    "title = 'Happiness Stuff',\n",
    "xaxis=dict(\n",
    "    title = 'Happiness Score')\n",
    "    ,\n",
    "yaxis = dict(\n",
    "title='Predicted Happiness Score')\n",
    "    )\n",
    "fig = go.Figure(data=data, layout=layout)\n",
    "iplot(fig)"
   ]
  },
  {
   "cell_type": "code",
   "execution_count": 89,
   "metadata": {},
   "outputs": [
    {
     "data": {
      "text/html": [
       "<div>\n",
       "<style scoped>\n",
       "    .dataframe tbody tr th:only-of-type {\n",
       "        vertical-align: middle;\n",
       "    }\n",
       "\n",
       "    .dataframe tbody tr th {\n",
       "        vertical-align: top;\n",
       "    }\n",
       "\n",
       "    .dataframe thead th {\n",
       "        text-align: right;\n",
       "    }\n",
       "</style>\n",
       "<table border=\"1\" class=\"dataframe\">\n",
       "  <thead>\n",
       "    <tr style=\"text-align: right;\">\n",
       "      <th></th>\n",
       "      <th>GDP</th>\n",
       "      <th>Freedom</th>\n",
       "      <th>Generosity</th>\n",
       "      <th>Government_Corruption</th>\n",
       "      <th>Happiness_Score</th>\n",
       "      <th>Life_Expectancy</th>\n",
       "      <th>Social_Support</th>\n",
       "    </tr>\n",
       "  </thead>\n",
       "  <tbody>\n",
       "    <tr>\n",
       "      <td>0</td>\n",
       "      <td>0.357113</td>\n",
       "      <td>0.117924</td>\n",
       "      <td>0.267730</td>\n",
       "      <td>0.058094</td>\n",
       "      <td>3.51280</td>\n",
       "      <td>0.254707</td>\n",
       "      <td>0.409753</td>\n",
       "    </tr>\n",
       "    <tr>\n",
       "      <td>1</td>\n",
       "      <td>0.938633</td>\n",
       "      <td>0.371898</td>\n",
       "      <td>0.167887</td>\n",
       "      <td>0.043201</td>\n",
       "      <td>4.71260</td>\n",
       "      <td>0.787696</td>\n",
       "      <td>0.754931</td>\n",
       "    </tr>\n",
       "    <tr>\n",
       "      <td>2</td>\n",
       "      <td>1.012963</td>\n",
       "      <td>0.178437</td>\n",
       "      <td>0.069219</td>\n",
       "      <td>0.146099</td>\n",
       "      <td>5.66760</td>\n",
       "      <td>0.665057</td>\n",
       "      <td>1.074205</td>\n",
       "    </tr>\n",
       "    <tr>\n",
       "      <td>3</td>\n",
       "      <td>0.798380</td>\n",
       "      <td>0.027433</td>\n",
       "      <td>0.105269</td>\n",
       "      <td>0.071570</td>\n",
       "      <td>3.87225</td>\n",
       "      <td>0.133902</td>\n",
       "      <td>0.938368</td>\n",
       "    </tr>\n",
       "    <tr>\n",
       "      <td>4</td>\n",
       "      <td>1.111035</td>\n",
       "      <td>0.481620</td>\n",
       "      <td>0.092371</td>\n",
       "      <td>0.064308</td>\n",
       "      <td>6.45940</td>\n",
       "      <td>0.760895</td>\n",
       "      <td>1.330960</td>\n",
       "    </tr>\n",
       "    <tr>\n",
       "      <td>...</td>\n",
       "      <td>...</td>\n",
       "      <td>...</td>\n",
       "      <td>...</td>\n",
       "      <td>...</td>\n",
       "      <td>...</td>\n",
       "      <td>...</td>\n",
       "      <td>...</td>\n",
       "    </tr>\n",
       "    <tr>\n",
       "      <td>165</td>\n",
       "      <td>1.052468</td>\n",
       "      <td>0.213709</td>\n",
       "      <td>0.057186</td>\n",
       "      <td>0.071444</td>\n",
       "      <td>5.53140</td>\n",
       "      <td>0.683741</td>\n",
       "      <td>1.323264</td>\n",
       "    </tr>\n",
       "    <tr>\n",
       "      <td>166</td>\n",
       "      <td>0.723416</td>\n",
       "      <td>0.577207</td>\n",
       "      <td>0.195664</td>\n",
       "      <td>0.091921</td>\n",
       "      <td>5.15460</td>\n",
       "      <td>0.722700</td>\n",
       "      <td>1.138384</td>\n",
       "    </tr>\n",
       "    <tr>\n",
       "      <td>167</td>\n",
       "      <td>0.489313</td>\n",
       "      <td>0.244175</td>\n",
       "      <td>0.096929</td>\n",
       "      <td>0.067045</td>\n",
       "      <td>3.62580</td>\n",
       "      <td>0.365440</td>\n",
       "      <td>0.865448</td>\n",
       "    </tr>\n",
       "    <tr>\n",
       "      <td>168</td>\n",
       "      <td>0.571761</td>\n",
       "      <td>0.462099</td>\n",
       "      <td>0.218430</td>\n",
       "      <td>0.097337</td>\n",
       "      <td>4.58440</td>\n",
       "      <td>0.302761</td>\n",
       "      <td>0.932381</td>\n",
       "    </tr>\n",
       "    <tr>\n",
       "      <td>169</td>\n",
       "      <td>0.344051</td>\n",
       "      <td>0.323257</td>\n",
       "      <td>0.169409</td>\n",
       "      <td>0.089997</td>\n",
       "      <td>4.00660</td>\n",
       "      <td>0.274403</td>\n",
       "      <td>1.007727</td>\n",
       "    </tr>\n",
       "  </tbody>\n",
       "</table>\n",
       "<p>170 rows × 7 columns</p>\n",
       "</div>"
      ],
      "text/plain": [
       "          GDP   Freedom  Generosity  Government_Corruption  Happiness_Score  \\\n",
       "0    0.357113  0.117924    0.267730               0.058094          3.51280   \n",
       "1    0.938633  0.371898    0.167887               0.043201          4.71260   \n",
       "2    1.012963  0.178437    0.069219               0.146099          5.66760   \n",
       "3    0.798380  0.027433    0.105269               0.071570          3.87225   \n",
       "4    1.111035  0.481620    0.092371               0.064308          6.45940   \n",
       "..        ...       ...         ...                    ...              ...   \n",
       "165  1.052468  0.213709    0.057186               0.071444          5.53140   \n",
       "166  0.723416  0.577207    0.195664               0.091921          5.15460   \n",
       "167  0.489313  0.244175    0.096929               0.067045          3.62580   \n",
       "168  0.571761  0.462099    0.218430               0.097337          4.58440   \n",
       "169  0.344051  0.323257    0.169409               0.089997          4.00660   \n",
       "\n",
       "     Life_Expectancy  Social_Support  \n",
       "0           0.254707        0.409753  \n",
       "1           0.787696        0.754931  \n",
       "2           0.665057        1.074205  \n",
       "3           0.133902        0.938368  \n",
       "4           0.760895        1.330960  \n",
       "..               ...             ...  \n",
       "165         0.683741        1.323264  \n",
       "166         0.722700        1.138384  \n",
       "167         0.365440        0.865448  \n",
       "168         0.302761        0.932381  \n",
       "169         0.274403        1.007727  \n",
       "\n",
       "[170 rows x 7 columns]"
      ]
     },
     "execution_count": 89,
     "metadata": {},
     "output_type": "execute_result"
    }
   ],
   "source": [
    "No_country"
   ]
  },
  {
   "cell_type": "code",
   "execution_count": 92,
   "metadata": {},
   "outputs": [],
   "source": [
    "#Mean2_Error = np.mean((Groupby_.Happiness_Score - lm2.predict(X)) ** 2)\n",
    "#print (Mean2_Error)"
   ]
  },
  {
   "cell_type": "code",
   "execution_count": 26,
   "metadata": {},
   "outputs": [
    {
     "data": {
      "text/html": [
       "<div>\n",
       "<style scoped>\n",
       "    .dataframe tbody tr th:only-of-type {\n",
       "        vertical-align: middle;\n",
       "    }\n",
       "\n",
       "    .dataframe tbody tr th {\n",
       "        vertical-align: top;\n",
       "    }\n",
       "\n",
       "    .dataframe thead th {\n",
       "        text-align: right;\n",
       "    }\n",
       "</style>\n",
       "<table border=\"1\" class=\"dataframe\">\n",
       "  <thead>\n",
       "    <tr style=\"text-align: right;\">\n",
       "      <th></th>\n",
       "      <th>Freedom</th>\n",
       "      <th>GDP</th>\n",
       "      <th>Happiness_Score</th>\n",
       "      <th>Life_Expectancy</th>\n",
       "    </tr>\n",
       "  </thead>\n",
       "  <tbody>\n",
       "    <tr>\n",
       "      <td>0</td>\n",
       "      <td>0.66557</td>\n",
       "      <td>1.39651</td>\n",
       "      <td>7.587</td>\n",
       "      <td>0.94143</td>\n",
       "    </tr>\n",
       "    <tr>\n",
       "      <td>1</td>\n",
       "      <td>0.62877</td>\n",
       "      <td>1.30232</td>\n",
       "      <td>7.561</td>\n",
       "      <td>0.94784</td>\n",
       "    </tr>\n",
       "    <tr>\n",
       "      <td>2</td>\n",
       "      <td>0.64938</td>\n",
       "      <td>1.32548</td>\n",
       "      <td>7.527</td>\n",
       "      <td>0.87464</td>\n",
       "    </tr>\n",
       "    <tr>\n",
       "      <td>3</td>\n",
       "      <td>0.66973</td>\n",
       "      <td>1.45900</td>\n",
       "      <td>7.522</td>\n",
       "      <td>0.88521</td>\n",
       "    </tr>\n",
       "    <tr>\n",
       "      <td>4</td>\n",
       "      <td>0.63297</td>\n",
       "      <td>1.32629</td>\n",
       "      <td>7.427</td>\n",
       "      <td>0.90563</td>\n",
       "    </tr>\n",
       "  </tbody>\n",
       "</table>\n",
       "</div>"
      ],
      "text/plain": [
       "   Freedom      GDP  Happiness_Score  Life_Expectancy\n",
       "0  0.66557  1.39651            7.587          0.94143\n",
       "1  0.62877  1.30232            7.561          0.94784\n",
       "2  0.64938  1.32548            7.527          0.87464\n",
       "3  0.66973  1.45900            7.522          0.88521\n",
       "4  0.63297  1.32629            7.427          0.90563"
      ]
     },
     "execution_count": 26,
     "metadata": {},
     "output_type": "execute_result"
    }
   ],
   "source": [
    "New_df = YR2015_2019.drop(['Country', 'Happiness_Rank', 'Year','Government_Corruption','Social_Support','Generosity'], axis=1)\n",
    "New_df.head()"
   ]
  },
  {
   "cell_type": "code",
   "execution_count": 27,
   "metadata": {},
   "outputs": [
    {
     "data": {
      "text/plain": [
       "LinearRegression(copy_X=True, fit_intercept=True, n_jobs=None, normalize=False)"
      ]
     },
     "execution_count": 27,
     "metadata": {},
     "output_type": "execute_result"
    }
   ],
   "source": [
    "from sklearn.linear_model import LinearRegression\n",
    "X = New_df.drop('Happiness_Score', axis=1)\n",
    "lm = LinearRegression()\n",
    "lm.fit(X, New_df.Happiness_Score)"
   ]
  },
  {
   "cell_type": "code",
   "execution_count": 28,
   "metadata": {},
   "outputs": [
    {
     "data": {
      "text/html": [
       "<div>\n",
       "<style scoped>\n",
       "    .dataframe tbody tr th:only-of-type {\n",
       "        vertical-align: middle;\n",
       "    }\n",
       "\n",
       "    .dataframe tbody tr th {\n",
       "        vertical-align: top;\n",
       "    }\n",
       "\n",
       "    .dataframe thead th {\n",
       "        text-align: right;\n",
       "    }\n",
       "</style>\n",
       "<table border=\"1\" class=\"dataframe\">\n",
       "  <thead>\n",
       "    <tr style=\"text-align: right;\">\n",
       "      <th></th>\n",
       "      <th>Features</th>\n",
       "      <th>Coefficents</th>\n",
       "    </tr>\n",
       "  </thead>\n",
       "  <tbody>\n",
       "    <tr>\n",
       "      <td>0</td>\n",
       "      <td>Freedom</td>\n",
       "      <td>2.194553</td>\n",
       "    </tr>\n",
       "    <tr>\n",
       "      <td>1</td>\n",
       "      <td>GDP</td>\n",
       "      <td>1.331726</td>\n",
       "    </tr>\n",
       "    <tr>\n",
       "      <td>2</td>\n",
       "      <td>Life_Expectancy</td>\n",
       "      <td>1.197256</td>\n",
       "    </tr>\n",
       "  </tbody>\n",
       "</table>\n",
       "</div>"
      ],
      "text/plain": [
       "          Features  Coefficents\n",
       "0          Freedom     2.194553\n",
       "1              GDP     1.331726\n",
       "2  Life_Expectancy     1.197256"
      ]
     },
     "execution_count": 28,
     "metadata": {},
     "output_type": "execute_result"
    }
   ],
   "source": [
    "coef = zip(X.columns, lm.coef_)\n",
    "coef_df = pd.DataFrame(list(zip(X.columns, lm.coef_)), columns=['Features', 'Coefficents'])\n",
    "coef_df"
   ]
  },
  {
   "cell_type": "code",
   "execution_count": 29,
   "metadata": {},
   "outputs": [
    {
     "data": {
      "text/plain": [
       "array([6.9712449 , 6.77272447, 6.76115785, 6.99628408, 6.7633269 ,\n",
       "       6.71468931, 6.71444068, 6.83569832, 6.67931677, 6.84417451,\n",
       "       6.16073721, 6.21733515, 6.74072479, 5.91524523, 6.6109171 ,\n",
       "       5.74137531, 7.05809255, 6.73051575, 6.62163253, 6.80128624,\n",
       "       6.60749546, 6.63680917, 5.7186421 , 6.96849108, 6.08345865,\n",
       "       6.70907054, 5.99456352, 7.1348911 , 6.56496602, 5.85619561,\n",
       "       6.12275353, 6.23392407, 5.74741983, 5.91711019, 5.92570723,\n",
       "       6.31442519, 6.51860022, 6.1630201 , 6.67937993, 5.88661052,\n",
       "       6.10005328, 5.23836001, 5.55486986, 5.52605203, 5.72183422,\n",
       "       6.49143225, 6.06576859, 5.68706503, 6.17948838, 5.90838652,\n",
       "       5.33660067, 4.77582313, 5.50983112, 5.92274497, 6.4829262 ,\n",
       "       5.39540185, 5.42091822, 5.50737337, 5.61179527, 6.12112782,\n",
       "       6.05210144, 5.47687533, 5.78755138, 5.64495532, 5.53290104,\n",
       "       6.31418103, 6.13091938, 5.14127023, 4.89004818, 5.49011429,\n",
       "       5.94542645, 6.8908251 , 5.96881714, 5.41341209, 5.56417155,\n",
       "       5.31339301, 4.88872148, 4.34025229, 5.40464571, 5.46668138,\n",
       "       4.19842902, 5.45098934, 5.0903095 , 5.82128409, 4.57993323,\n",
       "       5.60346036, 5.0868459 , 6.24573812, 5.52448791, 5.53136419,\n",
       "       4.3222438 , 5.14696023, 5.36167202, 3.49063587, 5.45171057,\n",
       "       4.78170568, 3.81199002, 5.78181119, 5.27546932, 5.30559488,\n",
       "       4.23537408, 5.28570078, 5.63895142, 5.62999188, 5.02979963,\n",
       "       4.76686736, 5.15709489, 4.64899128, 4.66924934, 5.36199473,\n",
       "       4.94602551, 4.55730874, 4.80979679, 4.6599782 , 3.85292724,\n",
       "       3.65413496, 4.8727236 , 3.88039425, 3.88004358, 3.13719626,\n",
       "       4.52414223, 4.25869911, 3.85975931, 4.08969928, 4.43192202,\n",
       "       4.55562157, 4.85619017, 4.99022616, 4.42832343, 5.27531697,\n",
       "       3.7600432 , 5.6628002 , 4.44866288, 5.46056735, 4.81627583,\n",
       "       4.51178277, 3.96049083, 3.97011755, 4.70925724, 3.77978634,\n",
       "       4.21364153, 4.33803433, 5.1553076 , 4.0184314 , 5.32230923,\n",
       "       4.08257944, 3.78140634, 3.7811348 , 3.67452183, 3.87100566,\n",
       "       4.3537226 , 4.05891027, 3.82664758, 4.6318534 , 4.3507592 ])"
      ]
     },
     "execution_count": 29,
     "metadata": {},
     "output_type": "execute_result"
    }
   ],
   "source": [
    "lm.predict(X)[0:155]"
   ]
  },
  {
   "cell_type": "code",
   "execution_count": 30,
   "metadata": {},
   "outputs": [],
   "source": [
    "# import os\n",
    "# import statsmodels.formula.api as stats\n",
    "# from statsmodels.formula.api import ols\n",
    "# import sklearn\n",
    "# from sklearn import linear_model, datasets\n",
    "# from sklearn.metrics import mean_squared_error\n",
    "# import plotly\n",
    "# import plotly.graph_objs as go\n",
    "# from plotly.offline import download_plotlyjs, init_notebook_mode, plot, iplot\n",
    "# init_notebook_mode(connected=True)"
   ]
  },
  {
   "cell_type": "code",
   "execution_count": 31,
   "metadata": {
    "scrolled": true
   },
   "outputs": [
    {
     "data": {
      "application/vnd.plotly.v1+json": {
       "config": {
        "linkText": "Export to plot.ly",
        "plotlyServerURL": "https://plot.ly",
        "showLink": false
       },
       "data": [
        {
         "mode": "markers",
         "type": "scatter",
         "x": [
          6.971244898092992,
          6.772724471281515,
          6.761157846006093,
          6.996284083337869,
          6.763326897626499,
          6.714689312406211,
          6.714440680647419,
          6.835698322943577,
          6.679316772822128,
          6.844174506314941,
          6.160737211930316,
          6.2173351527597225,
          6.74072478527785,
          5.915245232330653,
          6.610917102704082,
          5.741375310693687,
          7.05809254525429,
          6.730515754283797,
          6.621632532634997,
          6.801286242434594,
          6.607495457230145,
          6.636809174641693,
          5.718642104545971,
          6.968491081118959,
          6.083458651241995,
          6.709070538709046,
          5.994563515986975,
          7.134891100332622,
          6.564966021922212,
          5.856195610268677,
          6.122753534214682,
          6.233924068816043,
          5.747419833273458,
          5.91711019051462,
          5.92570722582539,
          6.314425185485905,
          6.518600219496504,
          6.163020101482537,
          6.679379932569555,
          5.886610521813316,
          6.1000532839034785,
          5.238360007243937,
          5.554869859570835,
          5.526052030646806,
          5.721834216743826,
          6.491432248115098,
          6.0657685911253,
          5.687065030184667,
          6.179488378868246,
          5.908386518159616,
          5.336600669414519,
          4.775823127509414,
          5.509831123908076,
          5.922744972552124,
          6.482926201332232,
          5.395401846241134,
          5.420918222078776,
          5.507373367834799,
          5.61179527272712,
          6.121127823681966,
          6.052101439988753,
          5.476875328659913,
          5.787551382559082,
          5.644955315829028,
          5.532901043843557,
          6.314181033889967,
          6.130919381022872,
          5.141270232334672,
          4.890048181117605,
          5.490114287301552,
          5.9454264468865485,
          6.890825101137729,
          5.968817143131989,
          5.413412090396535,
          5.564171553536781,
          5.313393006080888,
          4.888721482570592,
          4.340252289888035,
          5.404645705373411,
          5.466681384850405,
          4.198429023340071,
          5.450989336902464,
          5.090309499181318,
          5.82128408727287,
          4.579933230137909,
          5.603460356643572,
          5.086845900907919,
          6.245738117364125,
          5.524487913506061,
          5.531364194725523,
          4.322243796420865,
          5.146960228945699,
          5.36167201776958,
          3.4906358657793826,
          5.451710574131441,
          4.7817056757198415,
          3.8119900206330346,
          5.781811194178279,
          5.275469318494064,
          5.305594883097236,
          4.2353740835120135,
          5.285700781032405,
          5.638951418004746,
          5.629991880057684,
          5.029799634798549,
          4.7668673628327465,
          5.157094893664652,
          4.6489912781995795,
          4.669249341706501,
          5.361994729663243,
          4.94602550650562,
          4.557308742523615,
          4.8097967876805825,
          4.65997819723148,
          3.852927238820432,
          3.6541349582699016,
          4.872723604936304,
          3.8803942469915502,
          3.8800435817884824,
          3.13719626393324,
          4.524142234568995,
          4.2586991147842586,
          3.8597593125408594,
          4.089699280267209,
          4.4319220248673545,
          4.555621569469448,
          4.8561901691103415,
          4.990226160286505,
          4.4283234337871855,
          5.275316970219748,
          3.760043195204317,
          5.662800204200044,
          4.448662884858129,
          5.460567349741799,
          4.816275829747603,
          4.511782774339439,
          3.960490832187234,
          3.970117550442703,
          4.709257237981664,
          3.7797863402105696,
          4.213641532398886,
          4.338034328360802,
          5.155307597319059,
          4.018431400803908,
          5.322309227416314,
          4.082579444151945,
          3.781406340758608,
          3.7811347982905517,
          3.674521829317608,
          3.8710056580348384,
          4.3537225959171595,
          4.058910267419134,
          3.826647576237172,
          4.631853403272565,
          4.350759197160974,
          4.6154442337214,
          3.0722820646850293,
          3.942135152293033,
          6.667183191235019,
          6.876032253281386,
          6.7046948647265765,
          6.885348261081914,
          6.620139436191314,
          6.691464235875985,
          6.658445046666275,
          6.60667976647848,
          6.713722299529286,
          6.7299240649964815,
          6.121304985243905,
          6.612642265220373,
          6.521529494182666,
          6.070654693879703,
          6.292621078058071,
          6.600828759143374,
          5.594462994360557,
          6.530193648166932,
          6.659669665249611,
          7.000681918486542,
          5.688003746717436,
          6.91944913048996,
          6.459636261254326,
          5.9536747056629435,
          6.021031868164732,
          5.819588172356631,
          6.0905002317480355,
          6.726793499465989,
          6.1550311264345945,
          6.433821415557582,
          5.591823019953214,
          6.406381335377144,
          5.839029556994369,
          6.048761918956019,
          6.047649575496763,
          7.055701442489445,
          6.187882118398699,
          5.126509528106524,
          5.38767241150929,
          5.740533035675458,
          6.38568682376982,
          6.2679387967406655,
          5.982389918208091,
          5.210155066359299,
          5.583765727485549,
          5.218696365326066,
          5.793500140521455,
          5.250752738425142,
          5.439666322233018,
          5.760194462870165,
          5.524783895207218,
          5.3603888686383305,
          6.483166447502201,
          5.737269021218125,
          4.624306799576963,
          5.588271362841981,
          6.001365291586826,
          5.9478025451267635,
          5.262115479584344,
          5.403661928498767,
          5.4233248194380925,
          6.234286187865587,
          6.368605128111305,
          5.427341301234186,
          5.310008227716342,
          5.851964788908827,
          5.463288083356961,
          5.525653635350198,
          5.94346657464415,
          5.426510243173157,
          5.696468113650328,
          5.954133074085889,
          5.382141038804664,
          5.472799150895293,
          6.731382168552489,
          3.90701518917276,
          4.686645409155238,
          5.37416611399102,
          5.2424494787057805,
          5.368508012193036,
          5.4480375156026515,
          5.372244090156718,
          5.73904297788931,
          5.266138514440149,
          4.816407374354878,
          5.019340135601306,
          4.823294744485087,
          5.052093205523079,
          5.729853038081329,
          4.917972275882324,
          5.420250249608971,
          4.243608964389125,
          5.506366306891505,
          6.154826508476889,
          5.263411726086208,
          5.529693533530954,
          4.119193280721672,
          5.055303096299699,
          5.272773253036933,
          4.762645064165534,
          5.293696504598417,
          5.033143432271569,
          4.1978125003116356,
          4.734465479605866,
          5.275786793913358,
          4.5572270462401585,
          4.52976070029651,
          4.486260553783415,
          5.369309658607665,
          4.752567189195426,
          3.6829935383818597,
          5.111962702105552,
          5.248888638924663,
          4.312722654998575,
          4.133137955242265,
          5.042748633003269,
          5.6773124412502085,
          4.933601820936825,
          4.392357287393944,
          4.831684275868377,
          4.745431513335559,
          4.471166540150062,
          4.670263403264109,
          4.618658832181931,
          3.1665819690350916,
          5.118631408972361,
          4.720934785620079,
          4.279770025236162,
          5.283479496546903,
          3.9624262211781467,
          3.7393800494222944,
          3.9004601642885124,
          3.719912579532532,
          5.101479588957659,
          3.7406215251418806,
          3.5718933842840217,
          5.364596246922217,
          3.58723306991814,
          4.20887615500727,
          5.064507882264012,
          3.724780688807841,
          3.8484906756486668,
          3.668766881451049,
          3.412729083698375,
          3.9371023683974036,
          4.179026321847932,
          4.168921840257791,
          3.640577787176391,
          4.276100553910748,
          3.5086870951888023,
          3.726932374322189,
          4.534720148951233,
          4.173761113669463,
          3.601010804659355,
          3.9563142492418404,
          4.4246541913662405,
          2.8980215125059394,
          7.024683292863633,
          6.820551671151339,
          6.869829319009439,
          6.996019474802662,
          6.771051949232346,
          6.781825187986257,
          6.833882389544586,
          6.721192531790749,
          6.8536939861385395,
          6.831156693014838,
          6.250095215554957,
          6.183996203723424,
          6.726270858713356,
          6.619802357272096,
          6.7960935298997285,
          6.696230793948949,
          6.637090688368776,
          7.16462657324311,
          6.523019593085939,
          6.000324424170072,
          6.894768198126259,
          5.696592369525655,
          6.305787187208397,
          6.019709305110405,
          5.815224256359566,
          7.120804903880748,
          6.588753737776807,
          6.277764420249003,
          5.4977773149356235,
          6.2192424444016225,
          6.472282090134712,
          6.073919062647015,
          6.1767726886367145,
          6.328759070986908,
          7.191028999266443,
          5.709762625140012,
          6.255646275420968,
          6.097383740589932,
          6.544391749941253,
          5.791286904028454,
          6.465759262313256,
          5.866895277667101,
          5.269694582355872,
          5.676372030248521,
          5.3979252687623624,
          6.2233917783864445,
          5.612160218547057,
          5.965788371955545,
          5.706296291024098,
          5.473422243243723,
          6.613944237662697,
          5.541426652696659,
          5.229253958626396,
          5.681998092411795,
          6.034176108143514,
          4.728404202976879,
          5.968565052363626,
          5.427275729047393,
          5.471589800062249,
          5.919995400698145,
          6.35079947824166,
          6.513205527232614,
          5.644376583785789,
          5.949590405721246,
          6.1201037953200235,
          6.166538032348141,
          5.475711472539219,
          5.6358663883436355,
          5.542856411112142,
          5.498248312426764,
          6.796664564857746,
          5.5105463631511515,
          5.184946102131996,
          5.485568277878187,
          5.445701277406139,
          5.564693104054431,
          5.552752631417281,
          5.010303777948085,
          5.888753280995408,
          4.489271014018211,
          5.4118601722237205,
          5.103310624461841,
          5.243791547380017,
          5.304460609498966,
          5.581217498995858,
          5.862103745315329,
          5.421061846335962,
          5.468547605181518,
          6.321905015773071,
          5.124877220281168,
          4.958002514443235,
          5.4288270418915285,
          4.0117427212978445,
          5.607869031425553,
          4.502350430646462,
          4.89099753956801,
          5.397192293580125,
          4.9787445395318315,
          4.732552053916772,
          5.424491028746513,
          5.203999645073212,
          5.23500838906263,
          4.71378764448894,
          5.083629527600882,
          5.553112403277561,
          3.7204118549990635,
          4.378831661510981,
          5.376950121212879,
          5.56297501211804,
          4.993220744946138,
          5.355315810013167,
          4.634869279491781,
          4.018559736475591,
          4.617621615737789,
          4.481505576263982,
          4.692943090758421,
          5.2255148860051115,
          5.231740151244571,
          4.295830153052485,
          5.848612363384077,
          4.921529958663951,
          5.15541124475714,
          3.939810685250144,
          4.9028741311767075,
          5.246361212413681,
          3.3933626415106652,
          4.033510869662103,
          4.36756276517775,
          5.229638454569773,
          3.7832263259452947,
          4.694583068498666,
          4.674525307562198,
          4.264832879891382,
          3.9603853278312675,
          3.8588923146720795,
          4.236507291565736,
          3.51254504031312,
          3.9980288630078604,
          4.0748992032690845,
          3.7266116590377276,
          3.5077891934562966,
          5.535885783937699,
          4.283940427816651,
          3.795408802577706,
          3.413275325986755,
          4.230382622323229,
          3.5712120120530804,
          3.6880420161595326,
          3.8468042101441737,
          4.061197287113055,
          4.682484336085352,
          4.336879117992694,
          4.496733267530456,
          2.9587031837409774,
          3.140567557668837,
          6.8025096023057205,
          6.9990087091751985,
          6.860974581579205,
          6.89222722955884,
          6.973027087074554,
          6.787509535047004,
          6.800694916812157,
          6.729295609398086,
          6.867508741526898,
          6.817606447385256,
          6.261817957008407,
          6.730353730975844,
          6.233873674547805,
          6.8483059475872,
          6.625073193737819,
          6.6366913617614856,
          7.082213980749618,
          6.56644101541065,
          6.4831642089222825,
          6.740427487389818,
          6.379831924170013,
          6.688867846150082,
          6.473912613164454,
          5.868349121955401,
          5.943132170889569,
          6.284892482563819,
          6.223459568570446,
          5.726859078736591,
          6.094310481994999,
          5.617234381879528,
          6.273971314569125,
          7.050516276427807,
          6.235055606170393,
          7.151520959807796,
          5.6520739325542,
          6.330410460468723,
          5.727736957089482,
          6.089536116894241,
          5.841045803851738,
          5.373821445569465,
          5.4079163047475625,
          6.223107497840151,
          6.444813440497965,
          5.794421901172914,
          6.5106092241198645,
          6.1211386397480645,
          5.956290194275983,
          5.808971058228071,
          5.467286887606145,
          5.743119793648955,
          6.56109200619429,
          6.037852894331496,
          5.652517871125575,
          6.6434450538028855,
          6.0758382084172045,
          5.705964711236998,
          5.88853050257112,
          6.335015569804586,
          5.64931451606496,
          5.797673292079502,
          6.17700777917649,
          5.461946101996426,
          6.2177515352152515,
          5.559271576957008,
          5.737610503191673,
          5.337514236109861,
          4.65009380744535,
          5.410858424473641,
          5.527946714337642,
          5.586045783003855,
          5.581092260942977,
          5.101377897317089,
          5.419185179176673,
          5.584889157300244,
          4.63261737743485,
          6.7779093966119515,
          6.397518419885808,
          5.274299356308822,
          5.4004012547906335,
          5.852536508766535,
          5.3192690964157725,
          5.724897191769062,
          5.835036534899599,
          4.818970164782533,
          5.371587961713792,
          6.107547472285929,
          5.553005432024971,
          4.511721422431224,
          5.492797851945447,
          5.41767447065829,
          4.512625747638777,
          5.125758127930899,
          5.264239042425554,
          5.296183029537092,
          5.672606243654316,
          5.526573597670196,
          5.401975726633535,
          4.140527638429269,
          4.450415775344202,
          5.567644882881746,
          4.889354051560744,
          4.928586781267569,
          5.168335315230218,
          4.683182095662325,
          5.303021072955049,
          5.768616403933476,
          4.364815209422188,
          4.810653717651958,
          4.504425507059997,
          5.384337490220835,
          5.143098768690013,
          5.60892577752993,
          3.6437028407256284,
          4.970610910042663,
          5.198244847001706,
          5.834608766103234,
          5.1776314807798105,
          4.003837176814997,
          5.263614753841988,
          5.329387073829956,
          3.9306802165906785,
          5.0490754659499455,
          4.159829262811275,
          4.829864524861853,
          4.7291953888660885,
          3.898182299278064,
          4.393951296271021,
          5.252470077773024,
          4.978359537365485,
          5.218415397525995,
          3.478697749704539,
          3.544544475247108,
          5.247422398510043,
          3.8186399636504365,
          4.223828940996891,
          4.280051855147281,
          3.738065831688676,
          4.666614635831731,
          4.123973437196021,
          4.099103316292409,
          4.175168522338815,
          3.8179367703229463,
          3.8389200405048056,
          4.187048860547711,
          3.4576850949255373,
          5.599701925227954,
          4.303083590183869,
          3.344079291698466,
          3.864110818246692,
          4.279715734824596,
          4.8404857182650165,
          4.058467383443576,
          4.641384529373781,
          3.4302106828616523,
          3.236987266613771,
          2.96114984809923,
          6.796675715476894,
          6.857134295361567,
          7.0594178266605,
          6.886862242680264,
          6.801229162467559,
          6.972178690913442,
          6.838523580407617,
          6.7711520017768105,
          6.867088807170342,
          6.740084171654367,
          6.813566201891019,
          6.278237580265985,
          6.2691528930028895,
          7.03242005957148,
          6.478921504453989,
          6.848420312705466,
          6.620170121894905,
          6.548053360603479,
          6.474807117561019,
          6.318061436735741,
          6.825377997599388,
          6.688745306303355,
          5.92974053794142,
          6.494877772840102,
          6.210096223910488,
          5.952116279091953,
          5.65633437164428,
          6.307353817872681,
          7.0271284681155475,
          6.302228628913118,
          6.275760327451975,
          5.676842736600447,
          6.235081175231987,
          7.203428785050727,
          5.469397992221836,
          5.997859155338963,
          6.556616099554741,
          5.970808773681929,
          6.089849537944467,
          6.248119834105205,
          5.8057390389948385,
          5.790362073830609,
          5.873797131251771,
          6.577739027491436,
          5.402271899823443,
          5.678953577911791,
          6.066376636369274,
          6.072800169588214,
          6.344214121290554,
          5.870354496539667,
          6.570601439347524,
          6.1357210935173,
          5.656007575326909,
          5.845581680917082,
          6.303765421522417,
          5.700629774547425,
          6.063545649370312,
          6.570105931935865,
          5.482649131172339,
          5.858395848838675,
          5.523813438443064,
          5.551161916810807,
          5.720608647310901,
          6.36835420041429,
          5.823150011571627,
          6.460643980421414,
          4.752720341101795,
          5.70133534272314,
          5.6095753860046695,
          5.502088360687691,
          4.858384787724743,
          5.632724138284293,
          5.398495873046208,
          4.893566544381776,
          5.805738126619245,
          6.747661490590801,
          5.898771972054849,
          5.259122520058888,
          5.494467513597506,
          6.255913210901697,
          5.4050215055459,
          5.439577210867039,
          5.280434165700548,
          5.593222829816041,
          4.678803360951665,
          5.237944714596242,
          5.575941695034619,
          4.986681927772638,
          5.444004652808286,
          5.6036830622524985,
          5.287915556341382,
          5.63126618756854,
          6.106572583462411,
          5.7210308172090585,
          5.3324613603979145,
          4.487248738606983,
          5.636229319252445,
          4.755390443266839,
          4.331712897556608,
          4.891615546266337,
          5.454646903652829,
          4.288292644748799,
          4.844546131138403,
          5.262375601674737,
          5.401261944043866,
          5.217365991419316,
          5.671774898299484,
          5.1039241224972045,
          5.387260224139629,
          4.696989248941451,
          4.447434080280053,
          4.07133424615569,
          5.145408840673985,
          3.8435563716198895,
          3.9790843139836714,
          5.252504080777703,
          5.59779813489512,
          4.207333176686989,
          5.363275918726319,
          4.284631081535984,
          4.847016488453015,
          4.013097348899009,
          4.3464257164196916,
          5.092488540878846,
          5.294290204189133,
          5.128817358404926,
          3.66665203107493,
          4.122802895482646,
          3.8484700773517164,
          5.813882424869176,
          5.285857589502467,
          3.6015442283312966,
          4.891132810690557,
          4.363041037355589,
          4.290639725433278,
          4.277492983303988,
          5.039500856890992,
          4.749335750056481,
          4.023818320715849,
          5.3260417982183,
          3.9632996089471213,
          3.804848461027281,
          3.877878575018136,
          4.163912280600687,
          3.5227329761215582,
          4.321771881084708,
          3.5484886086741136,
          5.552686957760393,
          3.9033751050801513,
          4.342902965526217,
          3.7740707051526607,
          4.954896339769751,
          4.670175615732386,
          3.4220283252422417,
          3.1778258238024835,
          3.306359001066511
         ],
         "y": [
          7.587000000000001,
          7.561,
          7.527,
          7.522,
          7.4270000000000005,
          7.406000000000001,
          7.377999999999999,
          7.364,
          7.2860000000000005,
          7.284,
          7.278,
          7.226,
          7.2,
          7.187,
          7.119,
          6.983,
          6.946000000000001,
          6.94,
          6.937,
          6.901,
          6.867000000000001,
          6.853,
          6.81,
          6.797999999999999,
          6.7860000000000005,
          6.75,
          6.67,
          6.611000000000001,
          6.575,
          6.574,
          6.505,
          6.485,
          6.477,
          6.455,
          6.4110000000000005,
          6.329,
          6.3020000000000005,
          6.297999999999999,
          6.295,
          6.269,
          6.167999999999999,
          6.13,
          6.122999999999999,
          6.002999999999999,
          5.995,
          5.987,
          5.984,
          5.975,
          5.96,
          5.9479999999999995,
          5.89,
          5.888999999999999,
          5.877999999999999,
          5.855,
          5.848,
          5.832999999999999,
          5.827999999999999,
          5.824,
          5.813,
          5.791,
          5.77,
          5.7589999999999995,
          5.754,
          5.716,
          5.709,
          5.695,
          5.689,
          5.605,
          5.5889999999999995,
          5.547999999999999,
          5.477,
          5.474,
          5.428999999999999,
          5.399,
          5.36,
          5.332000000000001,
          5.2860000000000005,
          5.268,
          5.252999999999999,
          5.212000000000001,
          5.194,
          5.192,
          5.192,
          5.14,
          5.129,
          5.124,
          5.122999999999999,
          5.102,
          5.098,
          5.073,
          5.0569999999999995,
          5.013,
          5.007,
          4.971,
          4.959,
          4.949,
          4.898,
          4.885,
          4.876,
          4.874,
          4.867,
          4.857,
          4.8389999999999995,
          4.8,
          4.788,
          4.7860000000000005,
          4.739,
          4.715,
          4.694,
          4.686,
          4.681,
          4.677,
          4.6419999999999995,
          4.633,
          4.61,
          4.571000000000001,
          4.565,
          4.55,
          4.518,
          4.5169999999999995,
          4.513999999999999,
          4.512,
          4.507,
          4.436,
          4.419,
          4.369,
          4.35,
          4.332,
          4.3069999999999995,
          4.297,
          4.292,
          4.271,
          4.252,
          4.218,
          4.194,
          4.077,
          4.033,
          3.995,
          3.989,
          3.9560000000000004,
          3.931,
          3.904,
          3.8960000000000004,
          3.845,
          3.819,
          3.781,
          3.681,
          3.678,
          3.667,
          3.656,
          3.655,
          3.5869999999999997,
          3.575,
          3.465,
          3.34,
          3.0060000000000002,
          2.905,
          2.839,
          7.526,
          7.5089999999999995,
          7.501,
          7.497999999999999,
          7.412999999999999,
          7.404,
          7.3389999999999995,
          7.334,
          7.313,
          7.291,
          7.267,
          7.119,
          7.104,
          7.087000000000001,
          7.039,
          6.994,
          6.952000000000001,
          6.928999999999999,
          6.907,
          6.871,
          6.778,
          6.739,
          6.725,
          6.705,
          6.7010000000000005,
          6.65,
          6.596,
          6.5729999999999995,
          6.545,
          6.4879999999999995,
          6.481,
          6.478,
          6.474,
          6.379,
          6.379,
          6.375,
          6.361000000000001,
          6.355,
          6.324,
          6.269,
          6.239,
          6.218,
          6.167999999999999,
          6.084,
          6.077999999999999,
          6.068,
          6.005,
          5.992000000000001,
          5.987,
          5.977,
          5.976,
          5.956,
          5.921,
          5.919,
          5.897,
          5.856,
          5.835,
          5.835,
          5.822,
          5.813,
          5.8020000000000005,
          5.771,
          5.768,
          5.742999999999999,
          5.6579999999999995,
          5.648,
          5.615,
          5.56,
          5.546,
          5.537999999999999,
          5.528,
          5.517,
          5.51,
          5.4879999999999995,
          5.457999999999999,
          5.44,
          5.401,
          5.388999999999999,
          5.314,
          5.303,
          5.291,
          5.279,
          5.245,
          5.196000000000001,
          5.185,
          5.1770000000000005,
          5.162999999999999,
          5.1610000000000005,
          5.155,
          5.151,
          5.145,
          5.132000000000001,
          5.129,
          5.122999999999999,
          5.121,
          5.061,
          5.0569999999999995,
          5.045,
          5.033,
          4.996,
          4.907,
          4.876,
          4.875,
          4.871,
          4.813,
          4.795,
          4.793,
          4.754,
          4.655,
          4.643,
          4.635,
          4.575,
          4.574,
          4.513,
          4.508,
          4.459,
          4.415,
          4.404,
          4.395,
          4.362,
          4.36,
          4.356,
          4.324,
          4.276,
          4.272,
          4.252,
          4.236000000000001,
          4.218999999999999,
          4.217,
          4.2010000000000005,
          4.1930000000000005,
          4.156000000000001,
          4.138999999999999,
          4.121,
          4.073,
          4.0280000000000005,
          3.9739999999999998,
          3.9560000000000004,
          3.9160000000000004,
          3.907,
          3.866,
          3.8560000000000003,
          3.832,
          3.763,
          3.739,
          3.739,
          3.7239999999999998,
          3.695,
          3.6660000000000004,
          3.622,
          3.6069999999999998,
          3.515,
          3.484,
          3.36,
          3.303,
          3.069,
          2.905,
          7.537000179,
          7.521999836,
          7.504000187000001,
          7.493999958,
          7.468999863,
          7.376999855,
          7.315999985,
          7.31400013,
          7.28399992,
          7.28399992,
          7.212999821,
          7.078999996,
          7.006000042,
          6.993000031,
          6.977000237,
          6.951000214,
          6.890999794,
          6.862999916000001,
          6.714000225,
          6.65199995,
          6.647999763,
          6.635000229,
          6.609000206,
          6.598999977,
          6.578000069,
          6.5720000270000005,
          6.52699995,
          6.453999996,
          6.453999996,
          6.452000141,
          6.441999912000001,
          6.423999786,
          6.421999931,
          6.402999877999999,
          6.375,
          6.3569998739999996,
          6.343999863,
          6.168000221000001,
          6.105000018999999,
          6.09800005,
          6.086999893,
          6.084000111,
          6.071000099,
          6.007999897,
          6.002999783,
          5.97300005,
          5.971000195,
          5.964000225,
          5.962999821,
          5.9559998510000005,
          5.920000076,
          5.90199995,
          5.872000217,
          5.849999905,
          5.837999821,
          5.837999821,
          5.8249998089999995,
          5.822999954,
          5.8220000270000005,
          5.818999767,
          5.809999942999999,
          5.757999897,
          5.715000152999999,
          5.629000187000001,
          5.620999812999999,
          5.611000061,
          5.568999767,
          5.525000095,
          5.5,
          5.493000031,
          5.472000122000001,
          5.429999828,
          5.394999981000001,
          5.335999966,
          5.323999882,
          5.31099987,
          5.293000221000001,
          5.278999805,
          5.2729997630000005,
          5.269000053,
          5.262000083999999,
          5.25,
          5.236999989,
          5.235000134,
          5.234000206,
          5.230000018999999,
          5.2270002369999995,
          5.224999905,
          5.195000172,
          5.18200016,
          5.181000233,
          5.1750001910000005,
          5.151000023,
          5.073999882,
          5.073999882,
          5.040999889,
          5.011000156000001,
          5.004000187,
          4.961999893,
          4.954999924,
          4.828999996,
          4.804999828,
          4.775000095,
          4.735000134,
          4.714000225,
          4.709000111,
          4.695000172,
          4.691999912,
          4.644000053,
          4.607999802,
          4.573999882,
          4.552999973,
          4.5500001910000005,
          4.545000076,
          4.534999847,
          4.513999939,
          4.497000217,
          4.465000153,
          4.460000038,
          4.440000057,
          4.375999928,
          4.315000057,
          4.291999817,
          4.290999889,
          4.285999775,
          4.28000021,
          4.190000057,
          4.179999828,
          4.168000221000001,
          4.138999939,
          4.1199998860000004,
          4.096000195,
          4.0809998510000005,
          4.032000065,
          4.027999878,
          3.970000029,
          3.9360001089999996,
          3.875,
          3.808000088,
          3.7950000760000004,
          3.79399991,
          3.766000032,
          3.657000065,
          3.644000053,
          3.6029999260000003,
          3.592999935,
          3.59100008,
          3.5329999919999997,
          3.5069999689999998,
          3.4949998860000004,
          3.4709999560000004,
          3.461999893,
          3.348999977,
          2.904999971,
          2.6930000780000003,
          7.632000000000001,
          7.593999999999999,
          7.555,
          7.495,
          7.487,
          7.441,
          7.327999999999999,
          7.324,
          7.314,
          7.272,
          7.19,
          7.138999999999999,
          7.072,
          6.977,
          6.965,
          6.9270000000000005,
          6.91,
          6.886,
          6.814,
          6.774,
          6.711,
          6.627000000000001,
          6.489,
          6.4879999999999995,
          6.476,
          6.441,
          6.43,
          6.419,
          6.388,
          6.382000000000001,
          6.379,
          6.374,
          6.371,
          6.343,
          6.322,
          6.31,
          6.26,
          6.192,
          6.172999999999999,
          6.167000000000001,
          6.141,
          6.122999999999999,
          6.105,
          6.096,
          6.082999999999999,
          6.072,
          6,
          5.973,
          5.956,
          5.952000000000001,
          5.9479999999999995,
          5.945,
          5.933,
          5.915,
          5.891,
          5.89,
          5.875,
          5.835,
          5.81,
          5.79,
          5.7620000000000005,
          5.752000000000001,
          5.739,
          5.681,
          5.662999999999999,
          5.662000000000001,
          5.64,
          5.636,
          5.62,
          5.566,
          5.524,
          5.504,
          5.483,
          5.483,
          5.472,
          5.43,
          5.41,
          5.398,
          5.358,
          5.358,
          5.347,
          5.321000000000001,
          5.3020000000000005,
          5.295,
          5.254,
          5.246,
          5.2010000000000005,
          5.199,
          5.185,
          5.1610000000000005,
          5.155,
          5.131,
          5.129,
          5.125,
          5.103,
          5.093,
          5.082,
          4.982,
          4.975,
          4.933,
          4.88,
          4.806,
          4.758,
          4.743,
          4.724,
          4.707,
          4.671,
          4.657,
          4.631,
          4.623,
          4.592,
          4.586,
          4.571000000000001,
          4.559,
          4.5,
          4.471,
          4.456,
          4.447,
          4.441,
          4.433,
          4.4239999999999995,
          4.419,
          4.417,
          4.41,
          4.377,
          4.356,
          4.35,
          4.34,
          4.321000000000001,
          4.308,
          4.301,
          4.245,
          4.19,
          4.166,
          4.1610000000000005,
          4.141,
          4.138999999999999,
          4.103,
          3.9989999999999997,
          3.964,
          3.8080000000000003,
          3.795,
          3.7739999999999996,
          3.6919999999999997,
          3.6319999999999997,
          3.59,
          3.5869999999999997,
          3.582,
          3.495,
          3.4619999999999997,
          3.408,
          3.355,
          3.303,
          3.2539999999999996,
          3.083,
          2.905,
          7.769,
          7.6,
          7.553999999999999,
          7.494,
          7.4879999999999995,
          7.48,
          7.343,
          7.307,
          7.278,
          7.246,
          7.228,
          7.167000000000001,
          7.138999999999999,
          7.09,
          7.053999999999999,
          7.021,
          6.985,
          6.922999999999999,
          6.892,
          6.852,
          6.825,
          6.726,
          6.595,
          6.5920000000000005,
          6.446000000000001,
          6.444,
          6.436,
          6.375,
          6.374,
          6.354,
          6.321000000000001,
          6.3,
          6.292999999999999,
          6.2620000000000005,
          6.252999999999999,
          6.223,
          6.199,
          6.1979999999999995,
          6.192,
          6.182,
          6.1739999999999995,
          6.149,
          6.125,
          6.117999999999999,
          6.105,
          6.1,
          6.086,
          6.07,
          6.046,
          6.028,
          6.021,
          6.007999999999999,
          5.94,
          5.895,
          5.893,
          5.89,
          5.888,
          5.886,
          5.86,
          5.809,
          5.779,
          5.757999999999999,
          5.742999999999999,
          5.718,
          5.697,
          5.693,
          5.653,
          5.648,
          5.631,
          5.603,
          5.529,
          5.525,
          5.523,
          5.4670000000000005,
          5.432,
          5.43,
          5.425,
          5.386,
          5.372999999999999,
          5.3389999999999995,
          5.3229999999999995,
          5.287000000000001,
          5.285,
          5.274,
          5.265,
          5.261,
          5.247000000000001,
          5.211,
          5.207999999999999,
          5.207999999999999,
          5.197,
          5.192,
          5.191,
          5.175,
          5.082,
          5.044,
          5.011,
          4.996,
          4.944,
          4.913,
          4.906000000000001,
          4.883,
          4.812,
          4.7989999999999995,
          4.796,
          4.7219999999999995,
          4.718999999999999,
          4.707,
          4.7,
          4.696000000000001,
          4.681,
          4.668,
          4.638999999999999,
          4.628,
          4.587,
          4.559,
          4.548,
          4.534,
          4.519,
          4.516,
          4.5089999999999995,
          4.49,
          4.466,
          4.461,
          4.456,
          4.437,
          4.418,
          4.39,
          4.374,
          4.3660000000000005,
          4.36,
          4.35,
          4.332,
          4.2860000000000005,
          4.212,
          4.189,
          4.166,
          4.107,
          4.085,
          4.015,
          3.975,
          3.9730000000000003,
          3.9330000000000003,
          3.802,
          3.775,
          3.6630000000000003,
          3.597,
          3.488,
          3.4619999999999997,
          3.41,
          3.38,
          3.3339999999999996,
          3.2310000000000003,
          3.2030000000000003,
          3.083,
          2.853
         ]
        }
       ],
       "layout": {
        "template": {
         "data": {
          "bar": [
           {
            "error_x": {
             "color": "#2a3f5f"
            },
            "error_y": {
             "color": "#2a3f5f"
            },
            "marker": {
             "line": {
              "color": "#E5ECF6",
              "width": 0.5
             }
            },
            "type": "bar"
           }
          ],
          "barpolar": [
           {
            "marker": {
             "line": {
              "color": "#E5ECF6",
              "width": 0.5
             }
            },
            "type": "barpolar"
           }
          ],
          "carpet": [
           {
            "aaxis": {
             "endlinecolor": "#2a3f5f",
             "gridcolor": "white",
             "linecolor": "white",
             "minorgridcolor": "white",
             "startlinecolor": "#2a3f5f"
            },
            "baxis": {
             "endlinecolor": "#2a3f5f",
             "gridcolor": "white",
             "linecolor": "white",
             "minorgridcolor": "white",
             "startlinecolor": "#2a3f5f"
            },
            "type": "carpet"
           }
          ],
          "choropleth": [
           {
            "colorbar": {
             "outlinewidth": 0,
             "ticks": ""
            },
            "type": "choropleth"
           }
          ],
          "contour": [
           {
            "colorbar": {
             "outlinewidth": 0,
             "ticks": ""
            },
            "colorscale": [
             [
              0,
              "#0d0887"
             ],
             [
              0.1111111111111111,
              "#46039f"
             ],
             [
              0.2222222222222222,
              "#7201a8"
             ],
             [
              0.3333333333333333,
              "#9c179e"
             ],
             [
              0.4444444444444444,
              "#bd3786"
             ],
             [
              0.5555555555555556,
              "#d8576b"
             ],
             [
              0.6666666666666666,
              "#ed7953"
             ],
             [
              0.7777777777777778,
              "#fb9f3a"
             ],
             [
              0.8888888888888888,
              "#fdca26"
             ],
             [
              1,
              "#f0f921"
             ]
            ],
            "type": "contour"
           }
          ],
          "contourcarpet": [
           {
            "colorbar": {
             "outlinewidth": 0,
             "ticks": ""
            },
            "type": "contourcarpet"
           }
          ],
          "heatmap": [
           {
            "colorbar": {
             "outlinewidth": 0,
             "ticks": ""
            },
            "colorscale": [
             [
              0,
              "#0d0887"
             ],
             [
              0.1111111111111111,
              "#46039f"
             ],
             [
              0.2222222222222222,
              "#7201a8"
             ],
             [
              0.3333333333333333,
              "#9c179e"
             ],
             [
              0.4444444444444444,
              "#bd3786"
             ],
             [
              0.5555555555555556,
              "#d8576b"
             ],
             [
              0.6666666666666666,
              "#ed7953"
             ],
             [
              0.7777777777777778,
              "#fb9f3a"
             ],
             [
              0.8888888888888888,
              "#fdca26"
             ],
             [
              1,
              "#f0f921"
             ]
            ],
            "type": "heatmap"
           }
          ],
          "heatmapgl": [
           {
            "colorbar": {
             "outlinewidth": 0,
             "ticks": ""
            },
            "colorscale": [
             [
              0,
              "#0d0887"
             ],
             [
              0.1111111111111111,
              "#46039f"
             ],
             [
              0.2222222222222222,
              "#7201a8"
             ],
             [
              0.3333333333333333,
              "#9c179e"
             ],
             [
              0.4444444444444444,
              "#bd3786"
             ],
             [
              0.5555555555555556,
              "#d8576b"
             ],
             [
              0.6666666666666666,
              "#ed7953"
             ],
             [
              0.7777777777777778,
              "#fb9f3a"
             ],
             [
              0.8888888888888888,
              "#fdca26"
             ],
             [
              1,
              "#f0f921"
             ]
            ],
            "type": "heatmapgl"
           }
          ],
          "histogram": [
           {
            "marker": {
             "colorbar": {
              "outlinewidth": 0,
              "ticks": ""
             }
            },
            "type": "histogram"
           }
          ],
          "histogram2d": [
           {
            "colorbar": {
             "outlinewidth": 0,
             "ticks": ""
            },
            "colorscale": [
             [
              0,
              "#0d0887"
             ],
             [
              0.1111111111111111,
              "#46039f"
             ],
             [
              0.2222222222222222,
              "#7201a8"
             ],
             [
              0.3333333333333333,
              "#9c179e"
             ],
             [
              0.4444444444444444,
              "#bd3786"
             ],
             [
              0.5555555555555556,
              "#d8576b"
             ],
             [
              0.6666666666666666,
              "#ed7953"
             ],
             [
              0.7777777777777778,
              "#fb9f3a"
             ],
             [
              0.8888888888888888,
              "#fdca26"
             ],
             [
              1,
              "#f0f921"
             ]
            ],
            "type": "histogram2d"
           }
          ],
          "histogram2dcontour": [
           {
            "colorbar": {
             "outlinewidth": 0,
             "ticks": ""
            },
            "colorscale": [
             [
              0,
              "#0d0887"
             ],
             [
              0.1111111111111111,
              "#46039f"
             ],
             [
              0.2222222222222222,
              "#7201a8"
             ],
             [
              0.3333333333333333,
              "#9c179e"
             ],
             [
              0.4444444444444444,
              "#bd3786"
             ],
             [
              0.5555555555555556,
              "#d8576b"
             ],
             [
              0.6666666666666666,
              "#ed7953"
             ],
             [
              0.7777777777777778,
              "#fb9f3a"
             ],
             [
              0.8888888888888888,
              "#fdca26"
             ],
             [
              1,
              "#f0f921"
             ]
            ],
            "type": "histogram2dcontour"
           }
          ],
          "mesh3d": [
           {
            "colorbar": {
             "outlinewidth": 0,
             "ticks": ""
            },
            "type": "mesh3d"
           }
          ],
          "parcoords": [
           {
            "line": {
             "colorbar": {
              "outlinewidth": 0,
              "ticks": ""
             }
            },
            "type": "parcoords"
           }
          ],
          "pie": [
           {
            "automargin": true,
            "type": "pie"
           }
          ],
          "scatter": [
           {
            "marker": {
             "colorbar": {
              "outlinewidth": 0,
              "ticks": ""
             }
            },
            "type": "scatter"
           }
          ],
          "scatter3d": [
           {
            "line": {
             "colorbar": {
              "outlinewidth": 0,
              "ticks": ""
             }
            },
            "marker": {
             "colorbar": {
              "outlinewidth": 0,
              "ticks": ""
             }
            },
            "type": "scatter3d"
           }
          ],
          "scattercarpet": [
           {
            "marker": {
             "colorbar": {
              "outlinewidth": 0,
              "ticks": ""
             }
            },
            "type": "scattercarpet"
           }
          ],
          "scattergeo": [
           {
            "marker": {
             "colorbar": {
              "outlinewidth": 0,
              "ticks": ""
             }
            },
            "type": "scattergeo"
           }
          ],
          "scattergl": [
           {
            "marker": {
             "colorbar": {
              "outlinewidth": 0,
              "ticks": ""
             }
            },
            "type": "scattergl"
           }
          ],
          "scattermapbox": [
           {
            "marker": {
             "colorbar": {
              "outlinewidth": 0,
              "ticks": ""
             }
            },
            "type": "scattermapbox"
           }
          ],
          "scatterpolar": [
           {
            "marker": {
             "colorbar": {
              "outlinewidth": 0,
              "ticks": ""
             }
            },
            "type": "scatterpolar"
           }
          ],
          "scatterpolargl": [
           {
            "marker": {
             "colorbar": {
              "outlinewidth": 0,
              "ticks": ""
             }
            },
            "type": "scatterpolargl"
           }
          ],
          "scatterternary": [
           {
            "marker": {
             "colorbar": {
              "outlinewidth": 0,
              "ticks": ""
             }
            },
            "type": "scatterternary"
           }
          ],
          "surface": [
           {
            "colorbar": {
             "outlinewidth": 0,
             "ticks": ""
            },
            "colorscale": [
             [
              0,
              "#0d0887"
             ],
             [
              0.1111111111111111,
              "#46039f"
             ],
             [
              0.2222222222222222,
              "#7201a8"
             ],
             [
              0.3333333333333333,
              "#9c179e"
             ],
             [
              0.4444444444444444,
              "#bd3786"
             ],
             [
              0.5555555555555556,
              "#d8576b"
             ],
             [
              0.6666666666666666,
              "#ed7953"
             ],
             [
              0.7777777777777778,
              "#fb9f3a"
             ],
             [
              0.8888888888888888,
              "#fdca26"
             ],
             [
              1,
              "#f0f921"
             ]
            ],
            "type": "surface"
           }
          ],
          "table": [
           {
            "cells": {
             "fill": {
              "color": "#EBF0F8"
             },
             "line": {
              "color": "white"
             }
            },
            "header": {
             "fill": {
              "color": "#C8D4E3"
             },
             "line": {
              "color": "white"
             }
            },
            "type": "table"
           }
          ]
         },
         "layout": {
          "annotationdefaults": {
           "arrowcolor": "#2a3f5f",
           "arrowhead": 0,
           "arrowwidth": 1
          },
          "coloraxis": {
           "colorbar": {
            "outlinewidth": 0,
            "ticks": ""
           }
          },
          "colorscale": {
           "diverging": [
            [
             0,
             "#8e0152"
            ],
            [
             0.1,
             "#c51b7d"
            ],
            [
             0.2,
             "#de77ae"
            ],
            [
             0.3,
             "#f1b6da"
            ],
            [
             0.4,
             "#fde0ef"
            ],
            [
             0.5,
             "#f7f7f7"
            ],
            [
             0.6,
             "#e6f5d0"
            ],
            [
             0.7,
             "#b8e186"
            ],
            [
             0.8,
             "#7fbc41"
            ],
            [
             0.9,
             "#4d9221"
            ],
            [
             1,
             "#276419"
            ]
           ],
           "sequential": [
            [
             0,
             "#0d0887"
            ],
            [
             0.1111111111111111,
             "#46039f"
            ],
            [
             0.2222222222222222,
             "#7201a8"
            ],
            [
             0.3333333333333333,
             "#9c179e"
            ],
            [
             0.4444444444444444,
             "#bd3786"
            ],
            [
             0.5555555555555556,
             "#d8576b"
            ],
            [
             0.6666666666666666,
             "#ed7953"
            ],
            [
             0.7777777777777778,
             "#fb9f3a"
            ],
            [
             0.8888888888888888,
             "#fdca26"
            ],
            [
             1,
             "#f0f921"
            ]
           ],
           "sequentialminus": [
            [
             0,
             "#0d0887"
            ],
            [
             0.1111111111111111,
             "#46039f"
            ],
            [
             0.2222222222222222,
             "#7201a8"
            ],
            [
             0.3333333333333333,
             "#9c179e"
            ],
            [
             0.4444444444444444,
             "#bd3786"
            ],
            [
             0.5555555555555556,
             "#d8576b"
            ],
            [
             0.6666666666666666,
             "#ed7953"
            ],
            [
             0.7777777777777778,
             "#fb9f3a"
            ],
            [
             0.8888888888888888,
             "#fdca26"
            ],
            [
             1,
             "#f0f921"
            ]
           ]
          },
          "colorway": [
           "#636efa",
           "#EF553B",
           "#00cc96",
           "#ab63fa",
           "#FFA15A",
           "#19d3f3",
           "#FF6692",
           "#B6E880",
           "#FF97FF",
           "#FECB52"
          ],
          "font": {
           "color": "#2a3f5f"
          },
          "geo": {
           "bgcolor": "white",
           "lakecolor": "white",
           "landcolor": "#E5ECF6",
           "showlakes": true,
           "showland": true,
           "subunitcolor": "white"
          },
          "hoverlabel": {
           "align": "left"
          },
          "hovermode": "closest",
          "mapbox": {
           "style": "light"
          },
          "paper_bgcolor": "white",
          "plot_bgcolor": "#E5ECF6",
          "polar": {
           "angularaxis": {
            "gridcolor": "white",
            "linecolor": "white",
            "ticks": ""
           },
           "bgcolor": "#E5ECF6",
           "radialaxis": {
            "gridcolor": "white",
            "linecolor": "white",
            "ticks": ""
           }
          },
          "scene": {
           "xaxis": {
            "backgroundcolor": "#E5ECF6",
            "gridcolor": "white",
            "gridwidth": 2,
            "linecolor": "white",
            "showbackground": true,
            "ticks": "",
            "zerolinecolor": "white"
           },
           "yaxis": {
            "backgroundcolor": "#E5ECF6",
            "gridcolor": "white",
            "gridwidth": 2,
            "linecolor": "white",
            "showbackground": true,
            "ticks": "",
            "zerolinecolor": "white"
           },
           "zaxis": {
            "backgroundcolor": "#E5ECF6",
            "gridcolor": "white",
            "gridwidth": 2,
            "linecolor": "white",
            "showbackground": true,
            "ticks": "",
            "zerolinecolor": "white"
           }
          },
          "shapedefaults": {
           "line": {
            "color": "#2a3f5f"
           }
          },
          "ternary": {
           "aaxis": {
            "gridcolor": "white",
            "linecolor": "white",
            "ticks": ""
           },
           "baxis": {
            "gridcolor": "white",
            "linecolor": "white",
            "ticks": ""
           },
           "bgcolor": "#E5ECF6",
           "caxis": {
            "gridcolor": "white",
            "linecolor": "white",
            "ticks": ""
           }
          },
          "title": {
           "x": 0.05
          },
          "xaxis": {
           "automargin": true,
           "gridcolor": "white",
           "linecolor": "white",
           "ticks": "",
           "title": {
            "standoff": 15
           },
           "zerolinecolor": "white",
           "zerolinewidth": 2
          },
          "yaxis": {
           "automargin": true,
           "gridcolor": "white",
           "linecolor": "white",
           "ticks": "",
           "title": {
            "standoff": 15
           },
           "zerolinecolor": "white",
           "zerolinewidth": 2
          }
         }
        },
        "title": {
         "text": "Happiness Stuff"
        },
        "xaxis": {
         "title": {
          "text": "Happiness Score"
         }
        },
        "yaxis": {
         "title": {
          "text": "Predicted Happiness Score"
         }
        }
       }
      },
      "text/html": [
       "<div>\n",
       "        \n",
       "        \n",
       "            <div id=\"512ea888-21d5-46ba-9fda-67b1eedece9c\" class=\"plotly-graph-div\" style=\"height:525px; width:100%;\"></div>\n",
       "            <script type=\"text/javascript\">\n",
       "                require([\"plotly\"], function(Plotly) {\n",
       "                    window.PLOTLYENV=window.PLOTLYENV || {};\n",
       "                    \n",
       "                if (document.getElementById(\"512ea888-21d5-46ba-9fda-67b1eedece9c\")) {\n",
       "                    Plotly.newPlot(\n",
       "                        '512ea888-21d5-46ba-9fda-67b1eedece9c',\n",
       "                        [{\"mode\": \"markers\", \"type\": \"scatter\", \"x\": [6.971244898092992, 6.772724471281515, 6.761157846006093, 6.996284083337869, 6.763326897626499, 6.714689312406211, 6.714440680647419, 6.835698322943577, 6.679316772822128, 6.844174506314941, 6.160737211930316, 6.2173351527597225, 6.74072478527785, 5.915245232330653, 6.610917102704082, 5.741375310693687, 7.05809254525429, 6.730515754283797, 6.621632532634997, 6.801286242434594, 6.607495457230145, 6.636809174641693, 5.718642104545971, 6.968491081118959, 6.083458651241995, 6.709070538709046, 5.994563515986975, 7.134891100332622, 6.564966021922212, 5.856195610268677, 6.122753534214682, 6.233924068816043, 5.747419833273458, 5.91711019051462, 5.92570722582539, 6.314425185485905, 6.518600219496504, 6.163020101482537, 6.679379932569555, 5.886610521813316, 6.1000532839034785, 5.238360007243937, 5.554869859570835, 5.526052030646806, 5.721834216743826, 6.491432248115098, 6.0657685911253, 5.687065030184667, 6.179488378868246, 5.908386518159616, 5.336600669414519, 4.775823127509414, 5.509831123908076, 5.922744972552124, 6.482926201332232, 5.395401846241134, 5.420918222078776, 5.507373367834799, 5.61179527272712, 6.121127823681966, 6.052101439988753, 5.476875328659913, 5.787551382559082, 5.644955315829028, 5.532901043843557, 6.314181033889967, 6.130919381022872, 5.141270232334672, 4.890048181117605, 5.490114287301552, 5.9454264468865485, 6.890825101137729, 5.968817143131989, 5.413412090396535, 5.564171553536781, 5.313393006080888, 4.888721482570592, 4.340252289888035, 5.404645705373411, 5.466681384850405, 4.198429023340071, 5.450989336902464, 5.090309499181318, 5.82128408727287, 4.579933230137909, 5.603460356643572, 5.086845900907919, 6.245738117364125, 5.524487913506061, 5.531364194725523, 4.322243796420865, 5.146960228945699, 5.36167201776958, 3.4906358657793826, 5.451710574131441, 4.7817056757198415, 3.8119900206330346, 5.781811194178279, 5.275469318494064, 5.305594883097236, 4.2353740835120135, 5.285700781032405, 5.638951418004746, 5.629991880057684, 5.029799634798549, 4.7668673628327465, 5.157094893664652, 4.6489912781995795, 4.669249341706501, 5.361994729663243, 4.94602550650562, 4.557308742523615, 4.8097967876805825, 4.65997819723148, 3.852927238820432, 3.6541349582699016, 4.872723604936304, 3.8803942469915502, 3.8800435817884824, 3.13719626393324, 4.524142234568995, 4.2586991147842586, 3.8597593125408594, 4.089699280267209, 4.4319220248673545, 4.555621569469448, 4.8561901691103415, 4.990226160286505, 4.4283234337871855, 5.275316970219748, 3.760043195204317, 5.662800204200044, 4.448662884858129, 5.460567349741799, 4.816275829747603, 4.511782774339439, 3.960490832187234, 3.970117550442703, 4.709257237981664, 3.7797863402105696, 4.213641532398886, 4.338034328360802, 5.155307597319059, 4.018431400803908, 5.322309227416314, 4.082579444151945, 3.781406340758608, 3.7811347982905517, 3.674521829317608, 3.8710056580348384, 4.3537225959171595, 4.058910267419134, 3.826647576237172, 4.631853403272565, 4.350759197160974, 4.6154442337214, 3.0722820646850293, 3.942135152293033, 6.667183191235019, 6.876032253281386, 6.7046948647265765, 6.885348261081914, 6.620139436191314, 6.691464235875985, 6.658445046666275, 6.60667976647848, 6.713722299529286, 6.7299240649964815, 6.121304985243905, 6.612642265220373, 6.521529494182666, 6.070654693879703, 6.292621078058071, 6.600828759143374, 5.594462994360557, 6.530193648166932, 6.659669665249611, 7.000681918486542, 5.688003746717436, 6.91944913048996, 6.459636261254326, 5.9536747056629435, 6.021031868164732, 5.819588172356631, 6.0905002317480355, 6.726793499465989, 6.1550311264345945, 6.433821415557582, 5.591823019953214, 6.406381335377144, 5.839029556994369, 6.048761918956019, 6.047649575496763, 7.055701442489445, 6.187882118398699, 5.126509528106524, 5.38767241150929, 5.740533035675458, 6.38568682376982, 6.2679387967406655, 5.982389918208091, 5.210155066359299, 5.583765727485549, 5.218696365326066, 5.793500140521455, 5.250752738425142, 5.439666322233018, 5.760194462870165, 5.524783895207218, 5.3603888686383305, 6.483166447502201, 5.737269021218125, 4.624306799576963, 5.588271362841981, 6.001365291586826, 5.9478025451267635, 5.262115479584344, 5.403661928498767, 5.4233248194380925, 6.234286187865587, 6.368605128111305, 5.427341301234186, 5.310008227716342, 5.851964788908827, 5.463288083356961, 5.525653635350198, 5.94346657464415, 5.426510243173157, 5.696468113650328, 5.954133074085889, 5.382141038804664, 5.472799150895293, 6.731382168552489, 3.90701518917276, 4.686645409155238, 5.37416611399102, 5.2424494787057805, 5.368508012193036, 5.4480375156026515, 5.372244090156718, 5.73904297788931, 5.266138514440149, 4.816407374354878, 5.019340135601306, 4.823294744485087, 5.052093205523079, 5.729853038081329, 4.917972275882324, 5.420250249608971, 4.243608964389125, 5.506366306891505, 6.154826508476889, 5.263411726086208, 5.529693533530954, 4.119193280721672, 5.055303096299699, 5.272773253036933, 4.762645064165534, 5.293696504598417, 5.033143432271569, 4.1978125003116356, 4.734465479605866, 5.275786793913358, 4.5572270462401585, 4.52976070029651, 4.486260553783415, 5.369309658607665, 4.752567189195426, 3.6829935383818597, 5.111962702105552, 5.248888638924663, 4.312722654998575, 4.133137955242265, 5.042748633003269, 5.6773124412502085, 4.933601820936825, 4.392357287393944, 4.831684275868377, 4.745431513335559, 4.471166540150062, 4.670263403264109, 4.618658832181931, 3.1665819690350916, 5.118631408972361, 4.720934785620079, 4.279770025236162, 5.283479496546903, 3.9624262211781467, 3.7393800494222944, 3.9004601642885124, 3.719912579532532, 5.101479588957659, 3.7406215251418806, 3.5718933842840217, 5.364596246922217, 3.58723306991814, 4.20887615500727, 5.064507882264012, 3.724780688807841, 3.8484906756486668, 3.668766881451049, 3.412729083698375, 3.9371023683974036, 4.179026321847932, 4.168921840257791, 3.640577787176391, 4.276100553910748, 3.5086870951888023, 3.726932374322189, 4.534720148951233, 4.173761113669463, 3.601010804659355, 3.9563142492418404, 4.4246541913662405, 2.8980215125059394, 7.024683292863633, 6.820551671151339, 6.869829319009439, 6.996019474802662, 6.771051949232346, 6.781825187986257, 6.833882389544586, 6.721192531790749, 6.8536939861385395, 6.831156693014838, 6.250095215554957, 6.183996203723424, 6.726270858713356, 6.619802357272096, 6.7960935298997285, 6.696230793948949, 6.637090688368776, 7.16462657324311, 6.523019593085939, 6.000324424170072, 6.894768198126259, 5.696592369525655, 6.305787187208397, 6.019709305110405, 5.815224256359566, 7.120804903880748, 6.588753737776807, 6.277764420249003, 5.4977773149356235, 6.2192424444016225, 6.472282090134712, 6.073919062647015, 6.1767726886367145, 6.328759070986908, 7.191028999266443, 5.709762625140012, 6.255646275420968, 6.097383740589932, 6.544391749941253, 5.791286904028454, 6.465759262313256, 5.866895277667101, 5.269694582355872, 5.676372030248521, 5.3979252687623624, 6.2233917783864445, 5.612160218547057, 5.965788371955545, 5.706296291024098, 5.473422243243723, 6.613944237662697, 5.541426652696659, 5.229253958626396, 5.681998092411795, 6.034176108143514, 4.728404202976879, 5.968565052363626, 5.427275729047393, 5.471589800062249, 5.919995400698145, 6.35079947824166, 6.513205527232614, 5.644376583785789, 5.949590405721246, 6.1201037953200235, 6.166538032348141, 5.475711472539219, 5.6358663883436355, 5.542856411112142, 5.498248312426764, 6.796664564857746, 5.5105463631511515, 5.184946102131996, 5.485568277878187, 5.445701277406139, 5.564693104054431, 5.552752631417281, 5.010303777948085, 5.888753280995408, 4.489271014018211, 5.4118601722237205, 5.103310624461841, 5.243791547380017, 5.304460609498966, 5.581217498995858, 5.862103745315329, 5.421061846335962, 5.468547605181518, 6.321905015773071, 5.124877220281168, 4.958002514443235, 5.4288270418915285, 4.0117427212978445, 5.607869031425553, 4.502350430646462, 4.89099753956801, 5.397192293580125, 4.9787445395318315, 4.732552053916772, 5.424491028746513, 5.203999645073212, 5.23500838906263, 4.71378764448894, 5.083629527600882, 5.553112403277561, 3.7204118549990635, 4.378831661510981, 5.376950121212879, 5.56297501211804, 4.993220744946138, 5.355315810013167, 4.634869279491781, 4.018559736475591, 4.617621615737789, 4.481505576263982, 4.692943090758421, 5.2255148860051115, 5.231740151244571, 4.295830153052485, 5.848612363384077, 4.921529958663951, 5.15541124475714, 3.939810685250144, 4.9028741311767075, 5.246361212413681, 3.3933626415106652, 4.033510869662103, 4.36756276517775, 5.229638454569773, 3.7832263259452947, 4.694583068498666, 4.674525307562198, 4.264832879891382, 3.9603853278312675, 3.8588923146720795, 4.236507291565736, 3.51254504031312, 3.9980288630078604, 4.0748992032690845, 3.7266116590377276, 3.5077891934562966, 5.535885783937699, 4.283940427816651, 3.795408802577706, 3.413275325986755, 4.230382622323229, 3.5712120120530804, 3.6880420161595326, 3.8468042101441737, 4.061197287113055, 4.682484336085352, 4.336879117992694, 4.496733267530456, 2.9587031837409774, 3.140567557668837, 6.8025096023057205, 6.9990087091751985, 6.860974581579205, 6.89222722955884, 6.973027087074554, 6.787509535047004, 6.800694916812157, 6.729295609398086, 6.867508741526898, 6.817606447385256, 6.261817957008407, 6.730353730975844, 6.233873674547805, 6.8483059475872, 6.625073193737819, 6.6366913617614856, 7.082213980749618, 6.56644101541065, 6.4831642089222825, 6.740427487389818, 6.379831924170013, 6.688867846150082, 6.473912613164454, 5.868349121955401, 5.943132170889569, 6.284892482563819, 6.223459568570446, 5.726859078736591, 6.094310481994999, 5.617234381879528, 6.273971314569125, 7.050516276427807, 6.235055606170393, 7.151520959807796, 5.6520739325542, 6.330410460468723, 5.727736957089482, 6.089536116894241, 5.841045803851738, 5.373821445569465, 5.4079163047475625, 6.223107497840151, 6.444813440497965, 5.794421901172914, 6.5106092241198645, 6.1211386397480645, 5.956290194275983, 5.808971058228071, 5.467286887606145, 5.743119793648955, 6.56109200619429, 6.037852894331496, 5.652517871125575, 6.6434450538028855, 6.0758382084172045, 5.705964711236998, 5.88853050257112, 6.335015569804586, 5.64931451606496, 5.797673292079502, 6.17700777917649, 5.461946101996426, 6.2177515352152515, 5.559271576957008, 5.737610503191673, 5.337514236109861, 4.65009380744535, 5.410858424473641, 5.527946714337642, 5.586045783003855, 5.581092260942977, 5.101377897317089, 5.419185179176673, 5.584889157300244, 4.63261737743485, 6.7779093966119515, 6.397518419885808, 5.274299356308822, 5.4004012547906335, 5.852536508766535, 5.3192690964157725, 5.724897191769062, 5.835036534899599, 4.818970164782533, 5.371587961713792, 6.107547472285929, 5.553005432024971, 4.511721422431224, 5.492797851945447, 5.41767447065829, 4.512625747638777, 5.125758127930899, 5.264239042425554, 5.296183029537092, 5.672606243654316, 5.526573597670196, 5.401975726633535, 4.140527638429269, 4.450415775344202, 5.567644882881746, 4.889354051560744, 4.928586781267569, 5.168335315230218, 4.683182095662325, 5.303021072955049, 5.768616403933476, 4.364815209422188, 4.810653717651958, 4.504425507059997, 5.384337490220835, 5.143098768690013, 5.60892577752993, 3.6437028407256284, 4.970610910042663, 5.198244847001706, 5.834608766103234, 5.1776314807798105, 4.003837176814997, 5.263614753841988, 5.329387073829956, 3.9306802165906785, 5.0490754659499455, 4.159829262811275, 4.829864524861853, 4.7291953888660885, 3.898182299278064, 4.393951296271021, 5.252470077773024, 4.978359537365485, 5.218415397525995, 3.478697749704539, 3.544544475247108, 5.247422398510043, 3.8186399636504365, 4.223828940996891, 4.280051855147281, 3.738065831688676, 4.666614635831731, 4.123973437196021, 4.099103316292409, 4.175168522338815, 3.8179367703229463, 3.8389200405048056, 4.187048860547711, 3.4576850949255373, 5.599701925227954, 4.303083590183869, 3.344079291698466, 3.864110818246692, 4.279715734824596, 4.8404857182650165, 4.058467383443576, 4.641384529373781, 3.4302106828616523, 3.236987266613771, 2.96114984809923, 6.796675715476894, 6.857134295361567, 7.0594178266605, 6.886862242680264, 6.801229162467559, 6.972178690913442, 6.838523580407617, 6.7711520017768105, 6.867088807170342, 6.740084171654367, 6.813566201891019, 6.278237580265985, 6.2691528930028895, 7.03242005957148, 6.478921504453989, 6.848420312705466, 6.620170121894905, 6.548053360603479, 6.474807117561019, 6.318061436735741, 6.825377997599388, 6.688745306303355, 5.92974053794142, 6.494877772840102, 6.210096223910488, 5.952116279091953, 5.65633437164428, 6.307353817872681, 7.0271284681155475, 6.302228628913118, 6.275760327451975, 5.676842736600447, 6.235081175231987, 7.203428785050727, 5.469397992221836, 5.997859155338963, 6.556616099554741, 5.970808773681929, 6.089849537944467, 6.248119834105205, 5.8057390389948385, 5.790362073830609, 5.873797131251771, 6.577739027491436, 5.402271899823443, 5.678953577911791, 6.066376636369274, 6.072800169588214, 6.344214121290554, 5.870354496539667, 6.570601439347524, 6.1357210935173, 5.656007575326909, 5.845581680917082, 6.303765421522417, 5.700629774547425, 6.063545649370312, 6.570105931935865, 5.482649131172339, 5.858395848838675, 5.523813438443064, 5.551161916810807, 5.720608647310901, 6.36835420041429, 5.823150011571627, 6.460643980421414, 4.752720341101795, 5.70133534272314, 5.6095753860046695, 5.502088360687691, 4.858384787724743, 5.632724138284293, 5.398495873046208, 4.893566544381776, 5.805738126619245, 6.747661490590801, 5.898771972054849, 5.259122520058888, 5.494467513597506, 6.255913210901697, 5.4050215055459, 5.439577210867039, 5.280434165700548, 5.593222829816041, 4.678803360951665, 5.237944714596242, 5.575941695034619, 4.986681927772638, 5.444004652808286, 5.6036830622524985, 5.287915556341382, 5.63126618756854, 6.106572583462411, 5.7210308172090585, 5.3324613603979145, 4.487248738606983, 5.636229319252445, 4.755390443266839, 4.331712897556608, 4.891615546266337, 5.454646903652829, 4.288292644748799, 4.844546131138403, 5.262375601674737, 5.401261944043866, 5.217365991419316, 5.671774898299484, 5.1039241224972045, 5.387260224139629, 4.696989248941451, 4.447434080280053, 4.07133424615569, 5.145408840673985, 3.8435563716198895, 3.9790843139836714, 5.252504080777703, 5.59779813489512, 4.207333176686989, 5.363275918726319, 4.284631081535984, 4.847016488453015, 4.013097348899009, 4.3464257164196916, 5.092488540878846, 5.294290204189133, 5.128817358404926, 3.66665203107493, 4.122802895482646, 3.8484700773517164, 5.813882424869176, 5.285857589502467, 3.6015442283312966, 4.891132810690557, 4.363041037355589, 4.290639725433278, 4.277492983303988, 5.039500856890992, 4.749335750056481, 4.023818320715849, 5.3260417982183, 3.9632996089471213, 3.804848461027281, 3.877878575018136, 4.163912280600687, 3.5227329761215582, 4.321771881084708, 3.5484886086741136, 5.552686957760393, 3.9033751050801513, 4.342902965526217, 3.7740707051526607, 4.954896339769751, 4.670175615732386, 3.4220283252422417, 3.1778258238024835, 3.306359001066511], \"y\": [7.587000000000001, 7.561, 7.527, 7.522, 7.4270000000000005, 7.406000000000001, 7.377999999999999, 7.364, 7.2860000000000005, 7.284, 7.278, 7.226, 7.2, 7.187, 7.119, 6.983, 6.946000000000001, 6.94, 6.937, 6.901, 6.867000000000001, 6.853, 6.81, 6.797999999999999, 6.7860000000000005, 6.75, 6.67, 6.611000000000001, 6.575, 6.574, 6.505, 6.485, 6.477, 6.455, 6.4110000000000005, 6.329, 6.3020000000000005, 6.297999999999999, 6.295, 6.269, 6.167999999999999, 6.13, 6.122999999999999, 6.002999999999999, 5.995, 5.987, 5.984, 5.975, 5.96, 5.9479999999999995, 5.89, 5.888999999999999, 5.877999999999999, 5.855, 5.848, 5.832999999999999, 5.827999999999999, 5.824, 5.813, 5.791, 5.77, 5.7589999999999995, 5.754, 5.716, 5.709, 5.695, 5.689, 5.605, 5.5889999999999995, 5.547999999999999, 5.477, 5.474, 5.428999999999999, 5.399, 5.36, 5.332000000000001, 5.2860000000000005, 5.268, 5.252999999999999, 5.212000000000001, 5.194, 5.192, 5.192, 5.14, 5.129, 5.124, 5.122999999999999, 5.102, 5.098, 5.073, 5.0569999999999995, 5.013, 5.007, 4.971, 4.959, 4.949, 4.898, 4.885, 4.876, 4.874, 4.867, 4.857, 4.8389999999999995, 4.8, 4.788, 4.7860000000000005, 4.739, 4.715, 4.694, 4.686, 4.681, 4.677, 4.6419999999999995, 4.633, 4.61, 4.571000000000001, 4.565, 4.55, 4.518, 4.5169999999999995, 4.513999999999999, 4.512, 4.507, 4.436, 4.419, 4.369, 4.35, 4.332, 4.3069999999999995, 4.297, 4.292, 4.271, 4.252, 4.218, 4.194, 4.077, 4.033, 3.995, 3.989, 3.9560000000000004, 3.931, 3.904, 3.8960000000000004, 3.845, 3.819, 3.781, 3.681, 3.678, 3.667, 3.656, 3.655, 3.5869999999999997, 3.575, 3.465, 3.34, 3.0060000000000002, 2.905, 2.839, 7.526, 7.5089999999999995, 7.501, 7.497999999999999, 7.412999999999999, 7.404, 7.3389999999999995, 7.334, 7.313, 7.291, 7.267, 7.119, 7.104, 7.087000000000001, 7.039, 6.994, 6.952000000000001, 6.928999999999999, 6.907, 6.871, 6.778, 6.739, 6.725, 6.705, 6.7010000000000005, 6.65, 6.596, 6.5729999999999995, 6.545, 6.4879999999999995, 6.481, 6.478, 6.474, 6.379, 6.379, 6.375, 6.361000000000001, 6.355, 6.324, 6.269, 6.239, 6.218, 6.167999999999999, 6.084, 6.077999999999999, 6.068, 6.005, 5.992000000000001, 5.987, 5.977, 5.976, 5.956, 5.921, 5.919, 5.897, 5.856, 5.835, 5.835, 5.822, 5.813, 5.8020000000000005, 5.771, 5.768, 5.742999999999999, 5.6579999999999995, 5.648, 5.615, 5.56, 5.546, 5.537999999999999, 5.528, 5.517, 5.51, 5.4879999999999995, 5.457999999999999, 5.44, 5.401, 5.388999999999999, 5.314, 5.303, 5.291, 5.279, 5.245, 5.196000000000001, 5.185, 5.1770000000000005, 5.162999999999999, 5.1610000000000005, 5.155, 5.151, 5.145, 5.132000000000001, 5.129, 5.122999999999999, 5.121, 5.061, 5.0569999999999995, 5.045, 5.033, 4.996, 4.907, 4.876, 4.875, 4.871, 4.813, 4.795, 4.793, 4.754, 4.655, 4.643, 4.635, 4.575, 4.574, 4.513, 4.508, 4.459, 4.415, 4.404, 4.395, 4.362, 4.36, 4.356, 4.324, 4.276, 4.272, 4.252, 4.236000000000001, 4.218999999999999, 4.217, 4.2010000000000005, 4.1930000000000005, 4.156000000000001, 4.138999999999999, 4.121, 4.073, 4.0280000000000005, 3.9739999999999998, 3.9560000000000004, 3.9160000000000004, 3.907, 3.866, 3.8560000000000003, 3.832, 3.763, 3.739, 3.739, 3.7239999999999998, 3.695, 3.6660000000000004, 3.622, 3.6069999999999998, 3.515, 3.484, 3.36, 3.303, 3.069, 2.905, 7.537000179, 7.521999836, 7.504000187000001, 7.493999958, 7.468999863, 7.376999855, 7.315999985, 7.31400013, 7.28399992, 7.28399992, 7.212999821, 7.078999996, 7.006000042, 6.993000031, 6.977000237, 6.951000214, 6.890999794, 6.862999916000001, 6.714000225, 6.65199995, 6.647999763, 6.635000229, 6.609000206, 6.598999977, 6.578000069, 6.5720000270000005, 6.52699995, 6.453999996, 6.453999996, 6.452000141, 6.441999912000001, 6.423999786, 6.421999931, 6.402999877999999, 6.375, 6.3569998739999996, 6.343999863, 6.168000221000001, 6.105000018999999, 6.09800005, 6.086999893, 6.084000111, 6.071000099, 6.007999897, 6.002999783, 5.97300005, 5.971000195, 5.964000225, 5.962999821, 5.9559998510000005, 5.920000076, 5.90199995, 5.872000217, 5.849999905, 5.837999821, 5.837999821, 5.8249998089999995, 5.822999954, 5.8220000270000005, 5.818999767, 5.809999942999999, 5.757999897, 5.715000152999999, 5.629000187000001, 5.620999812999999, 5.611000061, 5.568999767, 5.525000095, 5.5, 5.493000031, 5.472000122000001, 5.429999828, 5.394999981000001, 5.335999966, 5.323999882, 5.31099987, 5.293000221000001, 5.278999805, 5.2729997630000005, 5.269000053, 5.262000083999999, 5.25, 5.236999989, 5.235000134, 5.234000206, 5.230000018999999, 5.2270002369999995, 5.224999905, 5.195000172, 5.18200016, 5.181000233, 5.1750001910000005, 5.151000023, 5.073999882, 5.073999882, 5.040999889, 5.011000156000001, 5.004000187, 4.961999893, 4.954999924, 4.828999996, 4.804999828, 4.775000095, 4.735000134, 4.714000225, 4.709000111, 4.695000172, 4.691999912, 4.644000053, 4.607999802, 4.573999882, 4.552999973, 4.5500001910000005, 4.545000076, 4.534999847, 4.513999939, 4.497000217, 4.465000153, 4.460000038, 4.440000057, 4.375999928, 4.315000057, 4.291999817, 4.290999889, 4.285999775, 4.28000021, 4.190000057, 4.179999828, 4.168000221000001, 4.138999939, 4.1199998860000004, 4.096000195, 4.0809998510000005, 4.032000065, 4.027999878, 3.970000029, 3.9360001089999996, 3.875, 3.808000088, 3.7950000760000004, 3.79399991, 3.766000032, 3.657000065, 3.644000053, 3.6029999260000003, 3.592999935, 3.59100008, 3.5329999919999997, 3.5069999689999998, 3.4949998860000004, 3.4709999560000004, 3.461999893, 3.348999977, 2.904999971, 2.6930000780000003, 7.632000000000001, 7.593999999999999, 7.555, 7.495, 7.487, 7.441, 7.327999999999999, 7.324, 7.314, 7.272, 7.19, 7.138999999999999, 7.072, 6.977, 6.965, 6.9270000000000005, 6.91, 6.886, 6.814, 6.774, 6.711, 6.627000000000001, 6.489, 6.4879999999999995, 6.476, 6.441, 6.43, 6.419, 6.388, 6.382000000000001, 6.379, 6.374, 6.371, 6.343, 6.322, 6.31, 6.26, 6.192, 6.172999999999999, 6.167000000000001, 6.141, 6.122999999999999, 6.105, 6.096, 6.082999999999999, 6.072, 6.0, 5.973, 5.956, 5.952000000000001, 5.9479999999999995, 5.945, 5.933, 5.915, 5.891, 5.89, 5.875, 5.835, 5.81, 5.79, 5.7620000000000005, 5.752000000000001, 5.739, 5.681, 5.662999999999999, 5.662000000000001, 5.64, 5.636, 5.62, 5.566, 5.524, 5.504, 5.483, 5.483, 5.472, 5.43, 5.41, 5.398, 5.358, 5.358, 5.347, 5.321000000000001, 5.3020000000000005, 5.295, 5.254, 5.246, 5.2010000000000005, 5.199, 5.185, 5.1610000000000005, 5.155, 5.131, 5.129, 5.125, 5.103, 5.093, 5.082, 4.982, 4.975, 4.933, 4.88, 4.806, 4.758, 4.743, 4.724, 4.707, 4.671, 4.657, 4.631, 4.623, 4.592, 4.586, 4.571000000000001, 4.559, 4.5, 4.471, 4.456, 4.447, 4.441, 4.433, 4.4239999999999995, 4.419, 4.417, 4.41, 4.377, 4.356, 4.35, 4.34, 4.321000000000001, 4.308, 4.301, 4.245, 4.19, 4.166, 4.1610000000000005, 4.141, 4.138999999999999, 4.103, 3.9989999999999997, 3.964, 3.8080000000000003, 3.795, 3.7739999999999996, 3.6919999999999997, 3.6319999999999997, 3.59, 3.5869999999999997, 3.582, 3.495, 3.4619999999999997, 3.408, 3.355, 3.303, 3.2539999999999996, 3.083, 2.905, 7.769, 7.6, 7.553999999999999, 7.494, 7.4879999999999995, 7.48, 7.343, 7.307, 7.278, 7.246, 7.228, 7.167000000000001, 7.138999999999999, 7.09, 7.053999999999999, 7.021, 6.985, 6.922999999999999, 6.892, 6.852, 6.825, 6.726, 6.595, 6.5920000000000005, 6.446000000000001, 6.444, 6.436, 6.375, 6.374, 6.354, 6.321000000000001, 6.3, 6.292999999999999, 6.2620000000000005, 6.252999999999999, 6.223, 6.199, 6.1979999999999995, 6.192, 6.182, 6.1739999999999995, 6.149, 6.125, 6.117999999999999, 6.105, 6.1, 6.086, 6.07, 6.046, 6.028, 6.021, 6.007999999999999, 5.94, 5.895, 5.893, 5.89, 5.888, 5.886, 5.86, 5.809, 5.779, 5.757999999999999, 5.742999999999999, 5.718, 5.697, 5.693, 5.653, 5.648, 5.631, 5.603, 5.529, 5.525, 5.523, 5.4670000000000005, 5.432, 5.43, 5.425, 5.386, 5.372999999999999, 5.3389999999999995, 5.3229999999999995, 5.287000000000001, 5.285, 5.274, 5.265, 5.261, 5.247000000000001, 5.211, 5.207999999999999, 5.207999999999999, 5.197, 5.192, 5.191, 5.175, 5.082, 5.044, 5.011, 4.996, 4.944, 4.913, 4.906000000000001, 4.883, 4.812, 4.7989999999999995, 4.796, 4.7219999999999995, 4.718999999999999, 4.707, 4.7, 4.696000000000001, 4.681, 4.668, 4.638999999999999, 4.628, 4.587, 4.559, 4.548, 4.534, 4.519, 4.516, 4.5089999999999995, 4.49, 4.466, 4.461, 4.456, 4.437, 4.418, 4.39, 4.374, 4.3660000000000005, 4.36, 4.35, 4.332, 4.2860000000000005, 4.212, 4.189, 4.166, 4.107, 4.085, 4.015, 3.975, 3.9730000000000003, 3.9330000000000003, 3.802, 3.775, 3.6630000000000003, 3.597, 3.488, 3.4619999999999997, 3.41, 3.38, 3.3339999999999996, 3.2310000000000003, 3.2030000000000003, 3.083, 2.853]}],\n",
       "                        {\"template\": {\"data\": {\"bar\": [{\"error_x\": {\"color\": \"#2a3f5f\"}, \"error_y\": {\"color\": \"#2a3f5f\"}, \"marker\": {\"line\": {\"color\": \"#E5ECF6\", \"width\": 0.5}}, \"type\": \"bar\"}], \"barpolar\": [{\"marker\": {\"line\": {\"color\": \"#E5ECF6\", \"width\": 0.5}}, \"type\": \"barpolar\"}], \"carpet\": [{\"aaxis\": {\"endlinecolor\": \"#2a3f5f\", \"gridcolor\": \"white\", \"linecolor\": \"white\", \"minorgridcolor\": \"white\", \"startlinecolor\": \"#2a3f5f\"}, \"baxis\": {\"endlinecolor\": \"#2a3f5f\", \"gridcolor\": \"white\", \"linecolor\": \"white\", \"minorgridcolor\": \"white\", \"startlinecolor\": \"#2a3f5f\"}, \"type\": \"carpet\"}], \"choropleth\": [{\"colorbar\": {\"outlinewidth\": 0, \"ticks\": \"\"}, \"type\": \"choropleth\"}], \"contour\": [{\"colorbar\": {\"outlinewidth\": 0, \"ticks\": \"\"}, \"colorscale\": [[0.0, \"#0d0887\"], [0.1111111111111111, \"#46039f\"], [0.2222222222222222, \"#7201a8\"], [0.3333333333333333, \"#9c179e\"], [0.4444444444444444, \"#bd3786\"], [0.5555555555555556, \"#d8576b\"], [0.6666666666666666, \"#ed7953\"], [0.7777777777777778, \"#fb9f3a\"], [0.8888888888888888, \"#fdca26\"], [1.0, \"#f0f921\"]], \"type\": \"contour\"}], \"contourcarpet\": [{\"colorbar\": {\"outlinewidth\": 0, \"ticks\": \"\"}, \"type\": \"contourcarpet\"}], \"heatmap\": [{\"colorbar\": {\"outlinewidth\": 0, \"ticks\": \"\"}, \"colorscale\": [[0.0, \"#0d0887\"], [0.1111111111111111, \"#46039f\"], [0.2222222222222222, \"#7201a8\"], [0.3333333333333333, \"#9c179e\"], [0.4444444444444444, \"#bd3786\"], [0.5555555555555556, \"#d8576b\"], [0.6666666666666666, \"#ed7953\"], [0.7777777777777778, \"#fb9f3a\"], [0.8888888888888888, \"#fdca26\"], [1.0, \"#f0f921\"]], \"type\": \"heatmap\"}], \"heatmapgl\": [{\"colorbar\": {\"outlinewidth\": 0, \"ticks\": \"\"}, \"colorscale\": [[0.0, \"#0d0887\"], [0.1111111111111111, \"#46039f\"], [0.2222222222222222, \"#7201a8\"], [0.3333333333333333, \"#9c179e\"], [0.4444444444444444, \"#bd3786\"], [0.5555555555555556, \"#d8576b\"], [0.6666666666666666, \"#ed7953\"], [0.7777777777777778, \"#fb9f3a\"], [0.8888888888888888, \"#fdca26\"], [1.0, \"#f0f921\"]], \"type\": \"heatmapgl\"}], \"histogram\": [{\"marker\": {\"colorbar\": {\"outlinewidth\": 0, \"ticks\": \"\"}}, \"type\": \"histogram\"}], \"histogram2d\": [{\"colorbar\": {\"outlinewidth\": 0, \"ticks\": \"\"}, \"colorscale\": [[0.0, \"#0d0887\"], [0.1111111111111111, \"#46039f\"], [0.2222222222222222, \"#7201a8\"], [0.3333333333333333, \"#9c179e\"], [0.4444444444444444, \"#bd3786\"], [0.5555555555555556, \"#d8576b\"], [0.6666666666666666, \"#ed7953\"], [0.7777777777777778, \"#fb9f3a\"], [0.8888888888888888, \"#fdca26\"], [1.0, \"#f0f921\"]], \"type\": \"histogram2d\"}], \"histogram2dcontour\": [{\"colorbar\": {\"outlinewidth\": 0, \"ticks\": \"\"}, \"colorscale\": [[0.0, \"#0d0887\"], [0.1111111111111111, \"#46039f\"], [0.2222222222222222, \"#7201a8\"], [0.3333333333333333, \"#9c179e\"], [0.4444444444444444, \"#bd3786\"], [0.5555555555555556, \"#d8576b\"], [0.6666666666666666, \"#ed7953\"], [0.7777777777777778, \"#fb9f3a\"], [0.8888888888888888, \"#fdca26\"], [1.0, \"#f0f921\"]], \"type\": \"histogram2dcontour\"}], \"mesh3d\": [{\"colorbar\": {\"outlinewidth\": 0, \"ticks\": \"\"}, \"type\": \"mesh3d\"}], \"parcoords\": [{\"line\": {\"colorbar\": {\"outlinewidth\": 0, \"ticks\": \"\"}}, \"type\": \"parcoords\"}], \"pie\": [{\"automargin\": true, \"type\": \"pie\"}], \"scatter\": [{\"marker\": {\"colorbar\": {\"outlinewidth\": 0, \"ticks\": \"\"}}, \"type\": \"scatter\"}], \"scatter3d\": [{\"line\": {\"colorbar\": {\"outlinewidth\": 0, \"ticks\": \"\"}}, \"marker\": {\"colorbar\": {\"outlinewidth\": 0, \"ticks\": \"\"}}, \"type\": \"scatter3d\"}], \"scattercarpet\": [{\"marker\": {\"colorbar\": {\"outlinewidth\": 0, \"ticks\": \"\"}}, \"type\": \"scattercarpet\"}], \"scattergeo\": [{\"marker\": {\"colorbar\": {\"outlinewidth\": 0, \"ticks\": \"\"}}, \"type\": \"scattergeo\"}], \"scattergl\": [{\"marker\": {\"colorbar\": {\"outlinewidth\": 0, \"ticks\": \"\"}}, \"type\": \"scattergl\"}], \"scattermapbox\": [{\"marker\": {\"colorbar\": {\"outlinewidth\": 0, \"ticks\": \"\"}}, \"type\": \"scattermapbox\"}], \"scatterpolar\": [{\"marker\": {\"colorbar\": {\"outlinewidth\": 0, \"ticks\": \"\"}}, \"type\": \"scatterpolar\"}], \"scatterpolargl\": [{\"marker\": {\"colorbar\": {\"outlinewidth\": 0, \"ticks\": \"\"}}, \"type\": \"scatterpolargl\"}], \"scatterternary\": [{\"marker\": {\"colorbar\": {\"outlinewidth\": 0, \"ticks\": \"\"}}, \"type\": \"scatterternary\"}], \"surface\": [{\"colorbar\": {\"outlinewidth\": 0, \"ticks\": \"\"}, \"colorscale\": [[0.0, \"#0d0887\"], [0.1111111111111111, \"#46039f\"], [0.2222222222222222, \"#7201a8\"], [0.3333333333333333, \"#9c179e\"], [0.4444444444444444, \"#bd3786\"], [0.5555555555555556, \"#d8576b\"], [0.6666666666666666, \"#ed7953\"], [0.7777777777777778, \"#fb9f3a\"], [0.8888888888888888, \"#fdca26\"], [1.0, \"#f0f921\"]], \"type\": \"surface\"}], \"table\": [{\"cells\": {\"fill\": {\"color\": \"#EBF0F8\"}, \"line\": {\"color\": \"white\"}}, \"header\": {\"fill\": {\"color\": \"#C8D4E3\"}, \"line\": {\"color\": \"white\"}}, \"type\": \"table\"}]}, \"layout\": {\"annotationdefaults\": {\"arrowcolor\": \"#2a3f5f\", \"arrowhead\": 0, \"arrowwidth\": 1}, \"coloraxis\": {\"colorbar\": {\"outlinewidth\": 0, \"ticks\": \"\"}}, \"colorscale\": {\"diverging\": [[0, \"#8e0152\"], [0.1, \"#c51b7d\"], [0.2, \"#de77ae\"], [0.3, \"#f1b6da\"], [0.4, \"#fde0ef\"], [0.5, \"#f7f7f7\"], [0.6, \"#e6f5d0\"], [0.7, \"#b8e186\"], [0.8, \"#7fbc41\"], [0.9, \"#4d9221\"], [1, \"#276419\"]], \"sequential\": [[0.0, \"#0d0887\"], [0.1111111111111111, \"#46039f\"], [0.2222222222222222, \"#7201a8\"], [0.3333333333333333, \"#9c179e\"], [0.4444444444444444, \"#bd3786\"], [0.5555555555555556, \"#d8576b\"], [0.6666666666666666, \"#ed7953\"], [0.7777777777777778, \"#fb9f3a\"], [0.8888888888888888, \"#fdca26\"], [1.0, \"#f0f921\"]], \"sequentialminus\": [[0.0, \"#0d0887\"], [0.1111111111111111, \"#46039f\"], [0.2222222222222222, \"#7201a8\"], [0.3333333333333333, \"#9c179e\"], [0.4444444444444444, \"#bd3786\"], [0.5555555555555556, \"#d8576b\"], [0.6666666666666666, \"#ed7953\"], [0.7777777777777778, \"#fb9f3a\"], [0.8888888888888888, \"#fdca26\"], [1.0, \"#f0f921\"]]}, \"colorway\": [\"#636efa\", \"#EF553B\", \"#00cc96\", \"#ab63fa\", \"#FFA15A\", \"#19d3f3\", \"#FF6692\", \"#B6E880\", \"#FF97FF\", \"#FECB52\"], \"font\": {\"color\": \"#2a3f5f\"}, \"geo\": {\"bgcolor\": \"white\", \"lakecolor\": \"white\", \"landcolor\": \"#E5ECF6\", \"showlakes\": true, \"showland\": true, \"subunitcolor\": \"white\"}, \"hoverlabel\": {\"align\": \"left\"}, \"hovermode\": \"closest\", \"mapbox\": {\"style\": \"light\"}, \"paper_bgcolor\": \"white\", \"plot_bgcolor\": \"#E5ECF6\", \"polar\": {\"angularaxis\": {\"gridcolor\": \"white\", \"linecolor\": \"white\", \"ticks\": \"\"}, \"bgcolor\": \"#E5ECF6\", \"radialaxis\": {\"gridcolor\": \"white\", \"linecolor\": \"white\", \"ticks\": \"\"}}, \"scene\": {\"xaxis\": {\"backgroundcolor\": \"#E5ECF6\", \"gridcolor\": \"white\", \"gridwidth\": 2, \"linecolor\": \"white\", \"showbackground\": true, \"ticks\": \"\", \"zerolinecolor\": \"white\"}, \"yaxis\": {\"backgroundcolor\": \"#E5ECF6\", \"gridcolor\": \"white\", \"gridwidth\": 2, \"linecolor\": \"white\", \"showbackground\": true, \"ticks\": \"\", \"zerolinecolor\": \"white\"}, \"zaxis\": {\"backgroundcolor\": \"#E5ECF6\", \"gridcolor\": \"white\", \"gridwidth\": 2, \"linecolor\": \"white\", \"showbackground\": true, \"ticks\": \"\", \"zerolinecolor\": \"white\"}}, \"shapedefaults\": {\"line\": {\"color\": \"#2a3f5f\"}}, \"ternary\": {\"aaxis\": {\"gridcolor\": \"white\", \"linecolor\": \"white\", \"ticks\": \"\"}, \"baxis\": {\"gridcolor\": \"white\", \"linecolor\": \"white\", \"ticks\": \"\"}, \"bgcolor\": \"#E5ECF6\", \"caxis\": {\"gridcolor\": \"white\", \"linecolor\": \"white\", \"ticks\": \"\"}}, \"title\": {\"x\": 0.05}, \"xaxis\": {\"automargin\": true, \"gridcolor\": \"white\", \"linecolor\": \"white\", \"ticks\": \"\", \"title\": {\"standoff\": 15}, \"zerolinecolor\": \"white\", \"zerolinewidth\": 2}, \"yaxis\": {\"automargin\": true, \"gridcolor\": \"white\", \"linecolor\": \"white\", \"ticks\": \"\", \"title\": {\"standoff\": 15}, \"zerolinecolor\": \"white\", \"zerolinewidth\": 2}}}, \"title\": {\"text\": \"Happiness Stuff\"}, \"xaxis\": {\"title\": {\"text\": \"Happiness Score\"}}, \"yaxis\": {\"title\": {\"text\": \"Predicted Happiness Score\"}}},\n",
       "                        {\"responsive\": true}\n",
       "                    ).then(function(){\n",
       "                            \n",
       "var gd = document.getElementById('512ea888-21d5-46ba-9fda-67b1eedece9c');\n",
       "var x = new MutationObserver(function (mutations, observer) {{\n",
       "        var display = window.getComputedStyle(gd).display;\n",
       "        if (!display || display === 'none') {{\n",
       "            console.log([gd, 'removed!']);\n",
       "            Plotly.purge(gd);\n",
       "            observer.disconnect();\n",
       "        }}\n",
       "}});\n",
       "\n",
       "// Listen for the removal of the full notebook cells\n",
       "var notebookContainer = gd.closest('#notebook-container');\n",
       "if (notebookContainer) {{\n",
       "    x.observe(notebookContainer, {childList: true});\n",
       "}}\n",
       "\n",
       "// Listen for the clearing of the current output cell\n",
       "var outputEl = gd.closest('.output');\n",
       "if (outputEl) {{\n",
       "    x.observe(outputEl, {childList: true});\n",
       "}}\n",
       "\n",
       "                        })\n",
       "                };\n",
       "                });\n",
       "            </script>\n",
       "        </div>"
      ]
     },
     "metadata": {},
     "output_type": "display_data"
    }
   ],
   "source": [
    "trace = go.Scatter(\n",
    "    x= lm.predict(X),\n",
    "    y= New_df.Happiness_Score,\n",
    "    mode = 'markers'\n",
    ")\n",
    "\n",
    "data = [trace]\n",
    "layout = go.Layout(\n",
    "title = 'Happiness Stuff',\n",
    "xaxis=dict(\n",
    "    title = 'Happiness Score')\n",
    "    ,\n",
    "yaxis = dict(\n",
    "title='Predicted Happiness Score')\n",
    "    )\n",
    "fig = go.Figure(data=data, layout=layout)\n",
    "iplot(fig)"
   ]
  },
  {
   "cell_type": "code",
   "execution_count": null,
   "metadata": {},
   "outputs": [],
   "source": []
  },
  {
   "cell_type": "code",
   "execution_count": null,
   "metadata": {},
   "outputs": [],
   "source": [
    "#lm3 = LinearRegression()\n",
    "#lm3.fit(X[['Family']], New_df.Happiness_Score)"
   ]
  },
  {
   "cell_type": "code",
   "execution_count": 34,
   "metadata": {},
   "outputs": [
    {
     "name": "stdout",
     "output_type": "stream",
     "text": [
      "0.33062472367785894\n"
     ]
    }
   ],
   "source": [
    "msehappy = np.mean((New_df.Happiness_Score - lm.predict(X)) **2)\n",
    "print(msehappy)"
   ]
  },
  {
   "cell_type": "code",
   "execution_count": 35,
   "metadata": {},
   "outputs": [
    {
     "data": {
      "text/html": [
       "<div>\n",
       "<style scoped>\n",
       "    .dataframe tbody tr th:only-of-type {\n",
       "        vertical-align: middle;\n",
       "    }\n",
       "\n",
       "    .dataframe tbody tr th {\n",
       "        vertical-align: top;\n",
       "    }\n",
       "\n",
       "    .dataframe thead th {\n",
       "        text-align: right;\n",
       "    }\n",
       "</style>\n",
       "<table border=\"1\" class=\"dataframe\">\n",
       "  <thead>\n",
       "    <tr style=\"text-align: right;\">\n",
       "      <th></th>\n",
       "      <th>Freedom</th>\n",
       "      <th>GDP</th>\n",
       "      <th>Generosity</th>\n",
       "      <th>Government_Corruption</th>\n",
       "      <th>Happiness_Rank</th>\n",
       "      <th>Happiness_Score</th>\n",
       "      <th>Life_Expectancy</th>\n",
       "      <th>Social_Support</th>\n",
       "      <th>Year</th>\n",
       "    </tr>\n",
       "  </thead>\n",
       "  <tbody>\n",
       "    <tr>\n",
       "      <td>count</td>\n",
       "      <td>782.000000</td>\n",
       "      <td>782.000000</td>\n",
       "      <td>782.000000</td>\n",
       "      <td>782.000000</td>\n",
       "      <td>782.000000</td>\n",
       "      <td>782.000000</td>\n",
       "      <td>782.000000</td>\n",
       "      <td>782.000000</td>\n",
       "      <td>782.000000</td>\n",
       "    </tr>\n",
       "    <tr>\n",
       "      <td>mean</td>\n",
       "      <td>0.411091</td>\n",
       "      <td>0.916047</td>\n",
       "      <td>0.218576</td>\n",
       "      <td>0.125275</td>\n",
       "      <td>78.698210</td>\n",
       "      <td>5.379018</td>\n",
       "      <td>0.612416</td>\n",
       "      <td>1.078392</td>\n",
       "      <td>2016.993606</td>\n",
       "    </tr>\n",
       "    <tr>\n",
       "      <td>std</td>\n",
       "      <td>0.152880</td>\n",
       "      <td>0.407340</td>\n",
       "      <td>0.122321</td>\n",
       "      <td>0.105844</td>\n",
       "      <td>45.182384</td>\n",
       "      <td>1.127456</td>\n",
       "      <td>0.248309</td>\n",
       "      <td>0.329548</td>\n",
       "      <td>1.417364</td>\n",
       "    </tr>\n",
       "    <tr>\n",
       "      <td>min</td>\n",
       "      <td>0.000000</td>\n",
       "      <td>0.000000</td>\n",
       "      <td>0.000000</td>\n",
       "      <td>0.000000</td>\n",
       "      <td>1.000000</td>\n",
       "      <td>2.693000</td>\n",
       "      <td>0.000000</td>\n",
       "      <td>0.000000</td>\n",
       "      <td>2015.000000</td>\n",
       "    </tr>\n",
       "    <tr>\n",
       "      <td>25%</td>\n",
       "      <td>0.309768</td>\n",
       "      <td>0.606500</td>\n",
       "      <td>0.130000</td>\n",
       "      <td>0.054000</td>\n",
       "      <td>40.000000</td>\n",
       "      <td>4.509750</td>\n",
       "      <td>0.440183</td>\n",
       "      <td>0.869363</td>\n",
       "      <td>2016.000000</td>\n",
       "    </tr>\n",
       "    <tr>\n",
       "      <td>50%</td>\n",
       "      <td>0.431000</td>\n",
       "      <td>0.982205</td>\n",
       "      <td>0.201982</td>\n",
       "      <td>0.090905</td>\n",
       "      <td>79.000000</td>\n",
       "      <td>5.322000</td>\n",
       "      <td>0.647310</td>\n",
       "      <td>1.124735</td>\n",
       "      <td>2017.000000</td>\n",
       "    </tr>\n",
       "    <tr>\n",
       "      <td>75%</td>\n",
       "      <td>0.531000</td>\n",
       "      <td>1.236187</td>\n",
       "      <td>0.278832</td>\n",
       "      <td>0.155861</td>\n",
       "      <td>118.000000</td>\n",
       "      <td>6.189500</td>\n",
       "      <td>0.808000</td>\n",
       "      <td>1.327250</td>\n",
       "      <td>2018.000000</td>\n",
       "    </tr>\n",
       "    <tr>\n",
       "      <td>max</td>\n",
       "      <td>0.724000</td>\n",
       "      <td>2.096000</td>\n",
       "      <td>0.838075</td>\n",
       "      <td>0.551910</td>\n",
       "      <td>158.000000</td>\n",
       "      <td>7.769000</td>\n",
       "      <td>1.141000</td>\n",
       "      <td>1.644000</td>\n",
       "      <td>2019.000000</td>\n",
       "    </tr>\n",
       "  </tbody>\n",
       "</table>\n",
       "</div>"
      ],
      "text/plain": [
       "          Freedom         GDP  Generosity  Government_Corruption  \\\n",
       "count  782.000000  782.000000  782.000000             782.000000   \n",
       "mean     0.411091    0.916047    0.218576               0.125275   \n",
       "std      0.152880    0.407340    0.122321               0.105844   \n",
       "min      0.000000    0.000000    0.000000               0.000000   \n",
       "25%      0.309768    0.606500    0.130000               0.054000   \n",
       "50%      0.431000    0.982205    0.201982               0.090905   \n",
       "75%      0.531000    1.236187    0.278832               0.155861   \n",
       "max      0.724000    2.096000    0.838075               0.551910   \n",
       "\n",
       "       Happiness_Rank  Happiness_Score  Life_Expectancy  Social_Support  \\\n",
       "count      782.000000       782.000000       782.000000      782.000000   \n",
       "mean        78.698210         5.379018         0.612416        1.078392   \n",
       "std         45.182384         1.127456         0.248309        0.329548   \n",
       "min          1.000000         2.693000         0.000000        0.000000   \n",
       "25%         40.000000         4.509750         0.440183        0.869363   \n",
       "50%         79.000000         5.322000         0.647310        1.124735   \n",
       "75%        118.000000         6.189500         0.808000        1.327250   \n",
       "max        158.000000         7.769000         1.141000        1.644000   \n",
       "\n",
       "              Year  \n",
       "count   782.000000  \n",
       "mean   2016.993606  \n",
       "std       1.417364  \n",
       "min    2015.000000  \n",
       "25%    2016.000000  \n",
       "50%    2017.000000  \n",
       "75%    2018.000000  \n",
       "max    2019.000000  "
      ]
     },
     "execution_count": 35,
     "metadata": {},
     "output_type": "execute_result"
    }
   ],
   "source": [
    "YR2015_2019.describe()"
   ]
  },
  {
   "cell_type": "code",
   "execution_count": 36,
   "metadata": {},
   "outputs": [],
   "source": [
    "YR2015_2019.to_csv(\"YR2015_2019Final.csv\", encoding='utf-8', index=False)"
   ]
  },
  {
   "cell_type": "code",
   "execution_count": 37,
   "metadata": {},
   "outputs": [],
   "source": [
    "import os\n",
    "import statsmodels.formula.api as stats\n",
    "from statsmodels.formula.api import ols\n",
    "import sklearn\n",
    "from sklearn import linear_model, datasets\n",
    "from sklearn.metrics import mean_squared_error"
   ]
  },
  {
   "cell_type": "code",
   "execution_count": 38,
   "metadata": {},
   "outputs": [],
   "source": [
    "X = YR2015_2019[\"Generosity\"].values.reshape(-1, 1)\n",
    "y = YR2015_2019.Happiness_Rank.values.reshape(-1, 1)"
   ]
  },
  {
   "cell_type": "code",
   "execution_count": 39,
   "metadata": {},
   "outputs": [
    {
     "data": {
      "text/plain": [
       "<matplotlib.collections.PathCollection at 0x2342a65adc8>"
      ]
     },
     "execution_count": 39,
     "metadata": {},
     "output_type": "execute_result"
    },
    {
     "data": {
      "image/png": "[encoded data removed]",
      "text/plain": [
       "<Figure size 432x288 with 1 Axes>"
      ]
     },
     "metadata": {
      "needs_background": "light"
     },
     "output_type": "display_data"
    }
   ],
   "source": [
    "plt.scatter(X, y)"
   ]
  },
  {
   "cell_type": "code",
   "execution_count": 40,
   "metadata": {},
   "outputs": [
    {
     "data": {
      "text/plain": [
       "[<matplotlib.lines.Line2D at 0x2342a6d4c48>]"
      ]
     },
     "execution_count": 40,
     "metadata": {},
     "output_type": "execute_result"
    },
    {
     "data": {
      "image/png": "[encoded data removed]",
      "text/plain": [
       "<Figure size 432x288 with 1 Axes>"
      ]
     },
     "metadata": {
      "needs_background": "light"
     },
     "output_type": "display_data"
    }
   ],
   "source": [
    "X = YR2015_2019[\"Happiness_Rank\"].values.reshape(-1, 1)\n",
    "y = YR2015_2019.GDP.values.reshape(-1, 1)\n",
    "\n",
    "from sklearn.linear_model import LinearRegression\n",
    "modelLR = LinearRegression()\n",
    "modelLR.fit(X, y)\n",
    "x_min = np.array([[X.min()]])\n",
    "x_max = np.array([[X.max()]])\n",
    "\n",
    "y_min = modelLR.predict(x_min)\n",
    "y_max = modelLR.predict(x_max)\n",
    "\n",
    "plt.scatter(X, y, c='blue')\n",
    "plt.plot([x_min[0], x_max[0]], [y_min[0], y_max[0]], c='red')\n"
   ]
  },
  {
   "cell_type": "code",
   "execution_count": 41,
   "metadata": {},
   "outputs": [
    {
     "data": {
      "text/plain": [
       "[<matplotlib.lines.Line2D at 0x2342a712f08>]"
      ]
     },
     "execution_count": 41,
     "metadata": {},
     "output_type": "execute_result"
    },
    {
     "data": {
      "image/png": "[encoded data removed]",
      "text/plain": [
       "<Figure size 432x288 with 1 Axes>"
      ]
     },
     "metadata": {
      "needs_background": "light"
     },
     "output_type": "display_data"
    }
   ],
   "source": [
    "X = YR2015_2019[\"GDP\"].values.reshape(-1, 1)\n",
    "y = YR2015_2019.Happiness_Rank.values.reshape(-1, 1)\n",
    "\n",
    "from sklearn.linear_model import LinearRegression\n",
    "modelLR = LinearRegression()\n",
    "modelLR.fit(X, y)\n",
    "x_min = np.array([[X.min()]])\n",
    "x_max = np.array([[X.max()]])\n",
    "\n",
    "y_min = modelLR.predict(x_min)\n",
    "y_max = modelLR.predict(x_max)\n",
    "\n",
    "plt.scatter(X, y, c='blue')\n",
    "plt.plot([x_min[0], x_max[0]], [y_min[0], y_max[0]], c='red')\n"
   ]
  },
  {
   "cell_type": "code",
   "execution_count": 42,
   "metadata": {},
   "outputs": [
    {
     "data": {
      "text/plain": [
       "[<matplotlib.lines.Line2D at 0x2342a734a08>]"
      ]
     },
     "execution_count": 42,
     "metadata": {},
     "output_type": "execute_result"
    },
    {
     "data": {
      "image/png": "[encoded data removed]",
      "text/plain": [
       "<Figure size 432x288 with 1 Axes>"
      ]
     },
     "metadata": {
      "needs_background": "light"
     },
     "output_type": "display_data"
    }
   ],
   "source": [
    "X = YR2015_2019[\"Government_Corruption\"].values.reshape(-1, 1)\n",
    "y = YR2015_2019.Happiness_Rank.values.reshape(-1, 1)\n",
    "\n",
    "from sklearn.linear_model import LinearRegression\n",
    "modelLR = LinearRegression()\n",
    "modelLR.fit(X, y)\n",
    "x_min = np.array([[X.min()]])\n",
    "x_max = np.array([[X.max()]])\n",
    "\n",
    "y_min = modelLR.predict(x_min)\n",
    "y_max = modelLR.predict(x_max)\n",
    "\n",
    "plt.scatter(X, y, c='blue')\n",
    "plt.plot([x_min[0], x_max[0]], [y_min[0], y_max[0]], c='red')"
   ]
  },
  {
   "cell_type": "code",
   "execution_count": 43,
   "metadata": {},
   "outputs": [
    {
     "data": {
      "text/plain": [
       "[<matplotlib.lines.Line2D at 0x2342a734788>]"
      ]
     },
     "execution_count": 43,
     "metadata": {},
     "output_type": "execute_result"
    },
    {
     "data": {
      "image/png": "[encoded data removed]",
      "text/plain": [
       "<Figure size 432x288 with 1 Axes>"
      ]
     },
     "metadata": {
      "needs_background": "light"
     },
     "output_type": "display_data"
    }
   ],
   "source": [
    "X = YR2015_2019[\"Government_Corruption\"].values.reshape(-1, 1)\n",
    "y = YR2015_2019.Happiness_Rank.values.reshape(-1, 1)\n",
    "\n",
    "from sklearn.linear_model import LinearRegression\n",
    "modelLR = LinearRegression()\n",
    "modelLR.fit(X, y)\n",
    "x_min = np.array([[X.min()]])\n",
    "x_max = np.array([[X.max()]])\n",
    "\n",
    "y_min = modelLR.predict(x_min)\n",
    "y_max = modelLR.predict(x_max)\n",
    "\n",
    "plt.scatter(X, y, c='blue')\n",
    "plt.plot([x_min[0], x_max[0]], [y_min[0], y_max[0]], c='red')"
   ]
  },
  {
   "cell_type": "code",
   "execution_count": 44,
   "metadata": {},
   "outputs": [
    {
     "data": {
      "text/plain": [
       "LinearRegression(copy_X=True, fit_intercept=True, n_jobs=None, normalize=False)"
      ]
     },
     "execution_count": 44,
     "metadata": {},
     "output_type": "execute_result"
    }
   ],
   "source": [
    "from sklearn.linear_model import LinearRegression\n",
    "modelLR = LinearRegression()\n",
    "modelLR.fit(X, y)\n"
   ]
  },
  {
   "cell_type": "code",
   "execution_count": 45,
   "metadata": {},
   "outputs": [
    {
     "name": "stdout",
     "output_type": "stream",
     "text": [
      "Generosity:  [[-157.97526557]]\n",
      "y-axis intercept:  [98.48859428]\n"
     ]
    }
   ],
   "source": [
    "print('Generosity: ', modelLR.coef_)\n",
    "print('y-axis intercept: ', modelLR.intercept_)"
   ]
  },
  {
   "cell_type": "code",
   "execution_count": 46,
   "metadata": {},
   "outputs": [
    {
     "name": "stdout",
     "output_type": "stream",
     "text": [
      "Min X Value: [[0.]]\n",
      "Max X Value: [[0.55191]]\n"
     ]
    }
   ],
   "source": [
    "# Note: we have to transform our min and max values \n",
    "# so they are in the format: array([[ 1.17]])\n",
    "# This is the required format for `model.predict()`\n",
    "\n",
    "x_min = np.array([[X.min()]])\n",
    "x_max = np.array([[X.max()]])\n",
    "print(f\"Min X Value: {x_min}\")\n",
    "print(f\"Max X Value: {x_max}\")"
   ]
  },
  {
   "cell_type": "code",
   "execution_count": 47,
   "metadata": {},
   "outputs": [],
   "source": [
    "# Calculate the y_min and y_max using model.predict and x_min and x_max\n",
    "\n",
    "### BEGIN SOLUTION\n",
    "y_min = modelLR.predict(x_min)\n",
    "y_max = modelLR.predict(x_max)"
   ]
  },
  {
   "cell_type": "code",
   "execution_count": 48,
   "metadata": {},
   "outputs": [
    {
     "data": {
      "text/plain": [
       "[<matplotlib.lines.Line2D at 0x2342a8148c8>]"
      ]
     },
     "execution_count": 48,
     "metadata": {},
     "output_type": "execute_result"
    },
    {
     "data": {
      "image/png": "[encoded data removed]",
      "text/plain": [
       "<Figure size 432x288 with 1 Axes>"
      ]
     },
     "metadata": {
      "needs_background": "light"
     },
     "output_type": "display_data"
    }
   ],
   "source": [
    "#What is this?!?!?!\n",
    "plt.scatter(X, y, c='blue')\n",
    "plt.plot([x_min[0], x_max[0]], [y_min[0], y_max[0]], c='red')"
   ]
  },
  {
   "cell_type": "code",
   "execution_count": 49,
   "metadata": {},
   "outputs": [],
   "source": [
    "#10 data viz Vs Happiness_Rank"
   ]
  },
  {
   "cell_type": "code",
   "execution_count": 50,
   "metadata": {},
   "outputs": [
    {
     "data": {
      "text/plain": [
       "[<matplotlib.lines.Line2D at 0x2342a89ff88>]"
      ]
     },
     "execution_count": 50,
     "metadata": {},
     "output_type": "execute_result"
    },
    {
     "data": {
      "image/png": "[encoded data removed]",
      "text/plain": [
       "<Figure size 432x288 with 1 Axes>"
      ]
     },
     "metadata": {
      "needs_background": "light"
     },
     "output_type": "display_data"
    }
   ],
   "source": [
    "X = YR2015_2019[\"Happiness_Rank\"].values.reshape(-1, 1)\n",
    "y = YR2015_2019.Freedom.values.reshape(-1, 1)\n",
    "\n",
    "from sklearn.linear_model import LinearRegression\n",
    "modelLR = LinearRegression()\n",
    "modelLR.fit(X, y)\n",
    "x_min = np.array([[X.min()]])\n",
    "x_max = np.array([[X.max()]])\n",
    "\n",
    "y_min = modelLR.predict(x_min)\n",
    "y_max = modelLR.predict(x_max)\n",
    "\n",
    "plt.scatter(X, y, c='blue')\n",
    "plt.plot([x_min[0], x_max[0]], [y_min[0], y_max[0]], c='red')"
   ]
  },
  {
   "cell_type": "code",
   "execution_count": 51,
   "metadata": {},
   "outputs": [
    {
     "data": {
      "text/plain": [
       "[<matplotlib.lines.Line2D at 0x2342a820588>]"
      ]
     },
     "execution_count": 51,
     "metadata": {},
     "output_type": "execute_result"
    },
    {
     "data": {
      "image/png": "[encoded data removed]",
      "text/plain": [
       "<Figure size 432x288 with 1 Axes>"
      ]
     },
     "metadata": {
      "needs_background": "light"
     },
     "output_type": "display_data"
    }
   ],
   "source": [
    "X = YR2015_2019[\"Happiness_Rank\"].values.reshape(-1, 1)\n",
    "y = YR2015_2019.GDP.values.reshape(-1, 1)\n",
    "\n",
    "from sklearn.linear_model import LinearRegression\n",
    "modelLR = LinearRegression()\n",
    "modelLR.fit(X, y)\n",
    "x_min = np.array([[X.min()]])\n",
    "x_max = np.array([[X.max()]])\n",
    "\n",
    "y_min = modelLR.predict(x_min)\n",
    "y_max = modelLR.predict(x_max)\n",
    "\n",
    "plt.scatter(X, y, c='blue')\n",
    "plt.plot([x_min[0], x_max[0]], [y_min[0], y_max[0]], c='red')"
   ]
  },
  {
   "cell_type": "code",
   "execution_count": 52,
   "metadata": {},
   "outputs": [
    {
     "data": {
      "text/plain": [
       "[<matplotlib.lines.Line2D at 0x2342a977c08>]"
      ]
     },
     "execution_count": 52,
     "metadata": {},
     "output_type": "execute_result"
    },
    {
     "data": {
      "image/png": "[encoded data removed]",
      "text/plain": [
       "<Figure size 432x288 with 1 Axes>"
      ]
     },
     "metadata": {
      "needs_background": "light"
     },
     "output_type": "display_data"
    }
   ],
   "source": [
    "X = YR2015_2019[\"Happiness_Rank\"].values.reshape(-1, 1)\n",
    "y = YR2015_2019.Generosity.values.reshape(-1, 1)\n",
    "\n",
    "from sklearn.linear_model import LinearRegression\n",
    "modelLR = LinearRegression()\n",
    "modelLR.fit(X, y)\n",
    "x_min = np.array([[X.min()]])\n",
    "x_max = np.array([[X.max()]])\n",
    "\n",
    "y_min = modelLR.predict(x_min)\n",
    "y_max = modelLR.predict(x_max)\n",
    "\n",
    "plt.scatter(X, y, c='blue')\n",
    "plt.plot([x_min[0], x_max[0]], [y_min[0], y_max[0]], c='red')"
   ]
  },
  {
   "cell_type": "code",
   "execution_count": 53,
   "metadata": {},
   "outputs": [
    {
     "data": {
      "text/plain": [
       "[<matplotlib.lines.Line2D at 0x2342a94bd48>]"
      ]
     },
     "execution_count": 53,
     "metadata": {},
     "output_type": "execute_result"
    },
    {
     "data": {
      "image/png": "[encoded data removed]",
      "text/plain": [
       "<Figure size 432x288 with 1 Axes>"
      ]
     },
     "metadata": {
      "needs_background": "light"
     },
     "output_type": "display_data"
    }
   ],
   "source": [
    "X = YR2015_2019[\"Happiness_Rank\"].values.reshape(-1, 1)\n",
    "y = YR2015_2019.Government_Corruption.values.reshape(-1, 1)\n",
    "\n",
    "from sklearn.linear_model import LinearRegression\n",
    "modelLR = LinearRegression()\n",
    "modelLR.fit(X, y)\n",
    "x_min = np.array([[X.min()]])\n",
    "x_max = np.array([[X.max()]])\n",
    "\n",
    "y_min = modelLR.predict(x_min)\n",
    "y_max = modelLR.predict(x_max)\n",
    "\n",
    "plt.scatter(X, y, c='blue')\n",
    "plt.plot([x_min[0], x_max[0]], [y_min[0], y_max[0]], c='red')"
   ]
  },
  {
   "cell_type": "code",
   "execution_count": 54,
   "metadata": {},
   "outputs": [
    {
     "data": {
      "text/plain": [
       "[<matplotlib.lines.Line2D at 0x2342a9c20c8>]"
      ]
     },
     "execution_count": 54,
     "metadata": {},
     "output_type": "execute_result"
    },
    {
     "data": {
      "image/png": "[encoded data removed]",
      "text/plain": [
       "<Figure size 432x288 with 1 Axes>"
      ]
     },
     "metadata": {
      "needs_background": "light"
     },
     "output_type": "display_data"
    }
   ],
   "source": [
    "X = YR2015_2019[\"Happiness_Rank\"].values.reshape(-1, 1)\n",
    "y = YR2015_2019.Happiness_Score.values.reshape(-1, 1)\n",
    "\n",
    "from sklearn.linear_model import LinearRegression\n",
    "modelLR = LinearRegression()\n",
    "modelLR.fit(X, y)\n",
    "x_min = np.array([[X.min()]])\n",
    "x_max = np.array([[X.max()]])\n",
    "\n",
    "y_min = modelLR.predict(x_min)\n",
    "y_max = modelLR.predict(x_max)\n",
    "\n",
    "plt.scatter(X, y, c='blue')\n",
    "plt.plot([x_min[0], x_max[0]], [y_min[0], y_max[0]], c='red')"
   ]
  },
  {
   "cell_type": "code",
   "execution_count": 55,
   "metadata": {},
   "outputs": [
    {
     "data": {
      "text/plain": [
       "[<matplotlib.lines.Line2D at 0x2342aaf2cc8>]"
      ]
     },
     "execution_count": 55,
     "metadata": {},
     "output_type": "execute_result"
    },
    {
     "data": {
      "image/png": "[encoded data removed]",
      "text/plain": [
       "<Figure size 432x288 with 1 Axes>"
      ]
     },
     "metadata": {
      "needs_background": "light"
     },
     "output_type": "display_data"
    }
   ],
   "source": [
    "X = YR2015_2019[\"Happiness_Rank\"].values.reshape(-1, 1)\n",
    "y = YR2015_2019.Life_Expectancy.values.reshape(-1, 1)\n",
    "\n",
    "from sklearn.linear_model import LinearRegression\n",
    "modelLR = LinearRegression()\n",
    "modelLR.fit(X, y)\n",
    "x_min = np.array([[X.min()]])\n",
    "x_max = np.array([[X.max()]])\n",
    "\n",
    "y_min = modelLR.predict(x_min)\n",
    "y_max = modelLR.predict(x_max)\n",
    "\n",
    "plt.scatter(X, y, c='blue')\n",
    "plt.plot([x_min[0], x_max[0]], [y_min[0], y_max[0]], c='red')"
   ]
  },
  {
   "cell_type": "code",
   "execution_count": 99,
   "metadata": {},
   "outputs": [
    {
     "data": {
      "text/plain": [
       "[<matplotlib.lines.Line2D at 0x2342894c9c8>]"
      ]
     },
     "execution_count": 99,
     "metadata": {},
     "output_type": "execute_result"
    },
    {
     "data": {
      "image/png": "[encoded data removed]",
      "text/plain": [
       "<Figure size 432x288 with 1 Axes>"
      ]
     },
     "metadata": {
      "needs_background": "light"
     },
     "output_type": "display_data"
    }
   ],
   "source": [
    "X = YR2015_2019[\"Happiness_Rank\"].values.reshape(-1, 1)\n",
    "y = YR2015_2019.Social_Support.values.reshape(-1, 1)\n",
    "\n",
    "from sklearn.linear_model import LinearRegression\n",
    "modelLR = LinearRegression()\n",
    "modelLR.fit(X, y)\n",
    "x_min = np.array([[X.min()]])\n",
    "x_max = np.array([[X.max()]])\n",
    "\n",
    "y_min = modelLR.predict(x_min)\n",
    "y_max = modelLR.predict(x_max)\n",
    "\n",
    "plt.scatter(X, y, c='blue')\n",
    "plt.plot([x_min[0], x_max[0]], [y_min[0], y_max[0]], c='red')"
   ]
  },
  {
   "cell_type": "code",
   "execution_count": 63,
   "metadata": {},
   "outputs": [],
   "source": [
    "drop_rank = YR2015_2019.drop([\"Happiness_Rank\", \"Year\"], axis = 1)"
   ]
  },
  {
   "cell_type": "code",
   "execution_count": 64,
   "metadata": {},
   "outputs": [
    {
     "data": {
      "application/vnd.plotly.v1+json": {
       "config": {
        "linkText": "Export to plot.ly",
        "plotlyServerURL": "https://plot.ly",
        "showLink": false
       },
       "data": [
        {
         "type": "heatmap",
         "x": [
          "Freedom",
          "GDP",
          "Generosity",
          "Government_Corruption",
          "Happiness_Score",
          "Life_Expectancy",
          "Social_Support"
         ],
         "y": [
          "Freedom",
          "GDP",
          "Generosity",
          "Government_Corruption",
          "Happiness_Score",
          "Life_Expectancy",
          "Social_Support"
         ],
         "z": [
          [
           1,
           0.34051098804616564,
           0.29070551147040413,
           0.4602383605652148,
           0.5512580028944254,
           0.3407451302004376,
           0.4203608351090743
          ],
          [
           0.34051098804616564,
           1,
           -0.014560482336937193,
           0.29998615287494207,
           0.7892839967173199,
           0.7843375705680525,
           0.5859655339315121
          ],
          [
           0.29070551147040413,
           -0.014560482336937193,
           1,
           0.31902271650345443,
           0.1375777339000963,
           0.010638110713674254,
           -0.037261611385385626
          ],
          [
           0.4602383605652148,
           0.29998615287494207,
           0.31902271650345443,
           1,
           0.395791629369504,
           0.24992642568813433,
           0.1276119988417348
          ],
          [
           0.5512580028944254,
           0.7892839967173199,
           0.1375777339000963,
           0.395791629369504,
           1,
           0.7424557422153416,
           0.6487993447615132
          ],
          [
           0.3407451302004376,
           0.7843375705680525,
           0.010638110713674254,
           0.24992642568813433,
           0.7424557422153416,
           1,
           0.5726502620879729
          ],
          [
           0.4203608351090743,
           0.5859655339315121,
           -0.037261611385385626,
           0.1276119988417348,
           0.6487993447615132,
           0.5726502620879729,
           1
          ]
         ]
        }
       ],
       "layout": {
        "template": {
         "data": {
          "bar": [
           {
            "error_x": {
             "color": "#2a3f5f"
            },
            "error_y": {
             "color": "#2a3f5f"
            },
            "marker": {
             "line": {
              "color": "#E5ECF6",
              "width": 0.5
             }
            },
            "type": "bar"
           }
          ],
          "barpolar": [
           {
            "marker": {
             "line": {
              "color": "#E5ECF6",
              "width": 0.5
             }
            },
            "type": "barpolar"
           }
          ],
          "carpet": [
           {
            "aaxis": {
             "endlinecolor": "#2a3f5f",
             "gridcolor": "white",
             "linecolor": "white",
             "minorgridcolor": "white",
             "startlinecolor": "#2a3f5f"
            },
            "baxis": {
             "endlinecolor": "#2a3f5f",
             "gridcolor": "white",
             "linecolor": "white",
             "minorgridcolor": "white",
             "startlinecolor": "#2a3f5f"
            },
            "type": "carpet"
           }
          ],
          "choropleth": [
           {
            "colorbar": {
             "outlinewidth": 0,
             "ticks": ""
            },
            "type": "choropleth"
           }
          ],
          "contour": [
           {
            "colorbar": {
             "outlinewidth": 0,
             "ticks": ""
            },
            "colorscale": [
             [
              0,
              "#0d0887"
             ],
             [
              0.1111111111111111,
              "#46039f"
             ],
             [
              0.2222222222222222,
              "#7201a8"
             ],
             [
              0.3333333333333333,
              "#9c179e"
             ],
             [
              0.4444444444444444,
              "#bd3786"
             ],
             [
              0.5555555555555556,
              "#d8576b"
             ],
             [
              0.6666666666666666,
              "#ed7953"
             ],
             [
              0.7777777777777778,
              "#fb9f3a"
             ],
             [
              0.8888888888888888,
              "#fdca26"
             ],
             [
              1,
              "#f0f921"
             ]
            ],
            "type": "contour"
           }
          ],
          "contourcarpet": [
           {
            "colorbar": {
             "outlinewidth": 0,
             "ticks": ""
            },
            "type": "contourcarpet"
           }
          ],
          "heatmap": [
           {
            "colorbar": {
             "outlinewidth": 0,
             "ticks": ""
            },
            "colorscale": [
             [
              0,
              "#0d0887"
             ],
             [
              0.1111111111111111,
              "#46039f"
             ],
             [
              0.2222222222222222,
              "#7201a8"
             ],
             [
              0.3333333333333333,
              "#9c179e"
             ],
             [
              0.4444444444444444,
              "#bd3786"
             ],
             [
              0.5555555555555556,
              "#d8576b"
             ],
             [
              0.6666666666666666,
              "#ed7953"
             ],
             [
              0.7777777777777778,
              "#fb9f3a"
             ],
             [
              0.8888888888888888,
              "#fdca26"
             ],
             [
              1,
              "#f0f921"
             ]
            ],
            "type": "heatmap"
           }
          ],
          "heatmapgl": [
           {
            "colorbar": {
             "outlinewidth": 0,
             "ticks": ""
            },
            "colorscale": [
             [
              0,
              "#0d0887"
             ],
             [
              0.1111111111111111,
              "#46039f"
             ],
             [
              0.2222222222222222,
              "#7201a8"
             ],
             [
              0.3333333333333333,
              "#9c179e"
             ],
             [
              0.4444444444444444,
              "#bd3786"
             ],
             [
              0.5555555555555556,
              "#d8576b"
             ],
             [
              0.6666666666666666,
              "#ed7953"
             ],
             [
              0.7777777777777778,
              "#fb9f3a"
             ],
             [
              0.8888888888888888,
              "#fdca26"
             ],
             [
              1,
              "#f0f921"
             ]
            ],
            "type": "heatmapgl"
           }
          ],
          "histogram": [
           {
            "marker": {
             "colorbar": {
              "outlinewidth": 0,
              "ticks": ""
             }
            },
            "type": "histogram"
           }
          ],
          "histogram2d": [
           {
            "colorbar": {
             "outlinewidth": 0,
             "ticks": ""
            },
            "colorscale": [
             [
              0,
              "#0d0887"
             ],
             [
              0.1111111111111111,
              "#46039f"
             ],
             [
              0.2222222222222222,
              "#7201a8"
             ],
             [
              0.3333333333333333,
              "#9c179e"
             ],
             [
              0.4444444444444444,
              "#bd3786"
             ],
             [
              0.5555555555555556,
              "#d8576b"
             ],
             [
              0.6666666666666666,
              "#ed7953"
             ],
             [
              0.7777777777777778,
              "#fb9f3a"
             ],
             [
              0.8888888888888888,
              "#fdca26"
             ],
             [
              1,
              "#f0f921"
             ]
            ],
            "type": "histogram2d"
           }
          ],
          "histogram2dcontour": [
           {
            "colorbar": {
             "outlinewidth": 0,
             "ticks": ""
            },
            "colorscale": [
             [
              0,
              "#0d0887"
             ],
             [
              0.1111111111111111,
              "#46039f"
             ],
             [
              0.2222222222222222,
              "#7201a8"
             ],
             [
              0.3333333333333333,
              "#9c179e"
             ],
             [
              0.4444444444444444,
              "#bd3786"
             ],
             [
              0.5555555555555556,
              "#d8576b"
             ],
             [
              0.6666666666666666,
              "#ed7953"
             ],
             [
              0.7777777777777778,
              "#fb9f3a"
             ],
             [
              0.8888888888888888,
              "#fdca26"
             ],
             [
              1,
              "#f0f921"
             ]
            ],
            "type": "histogram2dcontour"
           }
          ],
          "mesh3d": [
           {
            "colorbar": {
             "outlinewidth": 0,
             "ticks": ""
            },
            "type": "mesh3d"
           }
          ],
          "parcoords": [
           {
            "line": {
             "colorbar": {
              "outlinewidth": 0,
              "ticks": ""
             }
            },
            "type": "parcoords"
           }
          ],
          "pie": [
           {
            "automargin": true,
            "type": "pie"
           }
          ],
          "scatter": [
           {
            "marker": {
             "colorbar": {
              "outlinewidth": 0,
              "ticks": ""
             }
            },
            "type": "scatter"
           }
          ],
          "scatter3d": [
           {
            "line": {
             "colorbar": {
              "outlinewidth": 0,
              "ticks": ""
             }
            },
            "marker": {
             "colorbar": {
              "outlinewidth": 0,
              "ticks": ""
             }
            },
            "type": "scatter3d"
           }
          ],
          "scattercarpet": [
           {
            "marker": {
             "colorbar": {
              "outlinewidth": 0,
              "ticks": ""
             }
            },
            "type": "scattercarpet"
           }
          ],
          "scattergeo": [
           {
            "marker": {
             "colorbar": {
              "outlinewidth": 0,
              "ticks": ""
             }
            },
            "type": "scattergeo"
           }
          ],
          "scattergl": [
           {
            "marker": {
             "colorbar": {
              "outlinewidth": 0,
              "ticks": ""
             }
            },
            "type": "scattergl"
           }
          ],
          "scattermapbox": [
           {
            "marker": {
             "colorbar": {
              "outlinewidth": 0,
              "ticks": ""
             }
            },
            "type": "scattermapbox"
           }
          ],
          "scatterpolar": [
           {
            "marker": {
             "colorbar": {
              "outlinewidth": 0,
              "ticks": ""
             }
            },
            "type": "scatterpolar"
           }
          ],
          "scatterpolargl": [
           {
            "marker": {
             "colorbar": {
              "outlinewidth": 0,
              "ticks": ""
             }
            },
            "type": "scatterpolargl"
           }
          ],
          "scatterternary": [
           {
            "marker": {
             "colorbar": {
              "outlinewidth": 0,
              "ticks": ""
             }
            },
            "type": "scatterternary"
           }
          ],
          "surface": [
           {
            "colorbar": {
             "outlinewidth": 0,
             "ticks": ""
            },
            "colorscale": [
             [
              0,
              "#0d0887"
             ],
             [
              0.1111111111111111,
              "#46039f"
             ],
             [
              0.2222222222222222,
              "#7201a8"
             ],
             [
              0.3333333333333333,
              "#9c179e"
             ],
             [
              0.4444444444444444,
              "#bd3786"
             ],
             [
              0.5555555555555556,
              "#d8576b"
             ],
             [
              0.6666666666666666,
              "#ed7953"
             ],
             [
              0.7777777777777778,
              "#fb9f3a"
             ],
             [
              0.8888888888888888,
              "#fdca26"
             ],
             [
              1,
              "#f0f921"
             ]
            ],
            "type": "surface"
           }
          ],
          "table": [
           {
            "cells": {
             "fill": {
              "color": "#EBF0F8"
             },
             "line": {
              "color": "white"
             }
            },
            "header": {
             "fill": {
              "color": "#C8D4E3"
             },
             "line": {
              "color": "white"
             }
            },
            "type": "table"
           }
          ]
         },
         "layout": {
          "annotationdefaults": {
           "arrowcolor": "#2a3f5f",
           "arrowhead": 0,
           "arrowwidth": 1
          },
          "coloraxis": {
           "colorbar": {
            "outlinewidth": 0,
            "ticks": ""
           }
          },
          "colorscale": {
           "diverging": [
            [
             0,
             "#8e0152"
            ],
            [
             0.1,
             "#c51b7d"
            ],
            [
             0.2,
             "#de77ae"
            ],
            [
             0.3,
             "#f1b6da"
            ],
            [
             0.4,
             "#fde0ef"
            ],
            [
             0.5,
             "#f7f7f7"
            ],
            [
             0.6,
             "#e6f5d0"
            ],
            [
             0.7,
             "#b8e186"
            ],
            [
             0.8,
             "#7fbc41"
            ],
            [
             0.9,
             "#4d9221"
            ],
            [
             1,
             "#276419"
            ]
           ],
           "sequential": [
            [
             0,
             "#0d0887"
            ],
            [
             0.1111111111111111,
             "#46039f"
            ],
            [
             0.2222222222222222,
             "#7201a8"
            ],
            [
             0.3333333333333333,
             "#9c179e"
            ],
            [
             0.4444444444444444,
             "#bd3786"
            ],
            [
             0.5555555555555556,
             "#d8576b"
            ],
            [
             0.6666666666666666,
             "#ed7953"
            ],
            [
             0.7777777777777778,
             "#fb9f3a"
            ],
            [
             0.8888888888888888,
             "#fdca26"
            ],
            [
             1,
             "#f0f921"
            ]
           ],
           "sequentialminus": [
            [
             0,
             "#0d0887"
            ],
            [
             0.1111111111111111,
             "#46039f"
            ],
            [
             0.2222222222222222,
             "#7201a8"
            ],
            [
             0.3333333333333333,
             "#9c179e"
            ],
            [
             0.4444444444444444,
             "#bd3786"
            ],
            [
             0.5555555555555556,
             "#d8576b"
            ],
            [
             0.6666666666666666,
             "#ed7953"
            ],
            [
             0.7777777777777778,
             "#fb9f3a"
            ],
            [
             0.8888888888888888,
             "#fdca26"
            ],
            [
             1,
             "#f0f921"
            ]
           ]
          },
          "colorway": [
           "#636efa",
           "#EF553B",
           "#00cc96",
           "#ab63fa",
           "#FFA15A",
           "#19d3f3",
           "#FF6692",
           "#B6E880",
           "#FF97FF",
           "#FECB52"
          ],
          "font": {
           "color": "#2a3f5f"
          },
          "geo": {
           "bgcolor": "white",
           "lakecolor": "white",
           "landcolor": "#E5ECF6",
           "showlakes": true,
           "showland": true,
           "subunitcolor": "white"
          },
          "hoverlabel": {
           "align": "left"
          },
          "hovermode": "closest",
          "mapbox": {
           "style": "light"
          },
          "paper_bgcolor": "white",
          "plot_bgcolor": "#E5ECF6",
          "polar": {
           "angularaxis": {
            "gridcolor": "white",
            "linecolor": "white",
            "ticks": ""
           },
           "bgcolor": "#E5ECF6",
           "radialaxis": {
            "gridcolor": "white",
            "linecolor": "white",
            "ticks": ""
           }
          },
          "scene": {
           "xaxis": {
            "backgroundcolor": "#E5ECF6",
            "gridcolor": "white",
            "gridwidth": 2,
            "linecolor": "white",
            "showbackground": true,
            "ticks": "",
            "zerolinecolor": "white"
           },
           "yaxis": {
            "backgroundcolor": "#E5ECF6",
            "gridcolor": "white",
            "gridwidth": 2,
            "linecolor": "white",
            "showbackground": true,
            "ticks": "",
            "zerolinecolor": "white"
           },
           "zaxis": {
            "backgroundcolor": "#E5ECF6",
            "gridcolor": "white",
            "gridwidth": 2,
            "linecolor": "white",
            "showbackground": true,
            "ticks": "",
            "zerolinecolor": "white"
           }
          },
          "shapedefaults": {
           "line": {
            "color": "#2a3f5f"
           }
          },
          "ternary": {
           "aaxis": {
            "gridcolor": "white",
            "linecolor": "white",
            "ticks": ""
           },
           "baxis": {
            "gridcolor": "white",
            "linecolor": "white",
            "ticks": ""
           },
           "bgcolor": "#E5ECF6",
           "caxis": {
            "gridcolor": "white",
            "linecolor": "white",
            "ticks": ""
           }
          },
          "title": {
           "x": 0.05
          },
          "xaxis": {
           "automargin": true,
           "gridcolor": "white",
           "linecolor": "white",
           "ticks": "",
           "title": {
            "standoff": 15
           },
           "zerolinecolor": "white",
           "zerolinewidth": 2
          },
          "yaxis": {
           "automargin": true,
           "gridcolor": "white",
           "linecolor": "white",
           "ticks": "",
           "title": {
            "standoff": 15
           },
           "zerolinecolor": "white",
           "zerolinewidth": 2
          }
         }
        }
       }
      },
      "text/html": [
       "<div>\n",
       "        \n",
       "        \n",
       "            <div id=\"e98c47d1-06f7-4159-b5c8-8afb91d544fc\" class=\"plotly-graph-div\" style=\"height:525px; width:100%;\"></div>\n",
       "            <script type=\"text/javascript\">\n",
       "                require([\"plotly\"], function(Plotly) {\n",
       "                    window.PLOTLYENV=window.PLOTLYENV || {};\n",
       "                    \n",
       "                if (document.getElementById(\"e98c47d1-06f7-4159-b5c8-8afb91d544fc\")) {\n",
       "                    Plotly.newPlot(\n",
       "                        'e98c47d1-06f7-4159-b5c8-8afb91d544fc',\n",
       "                        [{\"type\": \"heatmap\", \"x\": [\"Freedom\", \"GDP\", \"Generosity\", \"Government_Corruption\", \"Happiness_Score\", \"Life_Expectancy\", \"Social_Support\"], \"y\": [\"Freedom\", \"GDP\", \"Generosity\", \"Government_Corruption\", \"Happiness_Score\", \"Life_Expectancy\", \"Social_Support\"], \"z\": [[1.0, 0.34051098804616564, 0.29070551147040413, 0.4602383605652148, 0.5512580028944254, 0.3407451302004376, 0.4203608351090743], [0.34051098804616564, 1.0, -0.014560482336937193, 0.29998615287494207, 0.7892839967173199, 0.7843375705680525, 0.5859655339315121], [0.29070551147040413, -0.014560482336937193, 1.0, 0.31902271650345443, 0.1375777339000963, 0.010638110713674254, -0.037261611385385626], [0.4602383605652148, 0.29998615287494207, 0.31902271650345443, 1.0, 0.395791629369504, 0.24992642568813433, 0.1276119988417348], [0.5512580028944254, 0.7892839967173199, 0.1375777339000963, 0.395791629369504, 1.0, 0.7424557422153416, 0.6487993447615132], [0.3407451302004376, 0.7843375705680525, 0.010638110713674254, 0.24992642568813433, 0.7424557422153416, 1.0, 0.5726502620879729], [0.4203608351090743, 0.5859655339315121, -0.037261611385385626, 0.1276119988417348, 0.6487993447615132, 0.5726502620879729, 1.0]]}],\n",
       "                        {\"template\": {\"data\": {\"bar\": [{\"error_x\": {\"color\": \"#2a3f5f\"}, \"error_y\": {\"color\": \"#2a3f5f\"}, \"marker\": {\"line\": {\"color\": \"#E5ECF6\", \"width\": 0.5}}, \"type\": \"bar\"}], \"barpolar\": [{\"marker\": {\"line\": {\"color\": \"#E5ECF6\", \"width\": 0.5}}, \"type\": \"barpolar\"}], \"carpet\": [{\"aaxis\": {\"endlinecolor\": \"#2a3f5f\", \"gridcolor\": \"white\", \"linecolor\": \"white\", \"minorgridcolor\": \"white\", \"startlinecolor\": \"#2a3f5f\"}, \"baxis\": {\"endlinecolor\": \"#2a3f5f\", \"gridcolor\": \"white\", \"linecolor\": \"white\", \"minorgridcolor\": \"white\", \"startlinecolor\": \"#2a3f5f\"}, \"type\": \"carpet\"}], \"choropleth\": [{\"colorbar\": {\"outlinewidth\": 0, \"ticks\": \"\"}, \"type\": \"choropleth\"}], \"contour\": [{\"colorbar\": {\"outlinewidth\": 0, \"ticks\": \"\"}, \"colorscale\": [[0.0, \"#0d0887\"], [0.1111111111111111, \"#46039f\"], [0.2222222222222222, \"#7201a8\"], [0.3333333333333333, \"#9c179e\"], [0.4444444444444444, \"#bd3786\"], [0.5555555555555556, \"#d8576b\"], [0.6666666666666666, \"#ed7953\"], [0.7777777777777778, \"#fb9f3a\"], [0.8888888888888888, \"#fdca26\"], [1.0, \"#f0f921\"]], \"type\": \"contour\"}], \"contourcarpet\": [{\"colorbar\": {\"outlinewidth\": 0, \"ticks\": \"\"}, \"type\": \"contourcarpet\"}], \"heatmap\": [{\"colorbar\": {\"outlinewidth\": 0, \"ticks\": \"\"}, \"colorscale\": [[0.0, \"#0d0887\"], [0.1111111111111111, \"#46039f\"], [0.2222222222222222, \"#7201a8\"], [0.3333333333333333, \"#9c179e\"], [0.4444444444444444, \"#bd3786\"], [0.5555555555555556, \"#d8576b\"], [0.6666666666666666, \"#ed7953\"], [0.7777777777777778, \"#fb9f3a\"], [0.8888888888888888, \"#fdca26\"], [1.0, \"#f0f921\"]], \"type\": \"heatmap\"}], \"heatmapgl\": [{\"colorbar\": {\"outlinewidth\": 0, \"ticks\": \"\"}, \"colorscale\": [[0.0, \"#0d0887\"], [0.1111111111111111, \"#46039f\"], [0.2222222222222222, \"#7201a8\"], [0.3333333333333333, \"#9c179e\"], [0.4444444444444444, \"#bd3786\"], [0.5555555555555556, \"#d8576b\"], [0.6666666666666666, \"#ed7953\"], [0.7777777777777778, \"#fb9f3a\"], [0.8888888888888888, \"#fdca26\"], [1.0, \"#f0f921\"]], \"type\": \"heatmapgl\"}], \"histogram\": [{\"marker\": {\"colorbar\": {\"outlinewidth\": 0, \"ticks\": \"\"}}, \"type\": \"histogram\"}], \"histogram2d\": [{\"colorbar\": {\"outlinewidth\": 0, \"ticks\": \"\"}, \"colorscale\": [[0.0, \"#0d0887\"], [0.1111111111111111, \"#46039f\"], [0.2222222222222222, \"#7201a8\"], [0.3333333333333333, \"#9c179e\"], [0.4444444444444444, \"#bd3786\"], [0.5555555555555556, \"#d8576b\"], [0.6666666666666666, \"#ed7953\"], [0.7777777777777778, \"#fb9f3a\"], [0.8888888888888888, \"#fdca26\"], [1.0, \"#f0f921\"]], \"type\": \"histogram2d\"}], \"histogram2dcontour\": [{\"colorbar\": {\"outlinewidth\": 0, \"ticks\": \"\"}, \"colorscale\": [[0.0, \"#0d0887\"], [0.1111111111111111, \"#46039f\"], [0.2222222222222222, \"#7201a8\"], [0.3333333333333333, \"#9c179e\"], [0.4444444444444444, \"#bd3786\"], [0.5555555555555556, \"#d8576b\"], [0.6666666666666666, \"#ed7953\"], [0.7777777777777778, \"#fb9f3a\"], [0.8888888888888888, \"#fdca26\"], [1.0, \"#f0f921\"]], \"type\": \"histogram2dcontour\"}], \"mesh3d\": [{\"colorbar\": {\"outlinewidth\": 0, \"ticks\": \"\"}, \"type\": \"mesh3d\"}], \"parcoords\": [{\"line\": {\"colorbar\": {\"outlinewidth\": 0, \"ticks\": \"\"}}, \"type\": \"parcoords\"}], \"pie\": [{\"automargin\": true, \"type\": \"pie\"}], \"scatter\": [{\"marker\": {\"colorbar\": {\"outlinewidth\": 0, \"ticks\": \"\"}}, \"type\": \"scatter\"}], \"scatter3d\": [{\"line\": {\"colorbar\": {\"outlinewidth\": 0, \"ticks\": \"\"}}, \"marker\": {\"colorbar\": {\"outlinewidth\": 0, \"ticks\": \"\"}}, \"type\": \"scatter3d\"}], \"scattercarpet\": [{\"marker\": {\"colorbar\": {\"outlinewidth\": 0, \"ticks\": \"\"}}, \"type\": \"scattercarpet\"}], \"scattergeo\": [{\"marker\": {\"colorbar\": {\"outlinewidth\": 0, \"ticks\": \"\"}}, \"type\": \"scattergeo\"}], \"scattergl\": [{\"marker\": {\"colorbar\": {\"outlinewidth\": 0, \"ticks\": \"\"}}, \"type\": \"scattergl\"}], \"scattermapbox\": [{\"marker\": {\"colorbar\": {\"outlinewidth\": 0, \"ticks\": \"\"}}, \"type\": \"scattermapbox\"}], \"scatterpolar\": [{\"marker\": {\"colorbar\": {\"outlinewidth\": 0, \"ticks\": \"\"}}, \"type\": \"scatterpolar\"}], \"scatterpolargl\": [{\"marker\": {\"colorbar\": {\"outlinewidth\": 0, \"ticks\": \"\"}}, \"type\": \"scatterpolargl\"}], \"scatterternary\": [{\"marker\": {\"colorbar\": {\"outlinewidth\": 0, \"ticks\": \"\"}}, \"type\": \"scatterternary\"}], \"surface\": [{\"colorbar\": {\"outlinewidth\": 0, \"ticks\": \"\"}, \"colorscale\": [[0.0, \"#0d0887\"], [0.1111111111111111, \"#46039f\"], [0.2222222222222222, \"#7201a8\"], [0.3333333333333333, \"#9c179e\"], [0.4444444444444444, \"#bd3786\"], [0.5555555555555556, \"#d8576b\"], [0.6666666666666666, \"#ed7953\"], [0.7777777777777778, \"#fb9f3a\"], [0.8888888888888888, \"#fdca26\"], [1.0, \"#f0f921\"]], \"type\": \"surface\"}], \"table\": [{\"cells\": {\"fill\": {\"color\": \"#EBF0F8\"}, \"line\": {\"color\": \"white\"}}, \"header\": {\"fill\": {\"color\": \"#C8D4E3\"}, \"line\": {\"color\": \"white\"}}, \"type\": \"table\"}]}, \"layout\": {\"annotationdefaults\": {\"arrowcolor\": \"#2a3f5f\", \"arrowhead\": 0, \"arrowwidth\": 1}, \"coloraxis\": {\"colorbar\": {\"outlinewidth\": 0, \"ticks\": \"\"}}, \"colorscale\": {\"diverging\": [[0, \"#8e0152\"], [0.1, \"#c51b7d\"], [0.2, \"#de77ae\"], [0.3, \"#f1b6da\"], [0.4, \"#fde0ef\"], [0.5, \"#f7f7f7\"], [0.6, \"#e6f5d0\"], [0.7, \"#b8e186\"], [0.8, \"#7fbc41\"], [0.9, \"#4d9221\"], [1, \"#276419\"]], \"sequential\": [[0.0, \"#0d0887\"], [0.1111111111111111, \"#46039f\"], [0.2222222222222222, \"#7201a8\"], [0.3333333333333333, \"#9c179e\"], [0.4444444444444444, \"#bd3786\"], [0.5555555555555556, \"#d8576b\"], [0.6666666666666666, \"#ed7953\"], [0.7777777777777778, \"#fb9f3a\"], [0.8888888888888888, \"#fdca26\"], [1.0, \"#f0f921\"]], \"sequentialminus\": [[0.0, \"#0d0887\"], [0.1111111111111111, \"#46039f\"], [0.2222222222222222, \"#7201a8\"], [0.3333333333333333, \"#9c179e\"], [0.4444444444444444, \"#bd3786\"], [0.5555555555555556, \"#d8576b\"], [0.6666666666666666, \"#ed7953\"], [0.7777777777777778, \"#fb9f3a\"], [0.8888888888888888, \"#fdca26\"], [1.0, \"#f0f921\"]]}, \"colorway\": [\"#636efa\", \"#EF553B\", \"#00cc96\", \"#ab63fa\", \"#FFA15A\", \"#19d3f3\", \"#FF6692\", \"#B6E880\", \"#FF97FF\", \"#FECB52\"], \"font\": {\"color\": \"#2a3f5f\"}, \"geo\": {\"bgcolor\": \"white\", \"lakecolor\": \"white\", \"landcolor\": \"#E5ECF6\", \"showlakes\": true, \"showland\": true, \"subunitcolor\": \"white\"}, \"hoverlabel\": {\"align\": \"left\"}, \"hovermode\": \"closest\", \"mapbox\": {\"style\": \"light\"}, \"paper_bgcolor\": \"white\", \"plot_bgcolor\": \"#E5ECF6\", \"polar\": {\"angularaxis\": {\"gridcolor\": \"white\", \"linecolor\": \"white\", \"ticks\": \"\"}, \"bgcolor\": \"#E5ECF6\", \"radialaxis\": {\"gridcolor\": \"white\", \"linecolor\": \"white\", \"ticks\": \"\"}}, \"scene\": {\"xaxis\": {\"backgroundcolor\": \"#E5ECF6\", \"gridcolor\": \"white\", \"gridwidth\": 2, \"linecolor\": \"white\", \"showbackground\": true, \"ticks\": \"\", \"zerolinecolor\": \"white\"}, \"yaxis\": {\"backgroundcolor\": \"#E5ECF6\", \"gridcolor\": \"white\", \"gridwidth\": 2, \"linecolor\": \"white\", \"showbackground\": true, \"ticks\": \"\", \"zerolinecolor\": \"white\"}, \"zaxis\": {\"backgroundcolor\": \"#E5ECF6\", \"gridcolor\": \"white\", \"gridwidth\": 2, \"linecolor\": \"white\", \"showbackground\": true, \"ticks\": \"\", \"zerolinecolor\": \"white\"}}, \"shapedefaults\": {\"line\": {\"color\": \"#2a3f5f\"}}, \"ternary\": {\"aaxis\": {\"gridcolor\": \"white\", \"linecolor\": \"white\", \"ticks\": \"\"}, \"baxis\": {\"gridcolor\": \"white\", \"linecolor\": \"white\", \"ticks\": \"\"}, \"bgcolor\": \"#E5ECF6\", \"caxis\": {\"gridcolor\": \"white\", \"linecolor\": \"white\", \"ticks\": \"\"}}, \"title\": {\"x\": 0.05}, \"xaxis\": {\"automargin\": true, \"gridcolor\": \"white\", \"linecolor\": \"white\", \"ticks\": \"\", \"title\": {\"standoff\": 15}, \"zerolinecolor\": \"white\", \"zerolinewidth\": 2}, \"yaxis\": {\"automargin\": true, \"gridcolor\": \"white\", \"linecolor\": \"white\", \"ticks\": \"\", \"title\": {\"standoff\": 15}, \"zerolinecolor\": \"white\", \"zerolinewidth\": 2}}}},\n",
       "                        {\"responsive\": true}\n",
       "                    ).then(function(){\n",
       "                            \n",
       "var gd = document.getElementById('e98c47d1-06f7-4159-b5c8-8afb91d544fc');\n",
       "var x = new MutationObserver(function (mutations, observer) {{\n",
       "        var display = window.getComputedStyle(gd).display;\n",
       "        if (!display || display === 'none') {{\n",
       "            console.log([gd, 'removed!']);\n",
       "            Plotly.purge(gd);\n",
       "            observer.disconnect();\n",
       "        }}\n",
       "}});\n",
       "\n",
       "// Listen for the removal of the full notebook cells\n",
       "var notebookContainer = gd.closest('#notebook-container');\n",
       "if (notebookContainer) {{\n",
       "    x.observe(notebookContainer, {childList: true});\n",
       "}}\n",
       "\n",
       "// Listen for the clearing of the current output cell\n",
       "var outputEl = gd.closest('.output');\n",
       "if (outputEl) {{\n",
       "    x.observe(outputEl, {childList: true});\n",
       "}}\n",
       "\n",
       "                        })\n",
       "                };\n",
       "                });\n",
       "            </script>\n",
       "        </div>"
      ]
     },
     "metadata": {},
     "output_type": "display_data"
    }
   ],
   "source": [
    "corr_matrix_happy = drop_rank.corr()\n",
    "trace_corr_happy = go.Heatmap(z=np.array(corr_matrix_happy), x=corr_matrix_happy.columns, y=corr_matrix_happy.columns)\n",
    "data_happy=[trace_corr_happy]\n",
    "iplot(data_happy)"
   ]
  },
  {
   "cell_type": "code",
   "execution_count": 65,
   "metadata": {},
   "outputs": [
    {
     "data": {
      "text/html": [
       "<div>\n",
       "<style scoped>\n",
       "    .dataframe tbody tr th:only-of-type {\n",
       "        vertical-align: middle;\n",
       "    }\n",
       "\n",
       "    .dataframe tbody tr th {\n",
       "        vertical-align: top;\n",
       "    }\n",
       "\n",
       "    .dataframe thead th {\n",
       "        text-align: right;\n",
       "    }\n",
       "</style>\n",
       "<table border=\"1\" class=\"dataframe\">\n",
       "  <thead>\n",
       "    <tr style=\"text-align: right;\">\n",
       "      <th></th>\n",
       "      <th>Features</th>\n",
       "      <th>Coefficents</th>\n",
       "    </tr>\n",
       "  </thead>\n",
       "  <tbody>\n",
       "    <tr>\n",
       "      <td>0</td>\n",
       "      <td>GDP</td>\n",
       "      <td>0.849983</td>\n",
       "    </tr>\n",
       "    <tr>\n",
       "      <td>1</td>\n",
       "      <td>Freedom</td>\n",
       "      <td>1.657196</td>\n",
       "    </tr>\n",
       "    <tr>\n",
       "      <td>2</td>\n",
       "      <td>Generosity</td>\n",
       "      <td>0.354902</td>\n",
       "    </tr>\n",
       "    <tr>\n",
       "      <td>3</td>\n",
       "      <td>Government_Corruption</td>\n",
       "      <td>0.877458</td>\n",
       "    </tr>\n",
       "    <tr>\n",
       "      <td>4</td>\n",
       "      <td>Life_Expectancy</td>\n",
       "      <td>1.008688</td>\n",
       "    </tr>\n",
       "    <tr>\n",
       "      <td>5</td>\n",
       "      <td>Social_Support</td>\n",
       "      <td>1.125802</td>\n",
       "    </tr>\n",
       "  </tbody>\n",
       "</table>\n",
       "</div>"
      ],
      "text/plain": [
       "                Features  Coefficents\n",
       "0                    GDP     0.849983\n",
       "1                Freedom     1.657196\n",
       "2             Generosity     0.354902\n",
       "3  Government_Corruption     0.877458\n",
       "4        Life_Expectancy     1.008688\n",
       "5         Social_Support     1.125802"
      ]
     },
     "execution_count": 65,
     "metadata": {},
     "output_type": "execute_result"
    }
   ],
   "source": [
    "coef2 = zip(X2.columns, lm2.coef_)\n",
    "coef_df2 = pd.DataFrame(list(zip(X2.columns, lm2.coef_)), columns=['Features', 'Coefficents'])\n",
    "coef_df2"
   ]
  },
  {
   "cell_type": "code",
   "execution_count": 80,
   "metadata": {},
   "outputs": [
    {
     "name": "stdout",
     "output_type": "stream",
     "text": [
      "(170, 7) (170,)\n"
     ]
    }
   ],
   "source": [
    "# Assign X (data) and y (target)\n",
    "X = Groupby_.drop(\"Happiness_Score\", axis=1)\n",
    "y = Groupby_[\"Happiness_Score\"]\n",
    "print(X.shape, y.shape)"
   ]
  },
  {
   "cell_type": "code",
   "execution_count": 81,
   "metadata": {},
   "outputs": [],
   "source": [
    "from sklearn.model_selection import train_test_split\n",
    "#What in the world is the #1 for in random_state???\n",
    "X_train, X_test, y_train, y_test = train_test_split(X, y, random_state=1)"
   ]
  },
  {
   "cell_type": "code",
   "execution_count": 93,
   "metadata": {},
   "outputs": [
    {
     "data": {
      "text/plain": [
       "LinearRegression(copy_X=True, fit_intercept=True, n_jobs=None, normalize=False)"
      ]
     },
     "execution_count": 93,
     "metadata": {},
     "output_type": "execute_result"
    }
   ],
   "source": [
    "from sklearn.linear_model import LinearRegression\n",
    "classifier = LinearRegression()\n",
    "classifier"
   ]
  },
  {
   "cell_type": "code",
   "execution_count": 94,
   "metadata": {},
   "outputs": [
    {
     "ename": "ValueError",
     "evalue": "could not convert string to float: 'Lithuania'",
     "output_type": "error",
     "traceback": [
      "\u001b[1;31m---------------------------------------------------------------------------\u001b[0m",
      "\u001b[1;31mValueError\u001b[0m                                Traceback (most recent call last)",
      "\u001b[1;32m<ipython-input-94-f44724590846>\u001b[0m in \u001b[0;36m<module>\u001b[1;34m\u001b[0m\n\u001b[1;32m----> 1\u001b[1;33m \u001b[0mclassifier\u001b[0m\u001b[1;33m.\u001b[0m\u001b[0mfit\u001b[0m\u001b[1;33m(\u001b[0m\u001b[0mX_train\u001b[0m\u001b[1;33m,\u001b[0m \u001b[0my_train\u001b[0m\u001b[1;33m)\u001b[0m\u001b[1;33m\u001b[0m\u001b[1;33m\u001b[0m\u001b[0m\n\u001b[0m",
      "\u001b[1;32m~\\Anaconda3\\lib\\site-packages\\sklearn\\linear_model\\base.py\u001b[0m in \u001b[0;36mfit\u001b[1;34m(self, X, y, sample_weight)\u001b[0m\n\u001b[0;32m    461\u001b[0m         \u001b[0mn_jobs_\u001b[0m \u001b[1;33m=\u001b[0m \u001b[0mself\u001b[0m\u001b[1;33m.\u001b[0m\u001b[0mn_jobs\u001b[0m\u001b[1;33m\u001b[0m\u001b[1;33m\u001b[0m\u001b[0m\n\u001b[0;32m    462\u001b[0m         X, y = check_X_y(X, y, accept_sparse=['csr', 'csc', 'coo'],\n\u001b[1;32m--> 463\u001b[1;33m                          y_numeric=True, multi_output=True)\n\u001b[0m\u001b[0;32m    464\u001b[0m \u001b[1;33m\u001b[0m\u001b[0m\n\u001b[0;32m    465\u001b[0m         \u001b[1;32mif\u001b[0m \u001b[0msample_weight\u001b[0m \u001b[1;32mis\u001b[0m \u001b[1;32mnot\u001b[0m \u001b[1;32mNone\u001b[0m \u001b[1;32mand\u001b[0m \u001b[0mnp\u001b[0m\u001b[1;33m.\u001b[0m\u001b[0matleast_1d\u001b[0m\u001b[1;33m(\u001b[0m\u001b[0msample_weight\u001b[0m\u001b[1;33m)\u001b[0m\u001b[1;33m.\u001b[0m\u001b[0mndim\u001b[0m \u001b[1;33m>\u001b[0m \u001b[1;36m1\u001b[0m\u001b[1;33m:\u001b[0m\u001b[1;33m\u001b[0m\u001b[1;33m\u001b[0m\u001b[0m\n",
      "\u001b[1;32m~\\Anaconda3\\lib\\site-packages\\sklearn\\utils\\validation.py\u001b[0m in \u001b[0;36mcheck_X_y\u001b[1;34m(X, y, accept_sparse, accept_large_sparse, dtype, order, copy, force_all_finite, ensure_2d, allow_nd, multi_output, ensure_min_samples, ensure_min_features, y_numeric, warn_on_dtype, estimator)\u001b[0m\n\u001b[0;32m    717\u001b[0m                     \u001b[0mensure_min_features\u001b[0m\u001b[1;33m=\u001b[0m\u001b[0mensure_min_features\u001b[0m\u001b[1;33m,\u001b[0m\u001b[1;33m\u001b[0m\u001b[1;33m\u001b[0m\u001b[0m\n\u001b[0;32m    718\u001b[0m                     \u001b[0mwarn_on_dtype\u001b[0m\u001b[1;33m=\u001b[0m\u001b[0mwarn_on_dtype\u001b[0m\u001b[1;33m,\u001b[0m\u001b[1;33m\u001b[0m\u001b[1;33m\u001b[0m\u001b[0m\n\u001b[1;32m--> 719\u001b[1;33m                     estimator=estimator)\n\u001b[0m\u001b[0;32m    720\u001b[0m     \u001b[1;32mif\u001b[0m \u001b[0mmulti_output\u001b[0m\u001b[1;33m:\u001b[0m\u001b[1;33m\u001b[0m\u001b[1;33m\u001b[0m\u001b[0m\n\u001b[0;32m    721\u001b[0m         y = check_array(y, 'csr', force_all_finite=True, ensure_2d=False,\n",
      "\u001b[1;32m~\\Anaconda3\\lib\\site-packages\\sklearn\\utils\\validation.py\u001b[0m in \u001b[0;36mcheck_array\u001b[1;34m(array, accept_sparse, accept_large_sparse, dtype, order, copy, force_all_finite, ensure_2d, allow_nd, ensure_min_samples, ensure_min_features, warn_on_dtype, estimator)\u001b[0m\n\u001b[0;32m    534\u001b[0m         \u001b[1;31m# make sure we actually converted to numeric:\u001b[0m\u001b[1;33m\u001b[0m\u001b[1;33m\u001b[0m\u001b[1;33m\u001b[0m\u001b[0m\n\u001b[0;32m    535\u001b[0m         \u001b[1;32mif\u001b[0m \u001b[0mdtype_numeric\u001b[0m \u001b[1;32mand\u001b[0m \u001b[0marray\u001b[0m\u001b[1;33m.\u001b[0m\u001b[0mdtype\u001b[0m\u001b[1;33m.\u001b[0m\u001b[0mkind\u001b[0m \u001b[1;33m==\u001b[0m \u001b[1;34m\"O\"\u001b[0m\u001b[1;33m:\u001b[0m\u001b[1;33m\u001b[0m\u001b[1;33m\u001b[0m\u001b[0m\n\u001b[1;32m--> 536\u001b[1;33m             \u001b[0marray\u001b[0m \u001b[1;33m=\u001b[0m \u001b[0marray\u001b[0m\u001b[1;33m.\u001b[0m\u001b[0mastype\u001b[0m\u001b[1;33m(\u001b[0m\u001b[0mnp\u001b[0m\u001b[1;33m.\u001b[0m\u001b[0mfloat64\u001b[0m\u001b[1;33m)\u001b[0m\u001b[1;33m\u001b[0m\u001b[1;33m\u001b[0m\u001b[0m\n\u001b[0m\u001b[0;32m    537\u001b[0m         \u001b[1;32mif\u001b[0m \u001b[1;32mnot\u001b[0m \u001b[0mallow_nd\u001b[0m \u001b[1;32mand\u001b[0m \u001b[0marray\u001b[0m\u001b[1;33m.\u001b[0m\u001b[0mndim\u001b[0m \u001b[1;33m>=\u001b[0m \u001b[1;36m3\u001b[0m\u001b[1;33m:\u001b[0m\u001b[1;33m\u001b[0m\u001b[1;33m\u001b[0m\u001b[0m\n\u001b[0;32m    538\u001b[0m             raise ValueError(\"Found array with dim %d. %s expected <= 2.\"\n",
      "\u001b[1;31mValueError\u001b[0m: could not convert string to float: 'Lithuania'"
     ]
    }
   ],
   "source": [
    "classifier.fit(X_train, y_train)"
   ]
  },
  {
   "cell_type": "code",
   "execution_count": null,
   "metadata": {},
   "outputs": [],
   "source": []
  }
 ],
 "metadata": {
  "kernelspec": {
   "display_name": "Python 3",
   "language": "python",
   "name": "python3"
  },
  "language_info": {
   "codemirror_mode": {
    "name": "ipython",
    "version": 3
   },
   "file_extension": ".py",
   "mimetype": "text/x-python",
   "name": "python",
   "nbconvert_exporter": "python",
   "pygments_lexer": "ipython3",
   "version": "3.7.4"
  }
 },
 "nbformat": 4,
 "nbformat_minor": 2
}
